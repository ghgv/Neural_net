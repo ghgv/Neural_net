{
  "nbformat": 4,
  "nbformat_minor": 0,
  "metadata": {
    "colab": {
      "name": "EjercicioClasePreparaciondeTexto2.ipynb",
      "provenance": [],
      "collapsed_sections": []
    },
    "kernelspec": {
      "name": "python3",
      "display_name": "Python 3"
    },
    "language_info": {
      "name": "python"
    }
  },
  "cells": [
    {
      "cell_type": "markdown",
      "metadata": {
        "id": "wkkNhsKL2JJt"
      },
      "source": [
        "# Ejemplo de Pre-procesamiento de Texto en Español: Limpieza, normalización y NER\n",
        "**Objetivo**: Practicar los procesos de limpieza, normalización y reconocimiento de entidades nombradasen Python.\n",
        "\n",
        "Autor: Alexandra Pomares Q"
      ]
    },
    {
      "cell_type": "markdown",
      "metadata": {
        "id": "VZquy9rD5tXN"
      },
      "source": [
        "#Agenda\n",
        "\n",
        "1. Instalación\n",
        "2. Importación librerías\n",
        "3. Filtrado de ruido de origen\n",
        "4. Normalización mayúscula y minúscula\n",
        "5. Eliminación de acentos y demás diacríticos\n",
        "6. Corrección de errores de ortografía\n",
        "7. Filtrado a nivel de token\n",
        "8. Filtrado de tokens basado en reglas \n",
        "9. Reconocimiento de entidades nombradas"
      ]
    },
    {
      "cell_type": "markdown",
      "metadata": {
        "id": "8fERLjuk3MMM"
      },
      "source": [
        "# Instalación\n",
        "!python -m spacy download es_core_news_lg\n",
        "### Después de instalarlo reiniciar el entorno de ejecución con Ctrl + M + . o con Entorno de ejecución/ Reiniciar entorno de ejecución\n",
        "### Atención, al reiniciarlo todas las variables cargadas en el entorno se reinician."
      ]
    },
    {
      "cell_type": "code",
      "metadata": {
        "colab": {
          "base_uri": "https://localhost:8080/"
        },
        "id": "GlOmb94M7O4v",
        "outputId": "236fa52e-4b01-48d3-ba38-b8e2ece597a6"
      },
      "source": [
        "!pip install --upgrade spacy"
      ],
      "execution_count": 1,
      "outputs": [
        {
          "output_type": "stream",
          "text": [
            "Requirement already satisfied: spacy in /usr/local/lib/python3.7/dist-packages (2.2.4)\n",
            "Collecting spacy\n",
            "  Downloading spacy-3.1.1-cp37-cp37m-manylinux_2_17_x86_64.manylinux2014_x86_64.whl (6.4 MB)\n",
            "\u001b[K     |████████████████████████████████| 6.4 MB 6.6 MB/s \n",
            "\u001b[?25hRequirement already satisfied: murmurhash<1.1.0,>=0.28.0 in /usr/local/lib/python3.7/dist-packages (from spacy) (1.0.5)\n",
            "Collecting typer<0.4.0,>=0.3.0\n",
            "  Downloading typer-0.3.2-py3-none-any.whl (21 kB)\n",
            "Collecting pathy>=0.3.5\n",
            "  Downloading pathy-0.6.0-py3-none-any.whl (42 kB)\n",
            "\u001b[K     |████████████████████████████████| 42 kB 1.0 MB/s \n",
            "\u001b[?25hCollecting catalogue<2.1.0,>=2.0.4\n",
            "  Downloading catalogue-2.0.4-py3-none-any.whl (16 kB)\n",
            "Requirement already satisfied: jinja2 in /usr/local/lib/python3.7/dist-packages (from spacy) (2.11.3)\n",
            "Collecting srsly<3.0.0,>=2.4.1\n",
            "  Downloading srsly-2.4.1-cp37-cp37m-manylinux2014_x86_64.whl (456 kB)\n",
            "\u001b[K     |████████████████████████████████| 456 kB 30.1 MB/s \n",
            "\u001b[?25hRequirement already satisfied: blis<0.8.0,>=0.4.0 in /usr/local/lib/python3.7/dist-packages (from spacy) (0.4.1)\n",
            "Requirement already satisfied: tqdm<5.0.0,>=4.38.0 in /usr/local/lib/python3.7/dist-packages (from spacy) (4.41.1)\n",
            "Requirement already satisfied: packaging>=20.0 in /usr/local/lib/python3.7/dist-packages (from spacy) (21.0)\n",
            "Collecting spacy-legacy<3.1.0,>=3.0.7\n",
            "  Downloading spacy_legacy-3.0.8-py2.py3-none-any.whl (14 kB)\n",
            "Requirement already satisfied: cymem<2.1.0,>=2.0.2 in /usr/local/lib/python3.7/dist-packages (from spacy) (2.0.5)\n",
            "Requirement already satisfied: numpy>=1.15.0 in /usr/local/lib/python3.7/dist-packages (from spacy) (1.19.5)\n",
            "Collecting thinc<8.1.0,>=8.0.8\n",
            "  Downloading thinc-8.0.8-cp37-cp37m-manylinux_2_17_x86_64.manylinux2014_x86_64.whl (621 kB)\n",
            "\u001b[K     |████████████████████████████████| 621 kB 60.9 MB/s \n",
            "\u001b[?25hRequirement already satisfied: typing-extensions<4.0.0.0,>=3.7.4 in /usr/local/lib/python3.7/dist-packages (from spacy) (3.7.4.3)\n",
            "Requirement already satisfied: requests<3.0.0,>=2.13.0 in /usr/local/lib/python3.7/dist-packages (from spacy) (2.23.0)\n",
            "Requirement already satisfied: preshed<3.1.0,>=3.0.2 in /usr/local/lib/python3.7/dist-packages (from spacy) (3.0.5)\n",
            "Requirement already satisfied: setuptools in /usr/local/lib/python3.7/dist-packages (from spacy) (57.2.0)\n",
            "Collecting pydantic!=1.8,!=1.8.1,<1.9.0,>=1.7.4\n",
            "  Downloading pydantic-1.8.2-cp37-cp37m-manylinux2014_x86_64.whl (10.1 MB)\n",
            "\u001b[K     |████████████████████████████████| 10.1 MB 19.9 MB/s \n",
            "\u001b[?25hRequirement already satisfied: wasabi<1.1.0,>=0.8.1 in /usr/local/lib/python3.7/dist-packages (from spacy) (0.8.2)\n",
            "Requirement already satisfied: zipp>=0.5 in /usr/local/lib/python3.7/dist-packages (from catalogue<2.1.0,>=2.0.4->spacy) (3.5.0)\n",
            "Requirement already satisfied: pyparsing>=2.0.2 in /usr/local/lib/python3.7/dist-packages (from packaging>=20.0->spacy) (2.4.7)\n",
            "Requirement already satisfied: smart-open<6.0.0,>=5.0.0 in /usr/local/lib/python3.7/dist-packages (from pathy>=0.3.5->spacy) (5.1.0)\n",
            "Requirement already satisfied: urllib3!=1.25.0,!=1.25.1,<1.26,>=1.21.1 in /usr/local/lib/python3.7/dist-packages (from requests<3.0.0,>=2.13.0->spacy) (1.24.3)\n",
            "Requirement already satisfied: idna<3,>=2.5 in /usr/local/lib/python3.7/dist-packages (from requests<3.0.0,>=2.13.0->spacy) (2.10)\n",
            "Requirement already satisfied: chardet<4,>=3.0.2 in /usr/local/lib/python3.7/dist-packages (from requests<3.0.0,>=2.13.0->spacy) (3.0.4)\n",
            "Requirement already satisfied: certifi>=2017.4.17 in /usr/local/lib/python3.7/dist-packages (from requests<3.0.0,>=2.13.0->spacy) (2021.5.30)\n",
            "Requirement already satisfied: click<7.2.0,>=7.1.1 in /usr/local/lib/python3.7/dist-packages (from typer<0.4.0,>=0.3.0->spacy) (7.1.2)\n",
            "Requirement already satisfied: MarkupSafe>=0.23 in /usr/local/lib/python3.7/dist-packages (from jinja2->spacy) (2.0.1)\n",
            "Installing collected packages: catalogue, typer, srsly, pydantic, thinc, spacy-legacy, pathy, spacy\n",
            "  Attempting uninstall: catalogue\n",
            "    Found existing installation: catalogue 1.0.0\n",
            "    Uninstalling catalogue-1.0.0:\n",
            "      Successfully uninstalled catalogue-1.0.0\n",
            "  Attempting uninstall: srsly\n",
            "    Found existing installation: srsly 1.0.5\n",
            "    Uninstalling srsly-1.0.5:\n",
            "      Successfully uninstalled srsly-1.0.5\n",
            "  Attempting uninstall: thinc\n",
            "    Found existing installation: thinc 7.4.0\n",
            "    Uninstalling thinc-7.4.0:\n",
            "      Successfully uninstalled thinc-7.4.0\n",
            "  Attempting uninstall: spacy\n",
            "    Found existing installation: spacy 2.2.4\n",
            "    Uninstalling spacy-2.2.4:\n",
            "      Successfully uninstalled spacy-2.2.4\n",
            "Successfully installed catalogue-2.0.4 pathy-0.6.0 pydantic-1.8.2 spacy-3.1.1 spacy-legacy-3.0.8 srsly-2.4.1 thinc-8.0.8 typer-0.3.2\n"
          ],
          "name": "stdout"
        }
      ]
    },
    {
      "cell_type": "code",
      "metadata": {
        "colab": {
          "base_uri": "https://localhost:8080/"
        },
        "id": "VQJwUnc03Lea",
        "outputId": "75d01691-c171-45cf-85d8-f34d11a69634"
      },
      "source": [
        "!python -m spacy download es_core_news_lg"
      ],
      "execution_count": 2,
      "outputs": [
        {
          "output_type": "stream",
          "text": [
            "2021-08-02 23:52:21.681183: I tensorflow/stream_executor/platform/default/dso_loader.cc:53] Successfully opened dynamic library libcudart.so.11.0\n",
            "Collecting es-core-news-lg==3.1.0\n",
            "  Downloading https://github.com/explosion/spacy-models/releases/download/es_core_news_lg-3.1.0/es_core_news_lg-3.1.0-py3-none-any.whl (568.4 MB)\n",
            "\u001b[K     |████████████████████████████████| 568.4 MB 13 kB/s \n",
            "\u001b[?25hRequirement already satisfied: spacy<3.2.0,>=3.1.0 in /usr/local/lib/python3.7/dist-packages (from es-core-news-lg==3.1.0) (3.1.1)\n",
            "Requirement already satisfied: tqdm<5.0.0,>=4.38.0 in /usr/local/lib/python3.7/dist-packages (from spacy<3.2.0,>=3.1.0->es-core-news-lg==3.1.0) (4.41.1)\n",
            "Requirement already satisfied: packaging>=20.0 in /usr/local/lib/python3.7/dist-packages (from spacy<3.2.0,>=3.1.0->es-core-news-lg==3.1.0) (21.0)\n",
            "Requirement already satisfied: pathy>=0.3.5 in /usr/local/lib/python3.7/dist-packages (from spacy<3.2.0,>=3.1.0->es-core-news-lg==3.1.0) (0.6.0)\n",
            "Requirement already satisfied: cymem<2.1.0,>=2.0.2 in /usr/local/lib/python3.7/dist-packages (from spacy<3.2.0,>=3.1.0->es-core-news-lg==3.1.0) (2.0.5)\n",
            "Requirement already satisfied: blis<0.8.0,>=0.4.0 in /usr/local/lib/python3.7/dist-packages (from spacy<3.2.0,>=3.1.0->es-core-news-lg==3.1.0) (0.4.1)\n",
            "Requirement already satisfied: setuptools in /usr/local/lib/python3.7/dist-packages (from spacy<3.2.0,>=3.1.0->es-core-news-lg==3.1.0) (57.2.0)\n",
            "Requirement already satisfied: numpy>=1.15.0 in /usr/local/lib/python3.7/dist-packages (from spacy<3.2.0,>=3.1.0->es-core-news-lg==3.1.0) (1.19.5)\n",
            "Requirement already satisfied: typing-extensions<4.0.0.0,>=3.7.4 in /usr/local/lib/python3.7/dist-packages (from spacy<3.2.0,>=3.1.0->es-core-news-lg==3.1.0) (3.7.4.3)\n",
            "Requirement already satisfied: requests<3.0.0,>=2.13.0 in /usr/local/lib/python3.7/dist-packages (from spacy<3.2.0,>=3.1.0->es-core-news-lg==3.1.0) (2.23.0)\n",
            "Requirement already satisfied: typer<0.4.0,>=0.3.0 in /usr/local/lib/python3.7/dist-packages (from spacy<3.2.0,>=3.1.0->es-core-news-lg==3.1.0) (0.3.2)\n",
            "Requirement already satisfied: pydantic!=1.8,!=1.8.1,<1.9.0,>=1.7.4 in /usr/local/lib/python3.7/dist-packages (from spacy<3.2.0,>=3.1.0->es-core-news-lg==3.1.0) (1.8.2)\n",
            "Requirement already satisfied: murmurhash<1.1.0,>=0.28.0 in /usr/local/lib/python3.7/dist-packages (from spacy<3.2.0,>=3.1.0->es-core-news-lg==3.1.0) (1.0.5)\n",
            "Requirement already satisfied: thinc<8.1.0,>=8.0.8 in /usr/local/lib/python3.7/dist-packages (from spacy<3.2.0,>=3.1.0->es-core-news-lg==3.1.0) (8.0.8)\n",
            "Requirement already satisfied: catalogue<2.1.0,>=2.0.4 in /usr/local/lib/python3.7/dist-packages (from spacy<3.2.0,>=3.1.0->es-core-news-lg==3.1.0) (2.0.4)\n",
            "Requirement already satisfied: spacy-legacy<3.1.0,>=3.0.7 in /usr/local/lib/python3.7/dist-packages (from spacy<3.2.0,>=3.1.0->es-core-news-lg==3.1.0) (3.0.8)\n",
            "Requirement already satisfied: jinja2 in /usr/local/lib/python3.7/dist-packages (from spacy<3.2.0,>=3.1.0->es-core-news-lg==3.1.0) (2.11.3)\n",
            "Requirement already satisfied: srsly<3.0.0,>=2.4.1 in /usr/local/lib/python3.7/dist-packages (from spacy<3.2.0,>=3.1.0->es-core-news-lg==3.1.0) (2.4.1)\n",
            "Requirement already satisfied: wasabi<1.1.0,>=0.8.1 in /usr/local/lib/python3.7/dist-packages (from spacy<3.2.0,>=3.1.0->es-core-news-lg==3.1.0) (0.8.2)\n",
            "Requirement already satisfied: preshed<3.1.0,>=3.0.2 in /usr/local/lib/python3.7/dist-packages (from spacy<3.2.0,>=3.1.0->es-core-news-lg==3.1.0) (3.0.5)\n",
            "Requirement already satisfied: zipp>=0.5 in /usr/local/lib/python3.7/dist-packages (from catalogue<2.1.0,>=2.0.4->spacy<3.2.0,>=3.1.0->es-core-news-lg==3.1.0) (3.5.0)\n",
            "Requirement already satisfied: pyparsing>=2.0.2 in /usr/local/lib/python3.7/dist-packages (from packaging>=20.0->spacy<3.2.0,>=3.1.0->es-core-news-lg==3.1.0) (2.4.7)\n",
            "Requirement already satisfied: smart-open<6.0.0,>=5.0.0 in /usr/local/lib/python3.7/dist-packages (from pathy>=0.3.5->spacy<3.2.0,>=3.1.0->es-core-news-lg==3.1.0) (5.1.0)\n",
            "Requirement already satisfied: chardet<4,>=3.0.2 in /usr/local/lib/python3.7/dist-packages (from requests<3.0.0,>=2.13.0->spacy<3.2.0,>=3.1.0->es-core-news-lg==3.1.0) (3.0.4)\n",
            "Requirement already satisfied: urllib3!=1.25.0,!=1.25.1,<1.26,>=1.21.1 in /usr/local/lib/python3.7/dist-packages (from requests<3.0.0,>=2.13.0->spacy<3.2.0,>=3.1.0->es-core-news-lg==3.1.0) (1.24.3)\n",
            "Requirement already satisfied: certifi>=2017.4.17 in /usr/local/lib/python3.7/dist-packages (from requests<3.0.0,>=2.13.0->spacy<3.2.0,>=3.1.0->es-core-news-lg==3.1.0) (2021.5.30)\n",
            "Requirement already satisfied: idna<3,>=2.5 in /usr/local/lib/python3.7/dist-packages (from requests<3.0.0,>=2.13.0->spacy<3.2.0,>=3.1.0->es-core-news-lg==3.1.0) (2.10)\n",
            "Requirement already satisfied: click<7.2.0,>=7.1.1 in /usr/local/lib/python3.7/dist-packages (from typer<0.4.0,>=0.3.0->spacy<3.2.0,>=3.1.0->es-core-news-lg==3.1.0) (7.1.2)\n",
            "Requirement already satisfied: MarkupSafe>=0.23 in /usr/local/lib/python3.7/dist-packages (from jinja2->spacy<3.2.0,>=3.1.0->es-core-news-lg==3.1.0) (2.0.1)\n",
            "Installing collected packages: es-core-news-lg\n",
            "Successfully installed es-core-news-lg-3.1.0\n",
            "\u001b[38;5;2m✔ Download and installation successful\u001b[0m\n",
            "You can now load the package via spacy.load('es_core_news_lg')\n"
          ],
          "name": "stdout"
        }
      ]
    },
    {
      "cell_type": "code",
      "metadata": {
        "colab": {
          "base_uri": "https://localhost:8080/"
        },
        "id": "WeFxobh73UZ9",
        "outputId": "61faefa2-e2bb-421c-c27e-f6ce1cc3e823"
      },
      "source": [
        "!pip install emoji --upgrade"
      ],
      "execution_count": 3,
      "outputs": [
        {
          "output_type": "stream",
          "text": [
            "Collecting emoji\n",
            "  Downloading emoji-1.4.2.tar.gz (184 kB)\n",
            "\u001b[?25l\r\u001b[K     |█▊                              | 10 kB 24.5 MB/s eta 0:00:01\r\u001b[K     |███▌                            | 20 kB 29.3 MB/s eta 0:00:01\r\u001b[K     |█████▎                          | 30 kB 25.3 MB/s eta 0:00:01\r\u001b[K     |███████                         | 40 kB 20.0 MB/s eta 0:00:01\r\u001b[K     |████████▉                       | 51 kB 8.5 MB/s eta 0:00:01\r\u001b[K     |██████████▋                     | 61 kB 8.8 MB/s eta 0:00:01\r\u001b[K     |████████████▍                   | 71 kB 8.1 MB/s eta 0:00:01\r\u001b[K     |██████████████▏                 | 81 kB 9.1 MB/s eta 0:00:01\r\u001b[K     |████████████████                | 92 kB 8.9 MB/s eta 0:00:01\r\u001b[K     |█████████████████▊              | 102 kB 7.8 MB/s eta 0:00:01\r\u001b[K     |███████████████████▌            | 112 kB 7.8 MB/s eta 0:00:01\r\u001b[K     |█████████████████████▎          | 122 kB 7.8 MB/s eta 0:00:01\r\u001b[K     |███████████████████████         | 133 kB 7.8 MB/s eta 0:00:01\r\u001b[K     |████████████████████████▉       | 143 kB 7.8 MB/s eta 0:00:01\r\u001b[K     |██████████████████████████▋     | 153 kB 7.8 MB/s eta 0:00:01\r\u001b[K     |████████████████████████████▍   | 163 kB 7.8 MB/s eta 0:00:01\r\u001b[K     |██████████████████████████████▏ | 174 kB 7.8 MB/s eta 0:00:01\r\u001b[K     |███████████████████████████████▉| 184 kB 7.8 MB/s eta 0:00:01\r\u001b[K     |████████████████████████████████| 184 kB 7.8 MB/s \n",
            "\u001b[?25hBuilding wheels for collected packages: emoji\n",
            "  Building wheel for emoji (setup.py) ... \u001b[?25l\u001b[?25hdone\n",
            "  Created wheel for emoji: filename=emoji-1.4.2-py3-none-any.whl size=186469 sha256=3ce4d01153115530dae71ce94ba8692ee9329c834f0dbbe94d49e303167e487f\n",
            "  Stored in directory: /root/.cache/pip/wheels/e4/61/e7/2fc1ac8f306848fc66c6c013ab511f0a39ef4b1825b11363b2\n",
            "Successfully built emoji\n",
            "Installing collected packages: emoji\n",
            "Successfully installed emoji-1.4.2\n"
          ],
          "name": "stdout"
        }
      ]
    },
    {
      "cell_type": "code",
      "metadata": {
        "colab": {
          "base_uri": "https://localhost:8080/"
        },
        "id": "dBDQnOKr3XoD",
        "outputId": "b44904f1-fbe4-4848-e590-825a29aa1104"
      },
      "source": [
        "!pip install pyspellchecker"
      ],
      "execution_count": 4,
      "outputs": [
        {
          "output_type": "stream",
          "text": [
            "Collecting pyspellchecker\n",
            "  Downloading pyspellchecker-0.6.2-py3-none-any.whl (2.7 MB)\n",
            "\u001b[K     |████████████████████████████████| 2.7 MB 6.9 MB/s \n",
            "\u001b[?25hInstalling collected packages: pyspellchecker\n",
            "Successfully installed pyspellchecker-0.6.2\n"
          ],
          "name": "stdout"
        }
      ]
    },
    {
      "cell_type": "markdown",
      "metadata": {
        "id": "0AaW29gYXS5V"
      },
      "source": [
        "# Importación de Librerías"
      ]
    },
    {
      "cell_type": "code",
      "metadata": {
        "colab": {
          "base_uri": "https://localhost:8080/"
        },
        "id": "shM7W-Sf4YZD",
        "outputId": "17c24df5-d53c-45b0-8a07-791600f5100e"
      },
      "source": [
        "# Importación de librerías\n",
        "\n",
        "import spacy\n",
        "# Debes verificar que la versión de Spacy sea 3 o superior para que tener las últimas versiones de los modelos que usaremos.\n",
        "print(\"spaCy version: \", spacy.__version__)\n",
        "# Librería para reconocimientro y tratamiento de expresiones regulares\n",
        "import re \n",
        "# Librería para reconocer emojis y expandirlos por su significado\n",
        "import emoji\n",
        "from emoji import demojize\n",
        "# Libería para hacer revisión de ortografía\n",
        "import spellchecker\n",
        "from spellchecker import SpellChecker\n",
        "# Para obtener directamente de una página we la información\n",
        "import requests\n",
        "# Para procesar el html\n",
        "from bs4 import BeautifulSoup\n",
        "#  Para creación de series y dataframes\n",
        "import pandas as pd\n",
        "import numpy as np\n",
        "# Librerías para controlar los errores al cargar páginas web\n",
        "import time\n",
        "from urllib.error import URLError\n",
        "from urllib3.exceptions import LocationParseError\n",
        "\n",
        "\n",
        "# Para realizar gráficos\n",
        "import numpy, matplotlib\n",
        "import wordcloud\n",
        "import matplotlib.pyplot as plt\n",
        "from wordcloud import WordCloud\n",
        "\n",
        "\n",
        "\n"
      ],
      "execution_count": 1,
      "outputs": [
        {
          "output_type": "stream",
          "text": [
            "spaCy version:  3.1.1\n"
          ],
          "name": "stdout"
        }
      ]
    },
    {
      "cell_type": "markdown",
      "metadata": {
        "id": "6gJ5JG595HN6"
      },
      "source": [
        "# Lectura del texto de fuente de datos\n",
        "Cargaremos una página web usando la librería requests y la filtraremos usando la librería beautifulsoup."
      ]
    },
    {
      "cell_type": "code",
      "metadata": {
        "colab": {
          "base_uri": "https://localhost:8080/"
        },
        "id": "-H2v2QPm5GX7",
        "outputId": "240305ed-81c9-457c-8401-7de873c36de6"
      },
      "source": [
        "# A continuación seleccionamos una URL\n",
        "base_url = \"https://proverbia.net/frases-de-experiencia\"\n",
        "try:\n",
        "    page = requests.get(base_url)\n",
        "except requests.exceptions.ConnectionError as r:\n",
        "  r.status_code = \"Conexion rechazada\"\n",
        "  print(\"Conexion rechazada\")\n",
        "  print(\"Esperar 5 segundos\")\n",
        "  time.sleep(5)\n",
        "except URLError as r:\n",
        "  r.status_code = \"URL error\"\n",
        "  print(\"URL error\")\n",
        "except LocationParseError as r:\n",
        "  r.status_code = \"LocationParseError\"\n",
        "  print(\"LocationParseError\")\n",
        "except:\n",
        "    print (\"Unexpected error:\", sys.exc_info()[0])\n",
        "\n",
        "# Si la respuesta no es 200 o dentro de 200 significa que no se pudo cargar correctamente\n",
        "page"
      ],
      "execution_count": 2,
      "outputs": [
        {
          "output_type": "execute_result",
          "data": {
            "text/plain": [
              "<Response [200]>"
            ]
          },
          "metadata": {
            "tags": []
          },
          "execution_count": 2
        }
      ]
    },
    {
      "cell_type": "markdown",
      "metadata": {
        "id": "TDAhTWA5KiZc"
      },
      "source": [
        "## Examinar el archivo fuente \n",
        "Para cada fuente es importante examinar el formato para revisar qué partes son de utilidad y así poder realizar el filtro."
      ]
    },
    {
      "cell_type": "code",
      "metadata": {
        "colab": {
          "base_uri": "https://localhost:8080/"
        },
        "id": "AIiJYZcS7sLv",
        "outputId": "de6f8fc0-de6f-4cbf-bc5b-66efed5ce3f3"
      },
      "source": [
        "# A continuación se examinará la página con BeautifulSoup\n",
        "soup = BeautifulSoup(page.content, 'html.parser')\n",
        "print(soup.prettify())"
      ],
      "execution_count": 3,
      "outputs": [
        {
          "output_type": "stream",
          "text": [
            "<!DOCTYPE html>\n",
            "<html lang=\"es\">\n",
            " <head>\n",
            "  <!-- Google Analytics -->\n",
            "  <script>\n",
            "   (function(i,s,o,g,r,a,m){i['GoogleAnalyticsObject']=r;i[r]=i[r]||function(){\n",
            "(i[r].q=i[r].q||[]).push(arguments)},i[r].l=1*new Date();a=s.createElement(o),\n",
            "m=s.getElementsByTagName(o)[0];a.async=1;a.src=g;m.parentNode.insertBefore(a,m)\n",
            "})(window,document,'script','https://www.google-analytics.com/analytics.js','ga');\n",
            "\n",
            "ga('create', 'UA-59682-6', 'auto');\n",
            "ga('send', 'pageview');\n",
            "  </script>\n",
            "  <!-- End Google Analytics -->\n",
            "  <script async=\"\" data-ad-client=\"ca-pub-3410145742764658\" src=\"https://pagead2.googlesyndication.com/pagead/js/adsbygoogle.js\">\n",
            "  </script>\n",
            "  <meta charset=\"utf-8\"/>\n",
            "  <meta content=\"width=device-width, initial-scale=1.0\" name=\"viewport\"/>\n",
            "  <title>\n",
            "   Frases sobre la experiencia - Proverbia\n",
            "  </title>\n",
            "  <meta content=\"frases celebres,citas celebres,citas célebres,frases célebres,proverbios,famosas,citas arte,frases arte,sentimientos,aforismos,pensamientos,amor,vida,felicidad,sentencias,cualidades,Experiencia\" name=\"keywords\">\n",
            "   <meta content=\"Recopilación de frases célebres, proverbios, refranes y dichos populares sobre la experiencia.\" name=\"description\"/>\n",
            "   <link href=\"/favicon.ico\" rel=\"icon\" type=\"image/x-icon\"/>\n",
            "   <link href=\"https://fonts.googleapis.com/css2?family=Merriweather:wght@300;400&amp;display=swap\" rel=\"stylesheet\"/>\n",
            "   <link href=\"https://fonts.googleapis.com/css2?family=Roboto:ital,wght@0,300;0,400;0,500;0,700;0,900;1,300;1,400;1,500;1,700;1,900&amp;display=swap\" rel=\"stylesheet\"/>\n",
            "   <link href=\"/build/app.3bd5644f.css\" rel=\"stylesheet\"/>\n",
            "   <script src=\"/build/runtime.d41d8cd9.js\">\n",
            "   </script>\n",
            "   <script src=\"/build/app.29a9b5e9.js\">\n",
            "   </script>\n",
            "   <script>\n",
            "    var options = {\n",
            "                 \"title\": \"Proverbia usa 'cookies'\",\n",
            "             \"text\": \"Proverbia utiliza 'cookies' propias y de terceros para ofrecerte una mejor experiencia y servicio. Al navegar o utilizar nuestros servicios, aceptas el uso que hacemos de las        'cookies'. Puedes cambiar la configuración de 'cookies' en cualquier momento. Cerrar y no volver a mostrar. \",\n",
            "     \"theme\": \"dark\",\n",
            "     \"learnMore\": false,\n",
            "     \"position\": \"bottom\",\n",
            "     \"learnMoreButtonText\": \"Más información\",\n",
            "     \"acceptButtonText\": \"De acuerdo\"\n",
            "};\n",
            "\n",
            "\t\t\t\t$(document).ready(function(){   \n",
            "                    $.acceptCookies(options);                \n",
            "                    }\n",
            "                )\n",
            "   </script>\n",
            "  </meta>\n",
            " </head>\n",
            " <body>\n",
            "  <!-- Fixed main navbar -->\n",
            "  <nav class=\"navbar navbar-expand-lg navbar-dark bg-oxblood\">\n",
            "   <div class=\"container\">\n",
            "    <a class=\"navbar-brand\" href=\"/\" title=\"Proverbia: Frases y citas célebres\">\n",
            "     <img alt=\"Proverbia: Frases y citas célebres\" src=\"/images/logo.png\"/>\n",
            "    </a>\n",
            "    <button aria-controls=\"navbar\" aria-expanded=\"false\" aria-label=\"Activa navegación\" class=\"navbar-toggler\" data-target=\"#navbar\" data-toggle=\"collapse\" type=\"button\">\n",
            "     <span class=\"navbar-toggler-icon\">\n",
            "     </span>\n",
            "    </button>\n",
            "    <div class=\"navbar-collapse collapse\" id=\"navbar\">\n",
            "     <ul class=\"mr-auto navbar-nav\">\n",
            "      <li class=\"nav-item\">\n",
            "       <a aria-expanded=\"false\" aria-haspopup=\"true\" class=\"nav-link\" href=\"/tematica/index\" role=\"button\" title=\"Frases por temáticas\">\n",
            "        Temáticas\n",
            "       </a>\n",
            "      </li>\n",
            "      <li class=\"nav-item dropdown\">\n",
            "       <a aria-expanded=\"false\" aria-haspopup=\"true\" class=\"nav-link dropdown-toggle\" data-toggle=\"dropdown\" href=\"#\" role=\"button\">\n",
            "        Autores\n",
            "       </a>\n",
            "       <ul class=\"dropdown-menu\">\n",
            "        <li class=\"dropdown-item\">\n",
            "         <a href=\"/autor/index\" title=\"Frases por autores\">\n",
            "          Todos los autores\n",
            "         </a>\n",
            "        </li>\n",
            "        <li class=\"dropdown-divider\" role=\"separator\">\n",
            "        </li>\n",
            "        <li class=\"dropdown-item\">\n",
            "         <a href=\"/refranes\" title=\"Refranes\">\n",
            "          Refranes\n",
            "         </a>\n",
            "        </li>\n",
            "        <li class=\"dropdown-item\">\n",
            "         <a href=\"/proverbios\" title=\"Proverbios\">\n",
            "          Proverbios\n",
            "         </a>\n",
            "        </li>\n",
            "       </ul>\n",
            "      </li>\n",
            "      <li class=\"nav-item\">\n",
            "       <a class=\"nav-link\" href=\"/frases-cortas\" title=\"Frases cortas\">\n",
            "        Frases cortas\n",
            "       </a>\n",
            "      </li>\n",
            "     </ul>\n",
            "     <form action=\"/buscar\" class=\"form-inline\" method=\"GET\">\n",
            "      <div class=\"input-group\">\n",
            "       <input class=\"form-control\" name=\"t\" placeholder=\"Buscar\" type=\"search\"/>\n",
            "       <div class=\"input-group-append\">\n",
            "        <button class=\"btn btn-outline-secondary\" type=\"submit\">\n",
            "         <span aria-hidden=\"true\" class=\"glyphicon glyphicon-search\">\n",
            "         </span>\n",
            "        </button>\n",
            "       </div>\n",
            "      </div>\n",
            "      <!--\n",
            "\t\t\t\t\t<a class=\"btn btn-outline-secondary ml-1\" href=\"/login\"><span class=\"glyphicon glyphicon-user\" aria-hidden=\"true\"></span></a>\n",
            "\t\t\t-->\n",
            "     </form>\n",
            "    </div>\n",
            "   </div>\n",
            "  </nav>\n",
            "  <!-- End fixed navbar -->\n",
            "  <div class=\"bg-grain\">\n",
            "   <div class=\"container\">\n",
            "    <ol class=\"breadcrumb\">\n",
            "     <li class=\"breadcrumb-item\">\n",
            "      <a href=\"/\">\n",
            "       Inicio\n",
            "      </a>\n",
            "     </li>\n",
            "     <li class=\"breadcrumb-item\">\n",
            "      <a href=\"/tematica/index\">\n",
            "       Temáticas\n",
            "      </a>\n",
            "     </li>\n",
            "    </ol>\n",
            "   </div>\n",
            "  </div>\n",
            "  <div class=\"container\" role=\"main\" style=\"margin-top: 1rem\">\n",
            "   <div class=\"row\">\n",
            "    <div class=\"col-md-8 px-md-4\">\n",
            "     <h1>\n",
            "      Frases sobre la experiencia\n",
            "     </h1>\n",
            "     <p>\n",
            "     </p>\n",
            "     <div>\n",
            "      <blockquote class=\"bsquote\">\n",
            "       <p>\n",
            "        La experiencia no tiene valor ético alguno, es simplemente el nombre que damos a nuestros errores.\n",
            "       </p>\n",
            "       <footer>\n",
            "        <a href=\"/autor/frases-de-oscar-wilde\" title=\"Frases de Oscar Wilde\">\n",
            "         Oscar Wilde\n",
            "        </a>\n",
            "        <em>\n",
            "         (1854-1900) Dramaturgo y novelista irlandés.\n",
            "        </em>\n",
            "        <div class=\"subfooter\">\n",
            "         <div class=\"float-left\">\n",
            "          <span aria-hidden=\"true\" class=\"glyphicon2 glyphicon-tag\">\n",
            "          </span>\n",
            "          <a href=\"/frases-de-cualidades\">\n",
            "           Cualidades\n",
            "          </a>\n",
            "          /\n",
            "          <a href=\"/frases-de-experiencia\" title=\"Frases sobre la experiencia\">\n",
            "           Experiencia\n",
            "          </a>\n",
            "         </div>\n",
            "         <div aria-label=\"...\" class=\"btn-group btn-group-lg float-right\" role=\"group\">\n",
            "          <a class=\"glyphicon2 glyphicon-twitter btn twitter-button text-black-25\" data-text=\"«La experiencia no tiene valor ético alguno, es simplemente el nombre que damos a nuestros errores.» Oscar Wilde\" href=\"https://proverbia.net/cita/633-la-experiencia-no-tiene-valor-etico-alguno-es-sim\" rel=\"nofollow\" role=\"button\">\n",
            "          </a>\n",
            "          <a class=\"glyphicon2 glyphicon-facebook btn facebook-button text-black-25\" data-text=\"«La experiencia no tiene valor ético alguno, es simplemente el nombre que damos a nuestros errores.» Oscar Wilde\" href=\"https://proverbia.net/cita/633-la-experiencia-no-tiene-valor-etico-alguno-es-sim\" rel=\"nofollow\" role=\"button\">\n",
            "          </a>\n",
            "         </div>\n",
            "         <div class=\"clearfix\">\n",
            "         </div>\n",
            "         <!--\t\t\n",
            "\t\t\n",
            "\t\t<div class=\"pull-right\">\t\t\t\t\n",
            "\t\t\t<div class=\"btn-group btn-group-justified\" role=\"group\" aria-label=\"...\">\t\t\n",
            "\t\t\t\t<div  class=\"btn btn-default btn-group\" rol=\"toolbar\"><span class=\"glyphicon glyphicon-star-empty\" aria-hidden=\"true\"></span></div>\t\t\t\n",
            "\t\t\t\t<div  class=\"btn btn-default btn-group\" rol=\"toolbar\"><span class=\"glyphicon glyphicon-info-sign\" aria-hidden=\"true\"></span></div>\n",
            "\t\t\t\t<div  class=\"btn btn-default btn-group\" rol=\"toolbar\"><span class=\"glyphicon glyphicon-share\" aria-hidden=\"true\"></span></div> \n",
            "\t\t\t\t<div  class=\"btn btn-default btn-group\" rol=\"toolbar\"><span class=\"glyphicon glyphicon-facebook\" aria-hidden=\"true\"></span></div> \n",
            "\t\t\t</div>\t\t\t\n",
            "\t\t</div>\n",
            "\n",
            "\t\t<div class=\"dropdown\" >\t\t\t\n",
            "\t\t\t<div class=\"btn-toolbar pull-right\" aria-label=\"...\" >\t\t\t\t\t\n",
            "\t\t\t\t<div class=\"btn btn-default btn-group\" rol=\"toolbar\"><span class=\"glyphicon glyphicon-option-horizontal\" aria-hidden=\"true\"></span></div>\n",
            "\t\t\t\t<div class=\"btn btn-default btn-group btn-twitter\" rol=\"toolbar\">Twitter</span></div>\n",
            "\t\t\t\t<div class=\"btn btn-default btn-group btn-facebook\" rol=\"toolbar\">Facebook</span></div> \n",
            "\t\t\t</div>  \n",
            "\t\t</div>\n",
            "\n",
            "\t\t<div class=\"btn-group btn-group-justified\" role=\"group\" aria-label=\"...\">\n",
            "\t\t\t<div  class=\"btn btn-default btn-group btn-lg\" rol=\"toolbar\"><span class=\"glyphicon glyphicon-star-empty\" aria-hidden=\"true\"></span></div>\t\t\t\n",
            "\t\t\t<div  class=\"btn btn-default btn-group btn-lg\" rol=\"toolbar\"><span class=\"glyphicon glyphicon-info-sign\" aria-hidden=\"true\"></span></div>\n",
            "\t\t\t<div  class=\"btn btn-default btn-group btn-lg\" rol=\"toolbar\"><span class=\"glyphicon glyphicon-share\" aria-hidden=\"true\"></span></div> \n",
            "\t\t\t<div  class=\"btn btn-default btn-group btn-lg\" rol=\"toolbar\"><span class=\"glyphicon glyphicon-facebook\" aria-hidden=\"true\">Facebook</span></div> \n",
            "\t\t</div>\n",
            "\t\t//-->\n",
            "        </div>\n",
            "       </footer>\n",
            "      </blockquote>\n",
            "      <blockquote class=\"bsquote\">\n",
            "       <p>\n",
            "        Una experiencia nunca es un fracaso, pues siempre viene a demostrar algo.\n",
            "       </p>\n",
            "       <footer>\n",
            "        <a href=\"/autor/frases-de-thomas-alva-edison\" title=\"Frases de Thomas Alva Edison\">\n",
            "         Thomas Alva Edison\n",
            "        </a>\n",
            "        <em>\n",
            "         (1847-1931) Físico e inventor estadounidense.\n",
            "        </em>\n",
            "        <div class=\"subfooter\">\n",
            "         <div class=\"float-left\">\n",
            "          <span aria-hidden=\"true\" class=\"glyphicon2 glyphicon-tag\">\n",
            "          </span>\n",
            "          <a href=\"/frases-de-cualidades\">\n",
            "           Cualidades\n",
            "          </a>\n",
            "          /\n",
            "          <a href=\"/frases-de-experiencia\" title=\"Frases sobre la experiencia\">\n",
            "           Experiencia\n",
            "          </a>\n",
            "         </div>\n",
            "         <div aria-label=\"...\" class=\"btn-group btn-group-lg float-right\" role=\"group\">\n",
            "          <a class=\"glyphicon2 glyphicon-twitter btn twitter-button text-black-25\" data-text=\"«Una experiencia nunca es un fracaso, pues siempre viene a demostrar algo.» Thomas Alva Edison\" href=\"https://proverbia.net/cita/2442-una-experiencia-nunca-es-un-fracaso-pues-siempre-\" rel=\"nofollow\" role=\"button\">\n",
            "          </a>\n",
            "          <a class=\"glyphicon2 glyphicon-facebook btn facebook-button text-black-25\" data-text=\"«Una experiencia nunca es un fracaso, pues siempre viene a demostrar algo.» Thomas Alva Edison\" href=\"https://proverbia.net/cita/2442-una-experiencia-nunca-es-un-fracaso-pues-siempre-\" rel=\"nofollow\" role=\"button\">\n",
            "          </a>\n",
            "         </div>\n",
            "         <div class=\"clearfix\">\n",
            "         </div>\n",
            "         <!--\t\t\n",
            "\t\t\n",
            "\t\t<div class=\"pull-right\">\t\t\t\t\n",
            "\t\t\t<div class=\"btn-group btn-group-justified\" role=\"group\" aria-label=\"...\">\t\t\n",
            "\t\t\t\t<div  class=\"btn btn-default btn-group\" rol=\"toolbar\"><span class=\"glyphicon glyphicon-star-empty\" aria-hidden=\"true\"></span></div>\t\t\t\n",
            "\t\t\t\t<div  class=\"btn btn-default btn-group\" rol=\"toolbar\"><span class=\"glyphicon glyphicon-info-sign\" aria-hidden=\"true\"></span></div>\n",
            "\t\t\t\t<div  class=\"btn btn-default btn-group\" rol=\"toolbar\"><span class=\"glyphicon glyphicon-share\" aria-hidden=\"true\"></span></div> \n",
            "\t\t\t\t<div  class=\"btn btn-default btn-group\" rol=\"toolbar\"><span class=\"glyphicon glyphicon-facebook\" aria-hidden=\"true\"></span></div> \n",
            "\t\t\t</div>\t\t\t\n",
            "\t\t</div>\n",
            "\n",
            "\t\t<div class=\"dropdown\" >\t\t\t\n",
            "\t\t\t<div class=\"btn-toolbar pull-right\" aria-label=\"...\" >\t\t\t\t\t\n",
            "\t\t\t\t<div class=\"btn btn-default btn-group\" rol=\"toolbar\"><span class=\"glyphicon glyphicon-option-horizontal\" aria-hidden=\"true\"></span></div>\n",
            "\t\t\t\t<div class=\"btn btn-default btn-group btn-twitter\" rol=\"toolbar\">Twitter</span></div>\n",
            "\t\t\t\t<div class=\"btn btn-default btn-group btn-facebook\" rol=\"toolbar\">Facebook</span></div> \n",
            "\t\t\t</div>  \n",
            "\t\t</div>\n",
            "\n",
            "\t\t<div class=\"btn-group btn-group-justified\" role=\"group\" aria-label=\"...\">\n",
            "\t\t\t<div  class=\"btn btn-default btn-group btn-lg\" rol=\"toolbar\"><span class=\"glyphicon glyphicon-star-empty\" aria-hidden=\"true\"></span></div>\t\t\t\n",
            "\t\t\t<div  class=\"btn btn-default btn-group btn-lg\" rol=\"toolbar\"><span class=\"glyphicon glyphicon-info-sign\" aria-hidden=\"true\"></span></div>\n",
            "\t\t\t<div  class=\"btn btn-default btn-group btn-lg\" rol=\"toolbar\"><span class=\"glyphicon glyphicon-share\" aria-hidden=\"true\"></span></div> \n",
            "\t\t\t<div  class=\"btn btn-default btn-group btn-lg\" rol=\"toolbar\"><span class=\"glyphicon glyphicon-facebook\" aria-hidden=\"true\">Facebook</span></div> \n",
            "\t\t</div>\n",
            "\t\t//-->\n",
            "        </div>\n",
            "       </footer>\n",
            "      </blockquote>\n",
            "      <blockquote class=\"bsquote\">\n",
            "       <p>\n",
            "        La experiencia no es lo que te sucede, sino lo que haces con lo que te sucede.\n",
            "       </p>\n",
            "       <footer>\n",
            "        <a href=\"/autor/frases-de-aldous-huxley\" title=\"Frases de Aldous Huxley\">\n",
            "         Aldous Huxley\n",
            "        </a>\n",
            "        <em>\n",
            "         (1894-1963) Novelista, ensayista y poeta inglés.\n",
            "        </em>\n",
            "        <div class=\"subfooter\">\n",
            "         <div class=\"float-left\">\n",
            "          <span aria-hidden=\"true\" class=\"glyphicon2 glyphicon-tag\">\n",
            "          </span>\n",
            "          <a href=\"/frases-de-cualidades\">\n",
            "           Cualidades\n",
            "          </a>\n",
            "          /\n",
            "          <a href=\"/frases-de-experiencia\" title=\"Frases sobre la experiencia\">\n",
            "           Experiencia\n",
            "          </a>\n",
            "         </div>\n",
            "         <div aria-label=\"...\" class=\"btn-group btn-group-lg float-right\" role=\"group\">\n",
            "          <a class=\"glyphicon2 glyphicon-twitter btn twitter-button text-black-25\" data-text=\"«La experiencia no es lo que te sucede, sino lo que haces con lo que te sucede.» Aldous Huxley\" href=\"https://proverbia.net/cita/8166-la-experiencia-no-es-lo-que-te-sucede-sino-lo-que\" rel=\"nofollow\" role=\"button\">\n",
            "          </a>\n",
            "          <a class=\"glyphicon2 glyphicon-facebook btn facebook-button text-black-25\" data-text=\"«La experiencia no es lo que te sucede, sino lo que haces con lo que te sucede.» Aldous Huxley\" href=\"https://proverbia.net/cita/8166-la-experiencia-no-es-lo-que-te-sucede-sino-lo-que\" rel=\"nofollow\" role=\"button\">\n",
            "          </a>\n",
            "         </div>\n",
            "         <div class=\"clearfix\">\n",
            "         </div>\n",
            "         <!--\t\t\n",
            "\t\t\n",
            "\t\t<div class=\"pull-right\">\t\t\t\t\n",
            "\t\t\t<div class=\"btn-group btn-group-justified\" role=\"group\" aria-label=\"...\">\t\t\n",
            "\t\t\t\t<div  class=\"btn btn-default btn-group\" rol=\"toolbar\"><span class=\"glyphicon glyphicon-star-empty\" aria-hidden=\"true\"></span></div>\t\t\t\n",
            "\t\t\t\t<div  class=\"btn btn-default btn-group\" rol=\"toolbar\"><span class=\"glyphicon glyphicon-info-sign\" aria-hidden=\"true\"></span></div>\n",
            "\t\t\t\t<div  class=\"btn btn-default btn-group\" rol=\"toolbar\"><span class=\"glyphicon glyphicon-share\" aria-hidden=\"true\"></span></div> \n",
            "\t\t\t\t<div  class=\"btn btn-default btn-group\" rol=\"toolbar\"><span class=\"glyphicon glyphicon-facebook\" aria-hidden=\"true\"></span></div> \n",
            "\t\t\t</div>\t\t\t\n",
            "\t\t</div>\n",
            "\n",
            "\t\t<div class=\"dropdown\" >\t\t\t\n",
            "\t\t\t<div class=\"btn-toolbar pull-right\" aria-label=\"...\" >\t\t\t\t\t\n",
            "\t\t\t\t<div class=\"btn btn-default btn-group\" rol=\"toolbar\"><span class=\"glyphicon glyphicon-option-horizontal\" aria-hidden=\"true\"></span></div>\n",
            "\t\t\t\t<div class=\"btn btn-default btn-group btn-twitter\" rol=\"toolbar\">Twitter</span></div>\n",
            "\t\t\t\t<div class=\"btn btn-default btn-group btn-facebook\" rol=\"toolbar\">Facebook</span></div> \n",
            "\t\t\t</div>  \n",
            "\t\t</div>\n",
            "\n",
            "\t\t<div class=\"btn-group btn-group-justified\" role=\"group\" aria-label=\"...\">\n",
            "\t\t\t<div  class=\"btn btn-default btn-group btn-lg\" rol=\"toolbar\"><span class=\"glyphicon glyphicon-star-empty\" aria-hidden=\"true\"></span></div>\t\t\t\n",
            "\t\t\t<div  class=\"btn btn-default btn-group btn-lg\" rol=\"toolbar\"><span class=\"glyphicon glyphicon-info-sign\" aria-hidden=\"true\"></span></div>\n",
            "\t\t\t<div  class=\"btn btn-default btn-group btn-lg\" rol=\"toolbar\"><span class=\"glyphicon glyphicon-share\" aria-hidden=\"true\"></span></div> \n",
            "\t\t\t<div  class=\"btn btn-default btn-group btn-lg\" rol=\"toolbar\"><span class=\"glyphicon glyphicon-facebook\" aria-hidden=\"true\">Facebook</span></div> \n",
            "\t\t</div>\n",
            "\t\t//-->\n",
            "        </div>\n",
            "       </footer>\n",
            "      </blockquote>\n",
            "      <blockquote class=\"bsquote\">\n",
            "       <p>\n",
            "        Pájaro viejo no entra en jaula.\n",
            "       </p>\n",
            "       <footer>\n",
            "        <a href=\"/autor/frases-de-refran\" title=\"Frases de  Refrán\">\n",
            "         Refrán\n",
            "        </a>\n",
            "        <em>\n",
            "        </em>\n",
            "        <div class=\"subfooter\">\n",
            "         <div class=\"float-left\">\n",
            "          <span aria-hidden=\"true\" class=\"glyphicon2 glyphicon-tag\">\n",
            "          </span>\n",
            "          <a href=\"/frases-de-cualidades\">\n",
            "           Cualidades\n",
            "          </a>\n",
            "          /\n",
            "          <a href=\"/frases-de-experiencia\" title=\"Frases sobre la experiencia\">\n",
            "           Experiencia\n",
            "          </a>\n",
            "         </div>\n",
            "         <div aria-label=\"...\" class=\"btn-group btn-group-lg float-right\" role=\"group\">\n",
            "          <a class=\"glyphicon2 glyphicon-twitter btn twitter-button text-black-25\" data-text=\"«Pájaro viejo no entra en jaula.»  Refrán\" href=\"https://proverbia.net/cita/1249-pajaro-viejo-no-entra-en-jaula\" rel=\"nofollow\" role=\"button\">\n",
            "          </a>\n",
            "          <a class=\"glyphicon2 glyphicon-facebook btn facebook-button text-black-25\" data-text=\"«Pájaro viejo no entra en jaula.»  Refrán\" href=\"https://proverbia.net/cita/1249-pajaro-viejo-no-entra-en-jaula\" rel=\"nofollow\" role=\"button\">\n",
            "          </a>\n",
            "         </div>\n",
            "         <div class=\"clearfix\">\n",
            "         </div>\n",
            "         <!--\t\t\n",
            "\t\t\n",
            "\t\t<div class=\"pull-right\">\t\t\t\t\n",
            "\t\t\t<div class=\"btn-group btn-group-justified\" role=\"group\" aria-label=\"...\">\t\t\n",
            "\t\t\t\t<div  class=\"btn btn-default btn-group\" rol=\"toolbar\"><span class=\"glyphicon glyphicon-star-empty\" aria-hidden=\"true\"></span></div>\t\t\t\n",
            "\t\t\t\t<div  class=\"btn btn-default btn-group\" rol=\"toolbar\"><span class=\"glyphicon glyphicon-info-sign\" aria-hidden=\"true\"></span></div>\n",
            "\t\t\t\t<div  class=\"btn btn-default btn-group\" rol=\"toolbar\"><span class=\"glyphicon glyphicon-share\" aria-hidden=\"true\"></span></div> \n",
            "\t\t\t\t<div  class=\"btn btn-default btn-group\" rol=\"toolbar\"><span class=\"glyphicon glyphicon-facebook\" aria-hidden=\"true\"></span></div> \n",
            "\t\t\t</div>\t\t\t\n",
            "\t\t</div>\n",
            "\n",
            "\t\t<div class=\"dropdown\" >\t\t\t\n",
            "\t\t\t<div class=\"btn-toolbar pull-right\" aria-label=\"...\" >\t\t\t\t\t\n",
            "\t\t\t\t<div class=\"btn btn-default btn-group\" rol=\"toolbar\"><span class=\"glyphicon glyphicon-option-horizontal\" aria-hidden=\"true\"></span></div>\n",
            "\t\t\t\t<div class=\"btn btn-default btn-group btn-twitter\" rol=\"toolbar\">Twitter</span></div>\n",
            "\t\t\t\t<div class=\"btn btn-default btn-group btn-facebook\" rol=\"toolbar\">Facebook</span></div> \n",
            "\t\t\t</div>  \n",
            "\t\t</div>\n",
            "\n",
            "\t\t<div class=\"btn-group btn-group-justified\" role=\"group\" aria-label=\"...\">\n",
            "\t\t\t<div  class=\"btn btn-default btn-group btn-lg\" rol=\"toolbar\"><span class=\"glyphicon glyphicon-star-empty\" aria-hidden=\"true\"></span></div>\t\t\t\n",
            "\t\t\t<div  class=\"btn btn-default btn-group btn-lg\" rol=\"toolbar\"><span class=\"glyphicon glyphicon-info-sign\" aria-hidden=\"true\"></span></div>\n",
            "\t\t\t<div  class=\"btn btn-default btn-group btn-lg\" rol=\"toolbar\"><span class=\"glyphicon glyphicon-share\" aria-hidden=\"true\"></span></div> \n",
            "\t\t\t<div  class=\"btn btn-default btn-group btn-lg\" rol=\"toolbar\"><span class=\"glyphicon glyphicon-facebook\" aria-hidden=\"true\">Facebook</span></div> \n",
            "\t\t</div>\n",
            "\t\t//-->\n",
            "        </div>\n",
            "       </footer>\n",
            "      </blockquote>\n",
            "      <blockquote class=\"bsquote\">\n",
            "       <p>\n",
            "        Un experto es un hombre que ha dejado de pensar: sabe.\n",
            "       </p>\n",
            "       <footer>\n",
            "        <a href=\"/autor/frases-de-frank-lloyd-wright\" title=\"Frases de Frank Lloyd Wright\">\n",
            "         Frank Lloyd Wright\n",
            "        </a>\n",
            "        <em>\n",
            "         (1867-1959) Arquitecto estadounidense.\n",
            "        </em>\n",
            "        <div class=\"subfooter\">\n",
            "         <div class=\"float-left\">\n",
            "          <span aria-hidden=\"true\" class=\"glyphicon2 glyphicon-tag\">\n",
            "          </span>\n",
            "          <a href=\"/frases-de-cualidades\">\n",
            "           Cualidades\n",
            "          </a>\n",
            "          /\n",
            "          <a href=\"/frases-de-experiencia\">\n",
            "           Experiencia\n",
            "          </a>\n",
            "          /\n",
            "          <a href=\"/frases-de-experto\" title=\"Frases sobre el experto\">\n",
            "           Experto\n",
            "          </a>\n",
            "         </div>\n",
            "         <div aria-label=\"...\" class=\"btn-group btn-group-lg float-right\" role=\"group\">\n",
            "          <a class=\"glyphicon2 glyphicon-twitter btn twitter-button text-black-25\" data-text=\"«Un experto es un hombre que ha dejado de pensar: sabe.» Frank Lloyd Wright\" href=\"https://proverbia.net/cita/2619-un-experto-es-un-hombre-que-ha-dejado-de-pensar-s\" rel=\"nofollow\" role=\"button\">\n",
            "          </a>\n",
            "          <a class=\"glyphicon2 glyphicon-facebook btn facebook-button text-black-25\" data-text=\"«Un experto es un hombre que ha dejado de pensar: sabe.» Frank Lloyd Wright\" href=\"https://proverbia.net/cita/2619-un-experto-es-un-hombre-que-ha-dejado-de-pensar-s\" rel=\"nofollow\" role=\"button\">\n",
            "          </a>\n",
            "         </div>\n",
            "         <div class=\"clearfix\">\n",
            "         </div>\n",
            "         <!--\t\t\n",
            "\t\t\n",
            "\t\t<div class=\"pull-right\">\t\t\t\t\n",
            "\t\t\t<div class=\"btn-group btn-group-justified\" role=\"group\" aria-label=\"...\">\t\t\n",
            "\t\t\t\t<div  class=\"btn btn-default btn-group\" rol=\"toolbar\"><span class=\"glyphicon glyphicon-star-empty\" aria-hidden=\"true\"></span></div>\t\t\t\n",
            "\t\t\t\t<div  class=\"btn btn-default btn-group\" rol=\"toolbar\"><span class=\"glyphicon glyphicon-info-sign\" aria-hidden=\"true\"></span></div>\n",
            "\t\t\t\t<div  class=\"btn btn-default btn-group\" rol=\"toolbar\"><span class=\"glyphicon glyphicon-share\" aria-hidden=\"true\"></span></div> \n",
            "\t\t\t\t<div  class=\"btn btn-default btn-group\" rol=\"toolbar\"><span class=\"glyphicon glyphicon-facebook\" aria-hidden=\"true\"></span></div> \n",
            "\t\t\t</div>\t\t\t\n",
            "\t\t</div>\n",
            "\n",
            "\t\t<div class=\"dropdown\" >\t\t\t\n",
            "\t\t\t<div class=\"btn-toolbar pull-right\" aria-label=\"...\" >\t\t\t\t\t\n",
            "\t\t\t\t<div class=\"btn btn-default btn-group\" rol=\"toolbar\"><span class=\"glyphicon glyphicon-option-horizontal\" aria-hidden=\"true\"></span></div>\n",
            "\t\t\t\t<div class=\"btn btn-default btn-group btn-twitter\" rol=\"toolbar\">Twitter</span></div>\n",
            "\t\t\t\t<div class=\"btn btn-default btn-group btn-facebook\" rol=\"toolbar\">Facebook</span></div> \n",
            "\t\t\t</div>  \n",
            "\t\t</div>\n",
            "\n",
            "\t\t<div class=\"btn-group btn-group-justified\" role=\"group\" aria-label=\"...\">\n",
            "\t\t\t<div  class=\"btn btn-default btn-group btn-lg\" rol=\"toolbar\"><span class=\"glyphicon glyphicon-star-empty\" aria-hidden=\"true\"></span></div>\t\t\t\n",
            "\t\t\t<div  class=\"btn btn-default btn-group btn-lg\" rol=\"toolbar\"><span class=\"glyphicon glyphicon-info-sign\" aria-hidden=\"true\"></span></div>\n",
            "\t\t\t<div  class=\"btn btn-default btn-group btn-lg\" rol=\"toolbar\"><span class=\"glyphicon glyphicon-share\" aria-hidden=\"true\"></span></div> \n",
            "\t\t\t<div  class=\"btn btn-default btn-group btn-lg\" rol=\"toolbar\"><span class=\"glyphicon glyphicon-facebook\" aria-hidden=\"true\">Facebook</span></div> \n",
            "\t\t</div>\n",
            "\t\t//-->\n",
            "        </div>\n",
            "       </footer>\n",
            "      </blockquote>\n",
            "      <blockquote class=\"bsquote\">\n",
            "       <p>\n",
            "        La experiencia del mundo no consiste en el número de cosas que se han visto, sino en el número de cosas sobre las que se ha reflexionado con fruto.\n",
            "       </p>\n",
            "       <footer>\n",
            "        <a href=\"/autor/frases-de-gottfried-leibniz\" title=\"Frases de Gottfried Leibniz\">\n",
            "         Gottfried Leibniz\n",
            "        </a>\n",
            "        <em>\n",
            "         (1646-1716) Filósofo, físico y matemático alemán.\n",
            "        </em>\n",
            "        <div class=\"subfooter\">\n",
            "         <div class=\"float-left\">\n",
            "          <span aria-hidden=\"true\" class=\"glyphicon2 glyphicon-tag\">\n",
            "          </span>\n",
            "          <a href=\"/frases-de-cualidades\">\n",
            "           Cualidades\n",
            "          </a>\n",
            "          /\n",
            "          <a href=\"/frases-de-experiencia\" title=\"Frases sobre la experiencia\">\n",
            "           Experiencia\n",
            "          </a>\n",
            "         </div>\n",
            "         <div aria-label=\"...\" class=\"btn-group btn-group-lg float-right\" role=\"group\">\n",
            "          <a class=\"glyphicon2 glyphicon-twitter btn twitter-button text-black-25\" data-text=\"«La experiencia del mundo no consiste en el número de cosas que se han visto, sino en el número de cosas sobre las que se ha reflexionado con fruto.» Gottfried Leibniz\" href=\"https://proverbia.net/cita/453056771-la-experiencia-del-mundo-no-consiste-en-el-numero-\" rel=\"nofollow\" role=\"button\">\n",
            "          </a>\n",
            "          <a class=\"glyphicon2 glyphicon-facebook btn facebook-button text-black-25\" data-text=\"«La experiencia del mundo no consiste en el número de cosas que se han visto, sino en el número de cosas sobre las que se ha reflexionado con fruto.» Gottfried Leibniz\" href=\"https://proverbia.net/cita/453056771-la-experiencia-del-mundo-no-consiste-en-el-numero-\" rel=\"nofollow\" role=\"button\">\n",
            "          </a>\n",
            "         </div>\n",
            "         <div class=\"clearfix\">\n",
            "         </div>\n",
            "         <!--\t\t\n",
            "\t\t\n",
            "\t\t<div class=\"pull-right\">\t\t\t\t\n",
            "\t\t\t<div class=\"btn-group btn-group-justified\" role=\"group\" aria-label=\"...\">\t\t\n",
            "\t\t\t\t<div  class=\"btn btn-default btn-group\" rol=\"toolbar\"><span class=\"glyphicon glyphicon-star-empty\" aria-hidden=\"true\"></span></div>\t\t\t\n",
            "\t\t\t\t<div  class=\"btn btn-default btn-group\" rol=\"toolbar\"><span class=\"glyphicon glyphicon-info-sign\" aria-hidden=\"true\"></span></div>\n",
            "\t\t\t\t<div  class=\"btn btn-default btn-group\" rol=\"toolbar\"><span class=\"glyphicon glyphicon-share\" aria-hidden=\"true\"></span></div> \n",
            "\t\t\t\t<div  class=\"btn btn-default btn-group\" rol=\"toolbar\"><span class=\"glyphicon glyphicon-facebook\" aria-hidden=\"true\"></span></div> \n",
            "\t\t\t</div>\t\t\t\n",
            "\t\t</div>\n",
            "\n",
            "\t\t<div class=\"dropdown\" >\t\t\t\n",
            "\t\t\t<div class=\"btn-toolbar pull-right\" aria-label=\"...\" >\t\t\t\t\t\n",
            "\t\t\t\t<div class=\"btn btn-default btn-group\" rol=\"toolbar\"><span class=\"glyphicon glyphicon-option-horizontal\" aria-hidden=\"true\"></span></div>\n",
            "\t\t\t\t<div class=\"btn btn-default btn-group btn-twitter\" rol=\"toolbar\">Twitter</span></div>\n",
            "\t\t\t\t<div class=\"btn btn-default btn-group btn-facebook\" rol=\"toolbar\">Facebook</span></div> \n",
            "\t\t\t</div>  \n",
            "\t\t</div>\n",
            "\n",
            "\t\t<div class=\"btn-group btn-group-justified\" role=\"group\" aria-label=\"...\">\n",
            "\t\t\t<div  class=\"btn btn-default btn-group btn-lg\" rol=\"toolbar\"><span class=\"glyphicon glyphicon-star-empty\" aria-hidden=\"true\"></span></div>\t\t\t\n",
            "\t\t\t<div  class=\"btn btn-default btn-group btn-lg\" rol=\"toolbar\"><span class=\"glyphicon glyphicon-info-sign\" aria-hidden=\"true\"></span></div>\n",
            "\t\t\t<div  class=\"btn btn-default btn-group btn-lg\" rol=\"toolbar\"><span class=\"glyphicon glyphicon-share\" aria-hidden=\"true\"></span></div> \n",
            "\t\t\t<div  class=\"btn btn-default btn-group btn-lg\" rol=\"toolbar\"><span class=\"glyphicon glyphicon-facebook\" aria-hidden=\"true\">Facebook</span></div> \n",
            "\t\t</div>\n",
            "\t\t//-->\n",
            "        </div>\n",
            "       </footer>\n",
            "      </blockquote>\n",
            "      <blockquote class=\"bsquote\">\n",
            "       <p>\n",
            "        La experiencia es algo maravilloso, nos permite reconocer un error cada vez que lo volvemos a cometer.\n",
            "       </p>\n",
            "       <footer>\n",
            "        <a href=\"/autor/frases-de-franklin-p-jones\" title=\"Frases de Franklin P. Jones\">\n",
            "         Franklin P. Jones\n",
            "        </a>\n",
            "        <em>\n",
            "        </em>\n",
            "        <div class=\"subfooter\">\n",
            "         <div class=\"float-left\">\n",
            "          <span aria-hidden=\"true\" class=\"glyphicon2 glyphicon-tag\">\n",
            "          </span>\n",
            "          <a href=\"/frases-de-cualidades\">\n",
            "           Cualidades\n",
            "          </a>\n",
            "          /\n",
            "          <a href=\"/frases-de-experiencia\" title=\"Frases sobre la experiencia\">\n",
            "           Experiencia\n",
            "          </a>\n",
            "         </div>\n",
            "         <div aria-label=\"...\" class=\"btn-group btn-group-lg float-right\" role=\"group\">\n",
            "          <a class=\"glyphicon2 glyphicon-twitter btn twitter-button text-black-25\" data-text=\"«La experiencia es algo maravilloso, nos permite reconocer un error cada vez que lo volvemos a cometer.» Franklin P. Jones\" href=\"https://proverbia.net/cita/8172-la-experiencia-es-algo-maravilloso-nos-permite-re\" rel=\"nofollow\" role=\"button\">\n",
            "          </a>\n",
            "          <a class=\"glyphicon2 glyphicon-facebook btn facebook-button text-black-25\" data-text=\"«La experiencia es algo maravilloso, nos permite reconocer un error cada vez que lo volvemos a cometer.» Franklin P. Jones\" href=\"https://proverbia.net/cita/8172-la-experiencia-es-algo-maravilloso-nos-permite-re\" rel=\"nofollow\" role=\"button\">\n",
            "          </a>\n",
            "         </div>\n",
            "         <div class=\"clearfix\">\n",
            "         </div>\n",
            "         <!--\t\t\n",
            "\t\t\n",
            "\t\t<div class=\"pull-right\">\t\t\t\t\n",
            "\t\t\t<div class=\"btn-group btn-group-justified\" role=\"group\" aria-label=\"...\">\t\t\n",
            "\t\t\t\t<div  class=\"btn btn-default btn-group\" rol=\"toolbar\"><span class=\"glyphicon glyphicon-star-empty\" aria-hidden=\"true\"></span></div>\t\t\t\n",
            "\t\t\t\t<div  class=\"btn btn-default btn-group\" rol=\"toolbar\"><span class=\"glyphicon glyphicon-info-sign\" aria-hidden=\"true\"></span></div>\n",
            "\t\t\t\t<div  class=\"btn btn-default btn-group\" rol=\"toolbar\"><span class=\"glyphicon glyphicon-share\" aria-hidden=\"true\"></span></div> \n",
            "\t\t\t\t<div  class=\"btn btn-default btn-group\" rol=\"toolbar\"><span class=\"glyphicon glyphicon-facebook\" aria-hidden=\"true\"></span></div> \n",
            "\t\t\t</div>\t\t\t\n",
            "\t\t</div>\n",
            "\n",
            "\t\t<div class=\"dropdown\" >\t\t\t\n",
            "\t\t\t<div class=\"btn-toolbar pull-right\" aria-label=\"...\" >\t\t\t\t\t\n",
            "\t\t\t\t<div class=\"btn btn-default btn-group\" rol=\"toolbar\"><span class=\"glyphicon glyphicon-option-horizontal\" aria-hidden=\"true\"></span></div>\n",
            "\t\t\t\t<div class=\"btn btn-default btn-group btn-twitter\" rol=\"toolbar\">Twitter</span></div>\n",
            "\t\t\t\t<div class=\"btn btn-default btn-group btn-facebook\" rol=\"toolbar\">Facebook</span></div> \n",
            "\t\t\t</div>  \n",
            "\t\t</div>\n",
            "\n",
            "\t\t<div class=\"btn-group btn-group-justified\" role=\"group\" aria-label=\"...\">\n",
            "\t\t\t<div  class=\"btn btn-default btn-group btn-lg\" rol=\"toolbar\"><span class=\"glyphicon glyphicon-star-empty\" aria-hidden=\"true\"></span></div>\t\t\t\n",
            "\t\t\t<div  class=\"btn btn-default btn-group btn-lg\" rol=\"toolbar\"><span class=\"glyphicon glyphicon-info-sign\" aria-hidden=\"true\"></span></div>\n",
            "\t\t\t<div  class=\"btn btn-default btn-group btn-lg\" rol=\"toolbar\"><span class=\"glyphicon glyphicon-share\" aria-hidden=\"true\"></span></div> \n",
            "\t\t\t<div  class=\"btn btn-default btn-group btn-lg\" rol=\"toolbar\"><span class=\"glyphicon glyphicon-facebook\" aria-hidden=\"true\">Facebook</span></div> \n",
            "\t\t</div>\n",
            "\t\t//-->\n",
            "        </div>\n",
            "       </footer>\n",
            "      </blockquote>\n",
            "      <blockquote class=\"bsquote\">\n",
            "       <p>\n",
            "        Experiencia es el nombre que damos a nuestras equivocaciones.\n",
            "       </p>\n",
            "       <footer>\n",
            "        <a href=\"/autor/frases-de-oscar-wilde\" title=\"Frases de Oscar Wilde\">\n",
            "         Oscar Wilde\n",
            "        </a>\n",
            "        <em>\n",
            "         (1854-1900) Dramaturgo y novelista irlandés.\n",
            "        </em>\n",
            "        <div class=\"subfooter\">\n",
            "         <div class=\"float-left\">\n",
            "          <span aria-hidden=\"true\" class=\"glyphicon2 glyphicon-tag\">\n",
            "          </span>\n",
            "          <a href=\"/frases-de-cualidades\">\n",
            "           Cualidades\n",
            "          </a>\n",
            "          /\n",
            "          <a href=\"/frases-de-experiencia\" title=\"Frases sobre la experiencia\">\n",
            "           Experiencia\n",
            "          </a>\n",
            "         </div>\n",
            "         <div aria-label=\"...\" class=\"btn-group btn-group-lg float-right\" role=\"group\">\n",
            "          <a class=\"glyphicon2 glyphicon-twitter btn twitter-button text-black-25\" data-text=\"«Experiencia es el nombre que damos a nuestras equivocaciones.» Oscar Wilde\" href=\"https://proverbia.net/cita/1436-experiencia-es-el-nombre-que-damos-a-nuestras-equi\" rel=\"nofollow\" role=\"button\">\n",
            "          </a>\n",
            "          <a class=\"glyphicon2 glyphicon-facebook btn facebook-button text-black-25\" data-text=\"«Experiencia es el nombre que damos a nuestras equivocaciones.» Oscar Wilde\" href=\"https://proverbia.net/cita/1436-experiencia-es-el-nombre-que-damos-a-nuestras-equi\" rel=\"nofollow\" role=\"button\">\n",
            "          </a>\n",
            "         </div>\n",
            "         <div class=\"clearfix\">\n",
            "         </div>\n",
            "         <!--\t\t\n",
            "\t\t\n",
            "\t\t<div class=\"pull-right\">\t\t\t\t\n",
            "\t\t\t<div class=\"btn-group btn-group-justified\" role=\"group\" aria-label=\"...\">\t\t\n",
            "\t\t\t\t<div  class=\"btn btn-default btn-group\" rol=\"toolbar\"><span class=\"glyphicon glyphicon-star-empty\" aria-hidden=\"true\"></span></div>\t\t\t\n",
            "\t\t\t\t<div  class=\"btn btn-default btn-group\" rol=\"toolbar\"><span class=\"glyphicon glyphicon-info-sign\" aria-hidden=\"true\"></span></div>\n",
            "\t\t\t\t<div  class=\"btn btn-default btn-group\" rol=\"toolbar\"><span class=\"glyphicon glyphicon-share\" aria-hidden=\"true\"></span></div> \n",
            "\t\t\t\t<div  class=\"btn btn-default btn-group\" rol=\"toolbar\"><span class=\"glyphicon glyphicon-facebook\" aria-hidden=\"true\"></span></div> \n",
            "\t\t\t</div>\t\t\t\n",
            "\t\t</div>\n",
            "\n",
            "\t\t<div class=\"dropdown\" >\t\t\t\n",
            "\t\t\t<div class=\"btn-toolbar pull-right\" aria-label=\"...\" >\t\t\t\t\t\n",
            "\t\t\t\t<div class=\"btn btn-default btn-group\" rol=\"toolbar\"><span class=\"glyphicon glyphicon-option-horizontal\" aria-hidden=\"true\"></span></div>\n",
            "\t\t\t\t<div class=\"btn btn-default btn-group btn-twitter\" rol=\"toolbar\">Twitter</span></div>\n",
            "\t\t\t\t<div class=\"btn btn-default btn-group btn-facebook\" rol=\"toolbar\">Facebook</span></div> \n",
            "\t\t\t</div>  \n",
            "\t\t</div>\n",
            "\n",
            "\t\t<div class=\"btn-group btn-group-justified\" role=\"group\" aria-label=\"...\">\n",
            "\t\t\t<div  class=\"btn btn-default btn-group btn-lg\" rol=\"toolbar\"><span class=\"glyphicon glyphicon-star-empty\" aria-hidden=\"true\"></span></div>\t\t\t\n",
            "\t\t\t<div  class=\"btn btn-default btn-group btn-lg\" rol=\"toolbar\"><span class=\"glyphicon glyphicon-info-sign\" aria-hidden=\"true\"></span></div>\n",
            "\t\t\t<div  class=\"btn btn-default btn-group btn-lg\" rol=\"toolbar\"><span class=\"glyphicon glyphicon-share\" aria-hidden=\"true\"></span></div> \n",
            "\t\t\t<div  class=\"btn btn-default btn-group btn-lg\" rol=\"toolbar\"><span class=\"glyphicon glyphicon-facebook\" aria-hidden=\"true\">Facebook</span></div> \n",
            "\t\t</div>\n",
            "\t\t//-->\n",
            "        </div>\n",
            "       </footer>\n",
            "      </blockquote>\n",
            "      <blockquote class=\"bsquote\">\n",
            "       <p>\n",
            "        Sólo una cosa es más dolorosa que aprender de la experiencia, y es, no aprender de la experiencia.\n",
            "       </p>\n",
            "       <footer>\n",
            "        <a href=\"/autor/frases-de-laurence-j-peter\" title=\"Frases de Laurence J. Peter\">\n",
            "         Laurence J. Peter\n",
            "        </a>\n",
            "        <em>\n",
            "         (1919-1990) Profesor y escritor canadiense.\n",
            "        </em>\n",
            "        <div class=\"subfooter\">\n",
            "         <div class=\"float-left\">\n",
            "          <span aria-hidden=\"true\" class=\"glyphicon2 glyphicon-tag\">\n",
            "          </span>\n",
            "          <a href=\"/frases-de-cualidades\">\n",
            "           Cualidades\n",
            "          </a>\n",
            "          /\n",
            "          <a href=\"/frases-de-experiencia\" title=\"Frases sobre la experiencia\">\n",
            "           Experiencia\n",
            "          </a>\n",
            "         </div>\n",
            "         <div aria-label=\"...\" class=\"btn-group btn-group-lg float-right\" role=\"group\">\n",
            "          <a class=\"glyphicon2 glyphicon-twitter btn twitter-button text-black-25\" data-text=\"«Sólo una cosa es más dolorosa que aprender de la experiencia, y es, no aprender de la experiencia.» Laurence J. Peter\" href=\"https://proverbia.net/cita/3843-solo-una-cosa-es-mas-dolorosa-que-aprender-de-la-e\" rel=\"nofollow\" role=\"button\">\n",
            "          </a>\n",
            "          <a class=\"glyphicon2 glyphicon-facebook btn facebook-button text-black-25\" data-text=\"«Sólo una cosa es más dolorosa que aprender de la experiencia, y es, no aprender de la experiencia.» Laurence J. Peter\" href=\"https://proverbia.net/cita/3843-solo-una-cosa-es-mas-dolorosa-que-aprender-de-la-e\" rel=\"nofollow\" role=\"button\">\n",
            "          </a>\n",
            "         </div>\n",
            "         <div class=\"clearfix\">\n",
            "         </div>\n",
            "         <!--\t\t\n",
            "\t\t\n",
            "\t\t<div class=\"pull-right\">\t\t\t\t\n",
            "\t\t\t<div class=\"btn-group btn-group-justified\" role=\"group\" aria-label=\"...\">\t\t\n",
            "\t\t\t\t<div  class=\"btn btn-default btn-group\" rol=\"toolbar\"><span class=\"glyphicon glyphicon-star-empty\" aria-hidden=\"true\"></span></div>\t\t\t\n",
            "\t\t\t\t<div  class=\"btn btn-default btn-group\" rol=\"toolbar\"><span class=\"glyphicon glyphicon-info-sign\" aria-hidden=\"true\"></span></div>\n",
            "\t\t\t\t<div  class=\"btn btn-default btn-group\" rol=\"toolbar\"><span class=\"glyphicon glyphicon-share\" aria-hidden=\"true\"></span></div> \n",
            "\t\t\t\t<div  class=\"btn btn-default btn-group\" rol=\"toolbar\"><span class=\"glyphicon glyphicon-facebook\" aria-hidden=\"true\"></span></div> \n",
            "\t\t\t</div>\t\t\t\n",
            "\t\t</div>\n",
            "\n",
            "\t\t<div class=\"dropdown\" >\t\t\t\n",
            "\t\t\t<div class=\"btn-toolbar pull-right\" aria-label=\"...\" >\t\t\t\t\t\n",
            "\t\t\t\t<div class=\"btn btn-default btn-group\" rol=\"toolbar\"><span class=\"glyphicon glyphicon-option-horizontal\" aria-hidden=\"true\"></span></div>\n",
            "\t\t\t\t<div class=\"btn btn-default btn-group btn-twitter\" rol=\"toolbar\">Twitter</span></div>\n",
            "\t\t\t\t<div class=\"btn btn-default btn-group btn-facebook\" rol=\"toolbar\">Facebook</span></div> \n",
            "\t\t\t</div>  \n",
            "\t\t</div>\n",
            "\n",
            "\t\t<div class=\"btn-group btn-group-justified\" role=\"group\" aria-label=\"...\">\n",
            "\t\t\t<div  class=\"btn btn-default btn-group btn-lg\" rol=\"toolbar\"><span class=\"glyphicon glyphicon-star-empty\" aria-hidden=\"true\"></span></div>\t\t\t\n",
            "\t\t\t<div  class=\"btn btn-default btn-group btn-lg\" rol=\"toolbar\"><span class=\"glyphicon glyphicon-info-sign\" aria-hidden=\"true\"></span></div>\n",
            "\t\t\t<div  class=\"btn btn-default btn-group btn-lg\" rol=\"toolbar\"><span class=\"glyphicon glyphicon-share\" aria-hidden=\"true\"></span></div> \n",
            "\t\t\t<div  class=\"btn btn-default btn-group btn-lg\" rol=\"toolbar\"><span class=\"glyphicon glyphicon-facebook\" aria-hidden=\"true\">Facebook</span></div> \n",
            "\t\t</div>\n",
            "\t\t//-->\n",
            "        </div>\n",
            "       </footer>\n",
            "      </blockquote>\n",
            "      <blockquote class=\"bsquote\">\n",
            "       <p>\n",
            "        Paréceme, Sancho, que no hay refrán que no sea verdadero, porque todos son sentencias sacadas de la mesma experiencia, madre de las ciencias todas.\n",
            "       </p>\n",
            "       <footer>\n",
            "        <a href=\"/autor/frases-de-miguel-de-cervantes\" title=\"Frases de Miguel de Cervantes\">\n",
            "         Miguel de Cervantes\n",
            "        </a>\n",
            "        <em>\n",
            "         (1547-1616) Escritor español.\n",
            "        </em>\n",
            "        <div class=\"subfooter\">\n",
            "         <div class=\"float-left\">\n",
            "          <span aria-hidden=\"true\" class=\"glyphicon2 glyphicon-tag\">\n",
            "          </span>\n",
            "          <a href=\"/frases-de-cualidades\">\n",
            "           Cualidades\n",
            "          </a>\n",
            "          /\n",
            "          <a href=\"/frases-de-experiencia\" title=\"Frases sobre la experiencia\">\n",
            "           Experiencia\n",
            "          </a>\n",
            "         </div>\n",
            "         <div aria-label=\"...\" class=\"btn-group btn-group-lg float-right\" role=\"group\">\n",
            "          <a class=\"glyphicon2 glyphicon-twitter btn twitter-button text-black-25\" data-text=\"«Paréceme, Sancho, que no hay refrán que no sea verdadero, porque todos son sentencias sacadas de la mesma experiencia, madre de las ciencias todas.» Miguel de Cervantes\" href=\"https://proverbia.net/cita/590-pareceme-sancho-que-no-hay-refran-que-no-sea-ver\" rel=\"nofollow\" role=\"button\">\n",
            "          </a>\n",
            "          <a class=\"glyphicon2 glyphicon-facebook btn facebook-button text-black-25\" data-text=\"«Paréceme, Sancho, que no hay refrán que no sea verdadero, porque todos son sentencias sacadas de la mesma experiencia, madre de las ciencias todas.» Miguel de Cervantes\" href=\"https://proverbia.net/cita/590-pareceme-sancho-que-no-hay-refran-que-no-sea-ver\" rel=\"nofollow\" role=\"button\">\n",
            "          </a>\n",
            "         </div>\n",
            "         <div class=\"clearfix\">\n",
            "         </div>\n",
            "         <!--\t\t\n",
            "\t\t\n",
            "\t\t<div class=\"pull-right\">\t\t\t\t\n",
            "\t\t\t<div class=\"btn-group btn-group-justified\" role=\"group\" aria-label=\"...\">\t\t\n",
            "\t\t\t\t<div  class=\"btn btn-default btn-group\" rol=\"toolbar\"><span class=\"glyphicon glyphicon-star-empty\" aria-hidden=\"true\"></span></div>\t\t\t\n",
            "\t\t\t\t<div  class=\"btn btn-default btn-group\" rol=\"toolbar\"><span class=\"glyphicon glyphicon-info-sign\" aria-hidden=\"true\"></span></div>\n",
            "\t\t\t\t<div  class=\"btn btn-default btn-group\" rol=\"toolbar\"><span class=\"glyphicon glyphicon-share\" aria-hidden=\"true\"></span></div> \n",
            "\t\t\t\t<div  class=\"btn btn-default btn-group\" rol=\"toolbar\"><span class=\"glyphicon glyphicon-facebook\" aria-hidden=\"true\"></span></div> \n",
            "\t\t\t</div>\t\t\t\n",
            "\t\t</div>\n",
            "\n",
            "\t\t<div class=\"dropdown\" >\t\t\t\n",
            "\t\t\t<div class=\"btn-toolbar pull-right\" aria-label=\"...\" >\t\t\t\t\t\n",
            "\t\t\t\t<div class=\"btn btn-default btn-group\" rol=\"toolbar\"><span class=\"glyphicon glyphicon-option-horizontal\" aria-hidden=\"true\"></span></div>\n",
            "\t\t\t\t<div class=\"btn btn-default btn-group btn-twitter\" rol=\"toolbar\">Twitter</span></div>\n",
            "\t\t\t\t<div class=\"btn btn-default btn-group btn-facebook\" rol=\"toolbar\">Facebook</span></div> \n",
            "\t\t\t</div>  \n",
            "\t\t</div>\n",
            "\n",
            "\t\t<div class=\"btn-group btn-group-justified\" role=\"group\" aria-label=\"...\">\n",
            "\t\t\t<div  class=\"btn btn-default btn-group btn-lg\" rol=\"toolbar\"><span class=\"glyphicon glyphicon-star-empty\" aria-hidden=\"true\"></span></div>\t\t\t\n",
            "\t\t\t<div  class=\"btn btn-default btn-group btn-lg\" rol=\"toolbar\"><span class=\"glyphicon glyphicon-info-sign\" aria-hidden=\"true\"></span></div>\n",
            "\t\t\t<div  class=\"btn btn-default btn-group btn-lg\" rol=\"toolbar\"><span class=\"glyphicon glyphicon-share\" aria-hidden=\"true\"></span></div> \n",
            "\t\t\t<div  class=\"btn btn-default btn-group btn-lg\" rol=\"toolbar\"><span class=\"glyphicon glyphicon-facebook\" aria-hidden=\"true\">Facebook</span></div> \n",
            "\t\t</div>\n",
            "\t\t//-->\n",
            "        </div>\n",
            "       </footer>\n",
            "      </blockquote>\n",
            "      <blockquote class=\"bsquote\">\n",
            "       <p>\n",
            "        Nada se sabe bien sino por medio de la experiencia.\n",
            "       </p>\n",
            "       <footer>\n",
            "        <a href=\"/autor/frases-de-sir-francis-bacon\" title=\"Frases de Sir Francis Bacon\">\n",
            "         Sir Francis Bacon\n",
            "        </a>\n",
            "        <em>\n",
            "         (1561-1626) Filósofo y estadista británico.\n",
            "        </em>\n",
            "        <div class=\"subfooter\">\n",
            "         <div class=\"float-left\">\n",
            "          <span aria-hidden=\"true\" class=\"glyphicon2 glyphicon-tag\">\n",
            "          </span>\n",
            "          <a href=\"/frases-de-cualidades\">\n",
            "           Cualidades\n",
            "          </a>\n",
            "          /\n",
            "          <a href=\"/frases-de-experiencia\" title=\"Frases sobre la experiencia\">\n",
            "           Experiencia\n",
            "          </a>\n",
            "         </div>\n",
            "         <div aria-label=\"...\" class=\"btn-group btn-group-lg float-right\" role=\"group\">\n",
            "          <a class=\"glyphicon2 glyphicon-twitter btn twitter-button text-black-25\" data-text=\"«Nada se sabe bien sino por medio de la experiencia.» Sir Francis Bacon\" href=\"https://proverbia.net/cita/5845-nada-se-sabe-bien-sino-por-medio-de-la-experiencia\" rel=\"nofollow\" role=\"button\">\n",
            "          </a>\n",
            "          <a class=\"glyphicon2 glyphicon-facebook btn facebook-button text-black-25\" data-text=\"«Nada se sabe bien sino por medio de la experiencia.» Sir Francis Bacon\" href=\"https://proverbia.net/cita/5845-nada-se-sabe-bien-sino-por-medio-de-la-experiencia\" rel=\"nofollow\" role=\"button\">\n",
            "          </a>\n",
            "         </div>\n",
            "         <div class=\"clearfix\">\n",
            "         </div>\n",
            "         <!--\t\t\n",
            "\t\t\n",
            "\t\t<div class=\"pull-right\">\t\t\t\t\n",
            "\t\t\t<div class=\"btn-group btn-group-justified\" role=\"group\" aria-label=\"...\">\t\t\n",
            "\t\t\t\t<div  class=\"btn btn-default btn-group\" rol=\"toolbar\"><span class=\"glyphicon glyphicon-star-empty\" aria-hidden=\"true\"></span></div>\t\t\t\n",
            "\t\t\t\t<div  class=\"btn btn-default btn-group\" rol=\"toolbar\"><span class=\"glyphicon glyphicon-info-sign\" aria-hidden=\"true\"></span></div>\n",
            "\t\t\t\t<div  class=\"btn btn-default btn-group\" rol=\"toolbar\"><span class=\"glyphicon glyphicon-share\" aria-hidden=\"true\"></span></div> \n",
            "\t\t\t\t<div  class=\"btn btn-default btn-group\" rol=\"toolbar\"><span class=\"glyphicon glyphicon-facebook\" aria-hidden=\"true\"></span></div> \n",
            "\t\t\t</div>\t\t\t\n",
            "\t\t</div>\n",
            "\n",
            "\t\t<div class=\"dropdown\" >\t\t\t\n",
            "\t\t\t<div class=\"btn-toolbar pull-right\" aria-label=\"...\" >\t\t\t\t\t\n",
            "\t\t\t\t<div class=\"btn btn-default btn-group\" rol=\"toolbar\"><span class=\"glyphicon glyphicon-option-horizontal\" aria-hidden=\"true\"></span></div>\n",
            "\t\t\t\t<div class=\"btn btn-default btn-group btn-twitter\" rol=\"toolbar\">Twitter</span></div>\n",
            "\t\t\t\t<div class=\"btn btn-default btn-group btn-facebook\" rol=\"toolbar\">Facebook</span></div> \n",
            "\t\t\t</div>  \n",
            "\t\t</div>\n",
            "\n",
            "\t\t<div class=\"btn-group btn-group-justified\" role=\"group\" aria-label=\"...\">\n",
            "\t\t\t<div  class=\"btn btn-default btn-group btn-lg\" rol=\"toolbar\"><span class=\"glyphicon glyphicon-star-empty\" aria-hidden=\"true\"></span></div>\t\t\t\n",
            "\t\t\t<div  class=\"btn btn-default btn-group btn-lg\" rol=\"toolbar\"><span class=\"glyphicon glyphicon-info-sign\" aria-hidden=\"true\"></span></div>\n",
            "\t\t\t<div  class=\"btn btn-default btn-group btn-lg\" rol=\"toolbar\"><span class=\"glyphicon glyphicon-share\" aria-hidden=\"true\"></span></div> \n",
            "\t\t\t<div  class=\"btn btn-default btn-group btn-lg\" rol=\"toolbar\"><span class=\"glyphicon glyphicon-facebook\" aria-hidden=\"true\">Facebook</span></div> \n",
            "\t\t</div>\n",
            "\t\t//-->\n",
            "        </div>\n",
            "       </footer>\n",
            "      </blockquote>\n",
            "      <blockquote class=\"bsquote\">\n",
            "       <p>\n",
            "        La experiencia es el bastón de los ciegos.\n",
            "       </p>\n",
            "       <footer>\n",
            "        <a href=\"/autor/frases-de-jacques-roumain\" title=\"Frases de Jacques Roumain\">\n",
            "         Jacques Roumain\n",
            "        </a>\n",
            "        <em>\n",
            "         (1907-1944) Escritor y político haitiano.\n",
            "        </em>\n",
            "        <div class=\"subfooter\">\n",
            "         <div class=\"float-left\">\n",
            "          <span aria-hidden=\"true\" class=\"glyphicon2 glyphicon-tag\">\n",
            "          </span>\n",
            "          <a href=\"/frases-de-cualidades\">\n",
            "           Cualidades\n",
            "          </a>\n",
            "          /\n",
            "          <a href=\"/frases-de-experiencia\" title=\"Frases sobre la experiencia\">\n",
            "           Experiencia\n",
            "          </a>\n",
            "         </div>\n",
            "         <div aria-label=\"...\" class=\"btn-group btn-group-lg float-right\" role=\"group\">\n",
            "          <a class=\"glyphicon2 glyphicon-twitter btn twitter-button text-black-25\" data-text=\"«La experiencia es el bastón de los ciegos.» Jacques Roumain\" href=\"https://proverbia.net/cita/17635-la-experiencia-es-el-baston-de-los-ciegos\" rel=\"nofollow\" role=\"button\">\n",
            "          </a>\n",
            "          <a class=\"glyphicon2 glyphicon-facebook btn facebook-button text-black-25\" data-text=\"«La experiencia es el bastón de los ciegos.» Jacques Roumain\" href=\"https://proverbia.net/cita/17635-la-experiencia-es-el-baston-de-los-ciegos\" rel=\"nofollow\" role=\"button\">\n",
            "          </a>\n",
            "         </div>\n",
            "         <div class=\"clearfix\">\n",
            "         </div>\n",
            "         <!--\t\t\n",
            "\t\t\n",
            "\t\t<div class=\"pull-right\">\t\t\t\t\n",
            "\t\t\t<div class=\"btn-group btn-group-justified\" role=\"group\" aria-label=\"...\">\t\t\n",
            "\t\t\t\t<div  class=\"btn btn-default btn-group\" rol=\"toolbar\"><span class=\"glyphicon glyphicon-star-empty\" aria-hidden=\"true\"></span></div>\t\t\t\n",
            "\t\t\t\t<div  class=\"btn btn-default btn-group\" rol=\"toolbar\"><span class=\"glyphicon glyphicon-info-sign\" aria-hidden=\"true\"></span></div>\n",
            "\t\t\t\t<div  class=\"btn btn-default btn-group\" rol=\"toolbar\"><span class=\"glyphicon glyphicon-share\" aria-hidden=\"true\"></span></div> \n",
            "\t\t\t\t<div  class=\"btn btn-default btn-group\" rol=\"toolbar\"><span class=\"glyphicon glyphicon-facebook\" aria-hidden=\"true\"></span></div> \n",
            "\t\t\t</div>\t\t\t\n",
            "\t\t</div>\n",
            "\n",
            "\t\t<div class=\"dropdown\" >\t\t\t\n",
            "\t\t\t<div class=\"btn-toolbar pull-right\" aria-label=\"...\" >\t\t\t\t\t\n",
            "\t\t\t\t<div class=\"btn btn-default btn-group\" rol=\"toolbar\"><span class=\"glyphicon glyphicon-option-horizontal\" aria-hidden=\"true\"></span></div>\n",
            "\t\t\t\t<div class=\"btn btn-default btn-group btn-twitter\" rol=\"toolbar\">Twitter</span></div>\n",
            "\t\t\t\t<div class=\"btn btn-default btn-group btn-facebook\" rol=\"toolbar\">Facebook</span></div> \n",
            "\t\t\t</div>  \n",
            "\t\t</div>\n",
            "\n",
            "\t\t<div class=\"btn-group btn-group-justified\" role=\"group\" aria-label=\"...\">\n",
            "\t\t\t<div  class=\"btn btn-default btn-group btn-lg\" rol=\"toolbar\"><span class=\"glyphicon glyphicon-star-empty\" aria-hidden=\"true\"></span></div>\t\t\t\n",
            "\t\t\t<div  class=\"btn btn-default btn-group btn-lg\" rol=\"toolbar\"><span class=\"glyphicon glyphicon-info-sign\" aria-hidden=\"true\"></span></div>\n",
            "\t\t\t<div  class=\"btn btn-default btn-group btn-lg\" rol=\"toolbar\"><span class=\"glyphicon glyphicon-share\" aria-hidden=\"true\"></span></div> \n",
            "\t\t\t<div  class=\"btn btn-default btn-group btn-lg\" rol=\"toolbar\"><span class=\"glyphicon glyphicon-facebook\" aria-hidden=\"true\">Facebook</span></div> \n",
            "\t\t</div>\n",
            "\t\t//-->\n",
            "        </div>\n",
            "       </footer>\n",
            "      </blockquote>\n",
            "      <blockquote class=\"bsquote\">\n",
            "       <p>\n",
            "        Para la mayoría de los hombres, la experiencia es como las luces de popa de un barco, que iluminan sólo el camino que queda a la espalda.\n",
            "       </p>\n",
            "       <footer>\n",
            "        <a href=\"/autor/frases-de-samuel-taylor-coleridge\" title=\"Frases de Samuel Taylor Coleridge\">\n",
            "         Samuel Taylor Coleridge\n",
            "        </a>\n",
            "        <em>\n",
            "         (1772-1834) Poeta inglés.\n",
            "        </em>\n",
            "        <div class=\"subfooter\">\n",
            "         <div class=\"float-left\">\n",
            "          <span aria-hidden=\"true\" class=\"glyphicon2 glyphicon-tag\">\n",
            "          </span>\n",
            "          <a href=\"/frases-de-cualidades\">\n",
            "           Cualidades\n",
            "          </a>\n",
            "          /\n",
            "          <a href=\"/frases-de-experiencia\" title=\"Frases sobre la experiencia\">\n",
            "           Experiencia\n",
            "          </a>\n",
            "         </div>\n",
            "         <div aria-label=\"...\" class=\"btn-group btn-group-lg float-right\" role=\"group\">\n",
            "          <a class=\"glyphicon2 glyphicon-twitter btn twitter-button text-black-25\" data-text=\"«Para la mayoría de los hombres, la experiencia es como las luces de popa de un barco, que iluminan sólo el camino que queda a la espalda.» Samuel Taylor Coleridge\" href=\"https://proverbia.net/cita/778-para-la-mayoria-de-los-hombres-la-experiencia-es-\" rel=\"nofollow\" role=\"button\">\n",
            "          </a>\n",
            "          <a class=\"glyphicon2 glyphicon-facebook btn facebook-button text-black-25\" data-text=\"«Para la mayoría de los hombres, la experiencia es como las luces de popa de un barco, que iluminan sólo el camino que queda a la espalda.» Samuel Taylor Coleridge\" href=\"https://proverbia.net/cita/778-para-la-mayoria-de-los-hombres-la-experiencia-es-\" rel=\"nofollow\" role=\"button\">\n",
            "          </a>\n",
            "         </div>\n",
            "         <div class=\"clearfix\">\n",
            "         </div>\n",
            "         <!--\t\t\n",
            "\t\t\n",
            "\t\t<div class=\"pull-right\">\t\t\t\t\n",
            "\t\t\t<div class=\"btn-group btn-group-justified\" role=\"group\" aria-label=\"...\">\t\t\n",
            "\t\t\t\t<div  class=\"btn btn-default btn-group\" rol=\"toolbar\"><span class=\"glyphicon glyphicon-star-empty\" aria-hidden=\"true\"></span></div>\t\t\t\n",
            "\t\t\t\t<div  class=\"btn btn-default btn-group\" rol=\"toolbar\"><span class=\"glyphicon glyphicon-info-sign\" aria-hidden=\"true\"></span></div>\n",
            "\t\t\t\t<div  class=\"btn btn-default btn-group\" rol=\"toolbar\"><span class=\"glyphicon glyphicon-share\" aria-hidden=\"true\"></span></div> \n",
            "\t\t\t\t<div  class=\"btn btn-default btn-group\" rol=\"toolbar\"><span class=\"glyphicon glyphicon-facebook\" aria-hidden=\"true\"></span></div> \n",
            "\t\t\t</div>\t\t\t\n",
            "\t\t</div>\n",
            "\n",
            "\t\t<div class=\"dropdown\" >\t\t\t\n",
            "\t\t\t<div class=\"btn-toolbar pull-right\" aria-label=\"...\" >\t\t\t\t\t\n",
            "\t\t\t\t<div class=\"btn btn-default btn-group\" rol=\"toolbar\"><span class=\"glyphicon glyphicon-option-horizontal\" aria-hidden=\"true\"></span></div>\n",
            "\t\t\t\t<div class=\"btn btn-default btn-group btn-twitter\" rol=\"toolbar\">Twitter</span></div>\n",
            "\t\t\t\t<div class=\"btn btn-default btn-group btn-facebook\" rol=\"toolbar\">Facebook</span></div> \n",
            "\t\t\t</div>  \n",
            "\t\t</div>\n",
            "\n",
            "\t\t<div class=\"btn-group btn-group-justified\" role=\"group\" aria-label=\"...\">\n",
            "\t\t\t<div  class=\"btn btn-default btn-group btn-lg\" rol=\"toolbar\"><span class=\"glyphicon glyphicon-star-empty\" aria-hidden=\"true\"></span></div>\t\t\t\n",
            "\t\t\t<div  class=\"btn btn-default btn-group btn-lg\" rol=\"toolbar\"><span class=\"glyphicon glyphicon-info-sign\" aria-hidden=\"true\"></span></div>\n",
            "\t\t\t<div  class=\"btn btn-default btn-group btn-lg\" rol=\"toolbar\"><span class=\"glyphicon glyphicon-share\" aria-hidden=\"true\"></span></div> \n",
            "\t\t\t<div  class=\"btn btn-default btn-group btn-lg\" rol=\"toolbar\"><span class=\"glyphicon glyphicon-facebook\" aria-hidden=\"true\">Facebook</span></div> \n",
            "\t\t</div>\n",
            "\t\t//-->\n",
            "        </div>\n",
            "       </footer>\n",
            "      </blockquote>\n",
            "      <blockquote class=\"bsquote\">\n",
            "       <p>\n",
            "        Entre hombre y hombre no hay gran diferencia. La superioridad consiste en aprovechar las lecciones de la experiencia.\n",
            "       </p>\n",
            "       <footer>\n",
            "        <a href=\"/autor/frases-de-tucidides\" title=\"Frases de  Tucídides\">\n",
            "         Tucídides\n",
            "        </a>\n",
            "        <em>\n",
            "         (460 AC-396 AC) Historiador ateniense.\n",
            "        </em>\n",
            "        <div class=\"subfooter\">\n",
            "         <div class=\"float-left\">\n",
            "          <span aria-hidden=\"true\" class=\"glyphicon2 glyphicon-tag\">\n",
            "          </span>\n",
            "          <a href=\"/frases-de-cualidades\">\n",
            "           Cualidades\n",
            "          </a>\n",
            "          /\n",
            "          <a href=\"/frases-de-experiencia\" title=\"Frases sobre la experiencia\">\n",
            "           Experiencia\n",
            "          </a>\n",
            "         </div>\n",
            "         <div aria-label=\"...\" class=\"btn-group btn-group-lg float-right\" role=\"group\">\n",
            "          <a class=\"glyphicon2 glyphicon-twitter btn twitter-button text-black-25\" data-text=\"«Entre hombre y hombre no hay gran diferencia. La superioridad consiste en aprovechar las lecciones de la experiencia.»  Tucídides\" href=\"https://proverbia.net/cita/17478-entre-hombre-y-hombre-no-hay-gran-diferencia-la-s\" rel=\"nofollow\" role=\"button\">\n",
            "          </a>\n",
            "          <a class=\"glyphicon2 glyphicon-facebook btn facebook-button text-black-25\" data-text=\"«Entre hombre y hombre no hay gran diferencia. La superioridad consiste en aprovechar las lecciones de la experiencia.»  Tucídides\" href=\"https://proverbia.net/cita/17478-entre-hombre-y-hombre-no-hay-gran-diferencia-la-s\" rel=\"nofollow\" role=\"button\">\n",
            "          </a>\n",
            "         </div>\n",
            "         <div class=\"clearfix\">\n",
            "         </div>\n",
            "         <!--\t\t\n",
            "\t\t\n",
            "\t\t<div class=\"pull-right\">\t\t\t\t\n",
            "\t\t\t<div class=\"btn-group btn-group-justified\" role=\"group\" aria-label=\"...\">\t\t\n",
            "\t\t\t\t<div  class=\"btn btn-default btn-group\" rol=\"toolbar\"><span class=\"glyphicon glyphicon-star-empty\" aria-hidden=\"true\"></span></div>\t\t\t\n",
            "\t\t\t\t<div  class=\"btn btn-default btn-group\" rol=\"toolbar\"><span class=\"glyphicon glyphicon-info-sign\" aria-hidden=\"true\"></span></div>\n",
            "\t\t\t\t<div  class=\"btn btn-default btn-group\" rol=\"toolbar\"><span class=\"glyphicon glyphicon-share\" aria-hidden=\"true\"></span></div> \n",
            "\t\t\t\t<div  class=\"btn btn-default btn-group\" rol=\"toolbar\"><span class=\"glyphicon glyphicon-facebook\" aria-hidden=\"true\"></span></div> \n",
            "\t\t\t</div>\t\t\t\n",
            "\t\t</div>\n",
            "\n",
            "\t\t<div class=\"dropdown\" >\t\t\t\n",
            "\t\t\t<div class=\"btn-toolbar pull-right\" aria-label=\"...\" >\t\t\t\t\t\n",
            "\t\t\t\t<div class=\"btn btn-default btn-group\" rol=\"toolbar\"><span class=\"glyphicon glyphicon-option-horizontal\" aria-hidden=\"true\"></span></div>\n",
            "\t\t\t\t<div class=\"btn btn-default btn-group btn-twitter\" rol=\"toolbar\">Twitter</span></div>\n",
            "\t\t\t\t<div class=\"btn btn-default btn-group btn-facebook\" rol=\"toolbar\">Facebook</span></div> \n",
            "\t\t\t</div>  \n",
            "\t\t</div>\n",
            "\n",
            "\t\t<div class=\"btn-group btn-group-justified\" role=\"group\" aria-label=\"...\">\n",
            "\t\t\t<div  class=\"btn btn-default btn-group btn-lg\" rol=\"toolbar\"><span class=\"glyphicon glyphicon-star-empty\" aria-hidden=\"true\"></span></div>\t\t\t\n",
            "\t\t\t<div  class=\"btn btn-default btn-group btn-lg\" rol=\"toolbar\"><span class=\"glyphicon glyphicon-info-sign\" aria-hidden=\"true\"></span></div>\n",
            "\t\t\t<div  class=\"btn btn-default btn-group btn-lg\" rol=\"toolbar\"><span class=\"glyphicon glyphicon-share\" aria-hidden=\"true\"></span></div> \n",
            "\t\t\t<div  class=\"btn btn-default btn-group btn-lg\" rol=\"toolbar\"><span class=\"glyphicon glyphicon-facebook\" aria-hidden=\"true\">Facebook</span></div> \n",
            "\t\t</div>\n",
            "\t\t//-->\n",
            "        </div>\n",
            "       </footer>\n",
            "      </blockquote>\n",
            "      <blockquote class=\"bsquote\">\n",
            "       <p>\n",
            "        Una espina de experiencia vale más que un bosque de advertencias.\n",
            "       </p>\n",
            "       <footer>\n",
            "        <a href=\"/autor/frases-de-james-russell-lowell\" title=\"Frases de James Russell Lowell\">\n",
            "         James Russell Lowell\n",
            "        </a>\n",
            "        <em>\n",
            "         (1819-1891) Poeta y escritor estadounidense.\n",
            "        </em>\n",
            "        <div class=\"subfooter\">\n",
            "         <div class=\"float-left\">\n",
            "          <span aria-hidden=\"true\" class=\"glyphicon2 glyphicon-tag\">\n",
            "          </span>\n",
            "          <a href=\"/frases-de-cualidades\">\n",
            "           Cualidades\n",
            "          </a>\n",
            "          /\n",
            "          <a href=\"/frases-de-experiencia\" title=\"Frases sobre la experiencia\">\n",
            "           Experiencia\n",
            "          </a>\n",
            "         </div>\n",
            "         <div aria-label=\"...\" class=\"btn-group btn-group-lg float-right\" role=\"group\">\n",
            "          <a class=\"glyphicon2 glyphicon-twitter btn twitter-button text-black-25\" data-text=\"«Una espina de experiencia vale más que un bosque de advertencias.» James Russell Lowell\" href=\"https://proverbia.net/cita/453058359-una-espina-de-experiencia-vale-mas-que-un-bosque-d\" rel=\"nofollow\" role=\"button\">\n",
            "          </a>\n",
            "          <a class=\"glyphicon2 glyphicon-facebook btn facebook-button text-black-25\" data-text=\"«Una espina de experiencia vale más que un bosque de advertencias.» James Russell Lowell\" href=\"https://proverbia.net/cita/453058359-una-espina-de-experiencia-vale-mas-que-un-bosque-d\" rel=\"nofollow\" role=\"button\">\n",
            "          </a>\n",
            "         </div>\n",
            "         <div class=\"clearfix\">\n",
            "         </div>\n",
            "         <!--\t\t\n",
            "\t\t\n",
            "\t\t<div class=\"pull-right\">\t\t\t\t\n",
            "\t\t\t<div class=\"btn-group btn-group-justified\" role=\"group\" aria-label=\"...\">\t\t\n",
            "\t\t\t\t<div  class=\"btn btn-default btn-group\" rol=\"toolbar\"><span class=\"glyphicon glyphicon-star-empty\" aria-hidden=\"true\"></span></div>\t\t\t\n",
            "\t\t\t\t<div  class=\"btn btn-default btn-group\" rol=\"toolbar\"><span class=\"glyphicon glyphicon-info-sign\" aria-hidden=\"true\"></span></div>\n",
            "\t\t\t\t<div  class=\"btn btn-default btn-group\" rol=\"toolbar\"><span class=\"glyphicon glyphicon-share\" aria-hidden=\"true\"></span></div> \n",
            "\t\t\t\t<div  class=\"btn btn-default btn-group\" rol=\"toolbar\"><span class=\"glyphicon glyphicon-facebook\" aria-hidden=\"true\"></span></div> \n",
            "\t\t\t</div>\t\t\t\n",
            "\t\t</div>\n",
            "\n",
            "\t\t<div class=\"dropdown\" >\t\t\t\n",
            "\t\t\t<div class=\"btn-toolbar pull-right\" aria-label=\"...\" >\t\t\t\t\t\n",
            "\t\t\t\t<div class=\"btn btn-default btn-group\" rol=\"toolbar\"><span class=\"glyphicon glyphicon-option-horizontal\" aria-hidden=\"true\"></span></div>\n",
            "\t\t\t\t<div class=\"btn btn-default btn-group btn-twitter\" rol=\"toolbar\">Twitter</span></div>\n",
            "\t\t\t\t<div class=\"btn btn-default btn-group btn-facebook\" rol=\"toolbar\">Facebook</span></div> \n",
            "\t\t\t</div>  \n",
            "\t\t</div>\n",
            "\n",
            "\t\t<div class=\"btn-group btn-group-justified\" role=\"group\" aria-label=\"...\">\n",
            "\t\t\t<div  class=\"btn btn-default btn-group btn-lg\" rol=\"toolbar\"><span class=\"glyphicon glyphicon-star-empty\" aria-hidden=\"true\"></span></div>\t\t\t\n",
            "\t\t\t<div  class=\"btn btn-default btn-group btn-lg\" rol=\"toolbar\"><span class=\"glyphicon glyphicon-info-sign\" aria-hidden=\"true\"></span></div>\n",
            "\t\t\t<div  class=\"btn btn-default btn-group btn-lg\" rol=\"toolbar\"><span class=\"glyphicon glyphicon-share\" aria-hidden=\"true\"></span></div> \n",
            "\t\t\t<div  class=\"btn btn-default btn-group btn-lg\" rol=\"toolbar\"><span class=\"glyphicon glyphicon-facebook\" aria-hidden=\"true\">Facebook</span></div> \n",
            "\t\t</div>\n",
            "\t\t//-->\n",
            "        </div>\n",
            "       </footer>\n",
            "      </blockquote>\n",
            "      <blockquote class=\"bsquote\">\n",
            "       <p>\n",
            "        Generalmente la experiencia se atribuye a las personas de cierta edad y, lo que es peor, se la atribuyen ellas mismas.\n",
            "       </p>\n",
            "       <footer>\n",
            "        <a href=\"/autor/frases-de-e-w-stevens\" title=\"Frases de E. W. Stevens\">\n",
            "         E. W. Stevens\n",
            "        </a>\n",
            "        <em>\n",
            "         Autor de libros de Psicología.\n",
            "        </em>\n",
            "        <div class=\"subfooter\">\n",
            "         <div class=\"float-left\">\n",
            "          <span aria-hidden=\"true\" class=\"glyphicon2 glyphicon-tag\">\n",
            "          </span>\n",
            "          <a href=\"/frases-de-cualidades\">\n",
            "           Cualidades\n",
            "          </a>\n",
            "          /\n",
            "          <a href=\"/frases-de-experiencia\" title=\"Frases sobre la experiencia\">\n",
            "           Experiencia\n",
            "          </a>\n",
            "         </div>\n",
            "         <div aria-label=\"...\" class=\"btn-group btn-group-lg float-right\" role=\"group\">\n",
            "          <a class=\"glyphicon2 glyphicon-info btn text-black-25\" href=\"/cita/210-generalmente-la-experiencia-se-atribuye-a-las-pers\" role=\"button\">\n",
            "          </a>\n",
            "          <a class=\"glyphicon2 glyphicon-twitter btn twitter-button text-black-25\" data-text=\"«Generalmente la experiencia se atribuye a las personas de cierta edad y, lo que es peor, se la atribuyen ellas mismas.» E. W. Stevens\" href=\"https://proverbia.net/cita/210-generalmente-la-experiencia-se-atribuye-a-las-pers\" rel=\"nofollow\" role=\"button\">\n",
            "          </a>\n",
            "          <a class=\"glyphicon2 glyphicon-facebook btn facebook-button text-black-25\" data-text=\"«Generalmente la experiencia se atribuye a las personas de cierta edad y, lo que es peor, se la atribuyen ellas mismas.» E. W. Stevens\" href=\"https://proverbia.net/cita/210-generalmente-la-experiencia-se-atribuye-a-las-pers\" rel=\"nofollow\" role=\"button\">\n",
            "          </a>\n",
            "         </div>\n",
            "         <div class=\"clearfix\">\n",
            "         </div>\n",
            "         <!--\t\t\n",
            "\t\t\n",
            "\t\t<div class=\"pull-right\">\t\t\t\t\n",
            "\t\t\t<div class=\"btn-group btn-group-justified\" role=\"group\" aria-label=\"...\">\t\t\n",
            "\t\t\t\t<div  class=\"btn btn-default btn-group\" rol=\"toolbar\"><span class=\"glyphicon glyphicon-star-empty\" aria-hidden=\"true\"></span></div>\t\t\t\n",
            "\t\t\t\t<div  class=\"btn btn-default btn-group\" rol=\"toolbar\"><span class=\"glyphicon glyphicon-info-sign\" aria-hidden=\"true\"></span></div>\n",
            "\t\t\t\t<div  class=\"btn btn-default btn-group\" rol=\"toolbar\"><span class=\"glyphicon glyphicon-share\" aria-hidden=\"true\"></span></div> \n",
            "\t\t\t\t<div  class=\"btn btn-default btn-group\" rol=\"toolbar\"><span class=\"glyphicon glyphicon-facebook\" aria-hidden=\"true\"></span></div> \n",
            "\t\t\t</div>\t\t\t\n",
            "\t\t</div>\n",
            "\n",
            "\t\t<div class=\"dropdown\" >\t\t\t\n",
            "\t\t\t<div class=\"btn-toolbar pull-right\" aria-label=\"...\" >\t\t\t\t\t\n",
            "\t\t\t\t<div class=\"btn btn-default btn-group\" rol=\"toolbar\"><span class=\"glyphicon glyphicon-option-horizontal\" aria-hidden=\"true\"></span></div>\n",
            "\t\t\t\t<div class=\"btn btn-default btn-group btn-twitter\" rol=\"toolbar\">Twitter</span></div>\n",
            "\t\t\t\t<div class=\"btn btn-default btn-group btn-facebook\" rol=\"toolbar\">Facebook</span></div> \n",
            "\t\t\t</div>  \n",
            "\t\t</div>\n",
            "\n",
            "\t\t<div class=\"btn-group btn-group-justified\" role=\"group\" aria-label=\"...\">\n",
            "\t\t\t<div  class=\"btn btn-default btn-group btn-lg\" rol=\"toolbar\"><span class=\"glyphicon glyphicon-star-empty\" aria-hidden=\"true\"></span></div>\t\t\t\n",
            "\t\t\t<div  class=\"btn btn-default btn-group btn-lg\" rol=\"toolbar\"><span class=\"glyphicon glyphicon-info-sign\" aria-hidden=\"true\"></span></div>\n",
            "\t\t\t<div  class=\"btn btn-default btn-group btn-lg\" rol=\"toolbar\"><span class=\"glyphicon glyphicon-share\" aria-hidden=\"true\"></span></div> \n",
            "\t\t\t<div  class=\"btn btn-default btn-group btn-lg\" rol=\"toolbar\"><span class=\"glyphicon glyphicon-facebook\" aria-hidden=\"true\">Facebook</span></div> \n",
            "\t\t</div>\n",
            "\t\t//-->\n",
            "        </div>\n",
            "       </footer>\n",
            "      </blockquote>\n",
            "      <blockquote class=\"bsquote\">\n",
            "       <p>\n",
            "        Un gran marinero puede navegar aunque sus velas sean de alquiler.\n",
            "       </p>\n",
            "       <footer>\n",
            "        <a href=\"/autor/frases-de-seneca\" title=\"Frases de  Séneca\">\n",
            "         Séneca\n",
            "        </a>\n",
            "        <em>\n",
            "         (2 AC-65) Filósofo latino.\n",
            "        </em>\n",
            "        <div class=\"subfooter\">\n",
            "         <div class=\"float-left\">\n",
            "          <span aria-hidden=\"true\" class=\"glyphicon2 glyphicon-tag\">\n",
            "          </span>\n",
            "          <a href=\"/frases-de-cualidades\">\n",
            "           Cualidades\n",
            "          </a>\n",
            "          /\n",
            "          <a href=\"/frases-de-experiencia\" title=\"Frases sobre la experiencia\">\n",
            "           Experiencia\n",
            "          </a>\n",
            "         </div>\n",
            "         <div aria-label=\"...\" class=\"btn-group btn-group-lg float-right\" role=\"group\">\n",
            "          <a class=\"glyphicon2 glyphicon-twitter btn twitter-button text-black-25\" data-text=\"«Un gran marinero puede navegar aunque sus velas sean de alquiler.»  Séneca\" href=\"https://proverbia.net/cita/453058434-un-gran-marinero-puede-navegar-aunque-sus-velas-se\" rel=\"nofollow\" role=\"button\">\n",
            "          </a>\n",
            "          <a class=\"glyphicon2 glyphicon-facebook btn facebook-button text-black-25\" data-text=\"«Un gran marinero puede navegar aunque sus velas sean de alquiler.»  Séneca\" href=\"https://proverbia.net/cita/453058434-un-gran-marinero-puede-navegar-aunque-sus-velas-se\" rel=\"nofollow\" role=\"button\">\n",
            "          </a>\n",
            "         </div>\n",
            "         <div class=\"clearfix\">\n",
            "         </div>\n",
            "         <!--\t\t\n",
            "\t\t\n",
            "\t\t<div class=\"pull-right\">\t\t\t\t\n",
            "\t\t\t<div class=\"btn-group btn-group-justified\" role=\"group\" aria-label=\"...\">\t\t\n",
            "\t\t\t\t<div  class=\"btn btn-default btn-group\" rol=\"toolbar\"><span class=\"glyphicon glyphicon-star-empty\" aria-hidden=\"true\"></span></div>\t\t\t\n",
            "\t\t\t\t<div  class=\"btn btn-default btn-group\" rol=\"toolbar\"><span class=\"glyphicon glyphicon-info-sign\" aria-hidden=\"true\"></span></div>\n",
            "\t\t\t\t<div  class=\"btn btn-default btn-group\" rol=\"toolbar\"><span class=\"glyphicon glyphicon-share\" aria-hidden=\"true\"></span></div> \n",
            "\t\t\t\t<div  class=\"btn btn-default btn-group\" rol=\"toolbar\"><span class=\"glyphicon glyphicon-facebook\" aria-hidden=\"true\"></span></div> \n",
            "\t\t\t</div>\t\t\t\n",
            "\t\t</div>\n",
            "\n",
            "\t\t<div class=\"dropdown\" >\t\t\t\n",
            "\t\t\t<div class=\"btn-toolbar pull-right\" aria-label=\"...\" >\t\t\t\t\t\n",
            "\t\t\t\t<div class=\"btn btn-default btn-group\" rol=\"toolbar\"><span class=\"glyphicon glyphicon-option-horizontal\" aria-hidden=\"true\"></span></div>\n",
            "\t\t\t\t<div class=\"btn btn-default btn-group btn-twitter\" rol=\"toolbar\">Twitter</span></div>\n",
            "\t\t\t\t<div class=\"btn btn-default btn-group btn-facebook\" rol=\"toolbar\">Facebook</span></div> \n",
            "\t\t\t</div>  \n",
            "\t\t</div>\n",
            "\n",
            "\t\t<div class=\"btn-group btn-group-justified\" role=\"group\" aria-label=\"...\">\n",
            "\t\t\t<div  class=\"btn btn-default btn-group btn-lg\" rol=\"toolbar\"><span class=\"glyphicon glyphicon-star-empty\" aria-hidden=\"true\"></span></div>\t\t\t\n",
            "\t\t\t<div  class=\"btn btn-default btn-group btn-lg\" rol=\"toolbar\"><span class=\"glyphicon glyphicon-info-sign\" aria-hidden=\"true\"></span></div>\n",
            "\t\t\t<div  class=\"btn btn-default btn-group btn-lg\" rol=\"toolbar\"><span class=\"glyphicon glyphicon-share\" aria-hidden=\"true\"></span></div> \n",
            "\t\t\t<div  class=\"btn btn-default btn-group btn-lg\" rol=\"toolbar\"><span class=\"glyphicon glyphicon-facebook\" aria-hidden=\"true\">Facebook</span></div> \n",
            "\t\t</div>\n",
            "\t\t//-->\n",
            "        </div>\n",
            "       </footer>\n",
            "      </blockquote>\n",
            "      <blockquote class=\"bsquote\">\n",
            "       <p>\n",
            "        La experiencia es algo que no consigues hasta justo después de necesitarla.\n",
            "       </p>\n",
            "       <footer>\n",
            "        <a href=\"/autor/frases-de-sir-laurence-olivier\" title=\"Frases de Sir Laurence Olivier\">\n",
            "         Sir Laurence Olivier\n",
            "        </a>\n",
            "        <em>\n",
            "         (1907-1989) Actor, director y productor británico.\n",
            "        </em>\n",
            "        <div class=\"subfooter\">\n",
            "         <div class=\"float-left\">\n",
            "          <span aria-hidden=\"true\" class=\"glyphicon2 glyphicon-tag\">\n",
            "          </span>\n",
            "          <a href=\"/frases-de-cualidades\">\n",
            "           Cualidades\n",
            "          </a>\n",
            "          /\n",
            "          <a href=\"/frases-de-experiencia\" title=\"Frases sobre la experiencia\">\n",
            "           Experiencia\n",
            "          </a>\n",
            "         </div>\n",
            "         <div aria-label=\"...\" class=\"btn-group btn-group-lg float-right\" role=\"group\">\n",
            "          <a class=\"glyphicon2 glyphicon-twitter btn twitter-button text-black-25\" data-text=\"«La experiencia es algo que no consigues hasta justo después de necesitarla.» Sir Laurence Olivier\" href=\"https://proverbia.net/cita/453058143-la-experiencia-es-algo-que-no-consigues-hasta-just\" rel=\"nofollow\" role=\"button\">\n",
            "          </a>\n",
            "          <a class=\"glyphicon2 glyphicon-facebook btn facebook-button text-black-25\" data-text=\"«La experiencia es algo que no consigues hasta justo después de necesitarla.» Sir Laurence Olivier\" href=\"https://proverbia.net/cita/453058143-la-experiencia-es-algo-que-no-consigues-hasta-just\" rel=\"nofollow\" role=\"button\">\n",
            "          </a>\n",
            "         </div>\n",
            "         <div class=\"clearfix\">\n",
            "         </div>\n",
            "         <!--\t\t\n",
            "\t\t\n",
            "\t\t<div class=\"pull-right\">\t\t\t\t\n",
            "\t\t\t<div class=\"btn-group btn-group-justified\" role=\"group\" aria-label=\"...\">\t\t\n",
            "\t\t\t\t<div  class=\"btn btn-default btn-group\" rol=\"toolbar\"><span class=\"glyphicon glyphicon-star-empty\" aria-hidden=\"true\"></span></div>\t\t\t\n",
            "\t\t\t\t<div  class=\"btn btn-default btn-group\" rol=\"toolbar\"><span class=\"glyphicon glyphicon-info-sign\" aria-hidden=\"true\"></span></div>\n",
            "\t\t\t\t<div  class=\"btn btn-default btn-group\" rol=\"toolbar\"><span class=\"glyphicon glyphicon-share\" aria-hidden=\"true\"></span></div> \n",
            "\t\t\t\t<div  class=\"btn btn-default btn-group\" rol=\"toolbar\"><span class=\"glyphicon glyphicon-facebook\" aria-hidden=\"true\"></span></div> \n",
            "\t\t\t</div>\t\t\t\n",
            "\t\t</div>\n",
            "\n",
            "\t\t<div class=\"dropdown\" >\t\t\t\n",
            "\t\t\t<div class=\"btn-toolbar pull-right\" aria-label=\"...\" >\t\t\t\t\t\n",
            "\t\t\t\t<div class=\"btn btn-default btn-group\" rol=\"toolbar\"><span class=\"glyphicon glyphicon-option-horizontal\" aria-hidden=\"true\"></span></div>\n",
            "\t\t\t\t<div class=\"btn btn-default btn-group btn-twitter\" rol=\"toolbar\">Twitter</span></div>\n",
            "\t\t\t\t<div class=\"btn btn-default btn-group btn-facebook\" rol=\"toolbar\">Facebook</span></div> \n",
            "\t\t\t</div>  \n",
            "\t\t</div>\n",
            "\n",
            "\t\t<div class=\"btn-group btn-group-justified\" role=\"group\" aria-label=\"...\">\n",
            "\t\t\t<div  class=\"btn btn-default btn-group btn-lg\" rol=\"toolbar\"><span class=\"glyphicon glyphicon-star-empty\" aria-hidden=\"true\"></span></div>\t\t\t\n",
            "\t\t\t<div  class=\"btn btn-default btn-group btn-lg\" rol=\"toolbar\"><span class=\"glyphicon glyphicon-info-sign\" aria-hidden=\"true\"></span></div>\n",
            "\t\t\t<div  class=\"btn btn-default btn-group btn-lg\" rol=\"toolbar\"><span class=\"glyphicon glyphicon-share\" aria-hidden=\"true\"></span></div> \n",
            "\t\t\t<div  class=\"btn btn-default btn-group btn-lg\" rol=\"toolbar\"><span class=\"glyphicon glyphicon-facebook\" aria-hidden=\"true\">Facebook</span></div> \n",
            "\t\t</div>\n",
            "\t\t//-->\n",
            "        </div>\n",
            "       </footer>\n",
            "      </blockquote>\n",
            "      <blockquote class=\"bsquote\">\n",
            "       <p>\n",
            "        La experiencia tiene la misma utilidad que un billete de lotería después del sorteo.\n",
            "       </p>\n",
            "       <footer>\n",
            "        <a href=\"/autor/frases-de-alfred-d-houdetot\" title=\"Frases de Alfred d' Houdetot\">\n",
            "         Alfred d' Houdetot\n",
            "        </a>\n",
            "        <em>\n",
            "         (1799-1869) Escritor francés.\n",
            "        </em>\n",
            "        <div class=\"subfooter\">\n",
            "         <div class=\"float-left\">\n",
            "          <span aria-hidden=\"true\" class=\"glyphicon2 glyphicon-tag\">\n",
            "          </span>\n",
            "          <a href=\"/frases-de-cualidades\">\n",
            "           Cualidades\n",
            "          </a>\n",
            "          /\n",
            "          <a href=\"/frases-de-experiencia\" title=\"Frases sobre la experiencia\">\n",
            "           Experiencia\n",
            "          </a>\n",
            "         </div>\n",
            "         <div aria-label=\"...\" class=\"btn-group btn-group-lg float-right\" role=\"group\">\n",
            "          <a class=\"glyphicon2 glyphicon-twitter btn twitter-button text-black-25\" data-text=\"«La experiencia tiene la misma utilidad que un billete de lotería después del sorteo.» Alfred d' Houdetot\" href=\"https://proverbia.net/cita/185-la-experiencia-tiene-la-misma-utilidad-que-un-bill\" rel=\"nofollow\" role=\"button\">\n",
            "          </a>\n",
            "          <a class=\"glyphicon2 glyphicon-facebook btn facebook-button text-black-25\" data-text=\"«La experiencia tiene la misma utilidad que un billete de lotería después del sorteo.» Alfred d' Houdetot\" href=\"https://proverbia.net/cita/185-la-experiencia-tiene-la-misma-utilidad-que-un-bill\" rel=\"nofollow\" role=\"button\">\n",
            "          </a>\n",
            "         </div>\n",
            "         <div class=\"clearfix\">\n",
            "         </div>\n",
            "         <!--\t\t\n",
            "\t\t\n",
            "\t\t<div class=\"pull-right\">\t\t\t\t\n",
            "\t\t\t<div class=\"btn-group btn-group-justified\" role=\"group\" aria-label=\"...\">\t\t\n",
            "\t\t\t\t<div  class=\"btn btn-default btn-group\" rol=\"toolbar\"><span class=\"glyphicon glyphicon-star-empty\" aria-hidden=\"true\"></span></div>\t\t\t\n",
            "\t\t\t\t<div  class=\"btn btn-default btn-group\" rol=\"toolbar\"><span class=\"glyphicon glyphicon-info-sign\" aria-hidden=\"true\"></span></div>\n",
            "\t\t\t\t<div  class=\"btn btn-default btn-group\" rol=\"toolbar\"><span class=\"glyphicon glyphicon-share\" aria-hidden=\"true\"></span></div> \n",
            "\t\t\t\t<div  class=\"btn btn-default btn-group\" rol=\"toolbar\"><span class=\"glyphicon glyphicon-facebook\" aria-hidden=\"true\"></span></div> \n",
            "\t\t\t</div>\t\t\t\n",
            "\t\t</div>\n",
            "\n",
            "\t\t<div class=\"dropdown\" >\t\t\t\n",
            "\t\t\t<div class=\"btn-toolbar pull-right\" aria-label=\"...\" >\t\t\t\t\t\n",
            "\t\t\t\t<div class=\"btn btn-default btn-group\" rol=\"toolbar\"><span class=\"glyphicon glyphicon-option-horizontal\" aria-hidden=\"true\"></span></div>\n",
            "\t\t\t\t<div class=\"btn btn-default btn-group btn-twitter\" rol=\"toolbar\">Twitter</span></div>\n",
            "\t\t\t\t<div class=\"btn btn-default btn-group btn-facebook\" rol=\"toolbar\">Facebook</span></div> \n",
            "\t\t\t</div>  \n",
            "\t\t</div>\n",
            "\n",
            "\t\t<div class=\"btn-group btn-group-justified\" role=\"group\" aria-label=\"...\">\n",
            "\t\t\t<div  class=\"btn btn-default btn-group btn-lg\" rol=\"toolbar\"><span class=\"glyphicon glyphicon-star-empty\" aria-hidden=\"true\"></span></div>\t\t\t\n",
            "\t\t\t<div  class=\"btn btn-default btn-group btn-lg\" rol=\"toolbar\"><span class=\"glyphicon glyphicon-info-sign\" aria-hidden=\"true\"></span></div>\n",
            "\t\t\t<div  class=\"btn btn-default btn-group btn-lg\" rol=\"toolbar\"><span class=\"glyphicon glyphicon-share\" aria-hidden=\"true\"></span></div> \n",
            "\t\t\t<div  class=\"btn btn-default btn-group btn-lg\" rol=\"toolbar\"><span class=\"glyphicon glyphicon-facebook\" aria-hidden=\"true\">Facebook</span></div> \n",
            "\t\t</div>\n",
            "\t\t//-->\n",
            "        </div>\n",
            "       </footer>\n",
            "      </blockquote>\n",
            "      <blockquote class=\"bsquote\">\n",
            "       <p>\n",
            "        Lo experimentado como externo no pertenece a los \"interno\" intencional, aunque nuestra experiencia de ello resida allí, como experiencia de lo externo.\n",
            "       </p>\n",
            "       <footer>\n",
            "        <a href=\"/autor/frases-de-edmund-husserl\" title=\"Frases de Edmund Husserl\">\n",
            "         Edmund Husserl\n",
            "        </a>\n",
            "        <em>\n",
            "         (1859-1938) Filósofo alemán.\n",
            "        </em>\n",
            "        <div class=\"subfooter\">\n",
            "         <div class=\"float-left\">\n",
            "          <span aria-hidden=\"true\" class=\"glyphicon2 glyphicon-tag\">\n",
            "          </span>\n",
            "          <a href=\"/frases-de-cualidades\">\n",
            "           Cualidades\n",
            "          </a>\n",
            "          /\n",
            "          <a href=\"/frases-de-experiencia\" title=\"Frases sobre la experiencia\">\n",
            "           Experiencia\n",
            "          </a>\n",
            "         </div>\n",
            "         <div aria-label=\"...\" class=\"btn-group btn-group-lg float-right\" role=\"group\">\n",
            "          <a class=\"glyphicon2 glyphicon-twitter btn twitter-button text-black-25\" data-text='«Lo experimentado como externo no pertenece a los \"interno\" intencional, aunque nuestra experiencia de ello resida allí, como experiencia de lo externo.» Edmund Husserl' href=\"https://proverbia.net/cita/6736-lo-experimentado-como-externo-no-pertenece-a-los-\" rel=\"nofollow\" role=\"button\">\n",
            "          </a>\n",
            "          <a class=\"glyphicon2 glyphicon-facebook btn facebook-button text-black-25\" data-text='«Lo experimentado como externo no pertenece a los \"interno\" intencional, aunque nuestra experiencia de ello resida allí, como experiencia de lo externo.» Edmund Husserl' href=\"https://proverbia.net/cita/6736-lo-experimentado-como-externo-no-pertenece-a-los-\" rel=\"nofollow\" role=\"button\">\n",
            "          </a>\n",
            "         </div>\n",
            "         <div class=\"clearfix\">\n",
            "         </div>\n",
            "         <!--\t\t\n",
            "\t\t\n",
            "\t\t<div class=\"pull-right\">\t\t\t\t\n",
            "\t\t\t<div class=\"btn-group btn-group-justified\" role=\"group\" aria-label=\"...\">\t\t\n",
            "\t\t\t\t<div  class=\"btn btn-default btn-group\" rol=\"toolbar\"><span class=\"glyphicon glyphicon-star-empty\" aria-hidden=\"true\"></span></div>\t\t\t\n",
            "\t\t\t\t<div  class=\"btn btn-default btn-group\" rol=\"toolbar\"><span class=\"glyphicon glyphicon-info-sign\" aria-hidden=\"true\"></span></div>\n",
            "\t\t\t\t<div  class=\"btn btn-default btn-group\" rol=\"toolbar\"><span class=\"glyphicon glyphicon-share\" aria-hidden=\"true\"></span></div> \n",
            "\t\t\t\t<div  class=\"btn btn-default btn-group\" rol=\"toolbar\"><span class=\"glyphicon glyphicon-facebook\" aria-hidden=\"true\"></span></div> \n",
            "\t\t\t</div>\t\t\t\n",
            "\t\t</div>\n",
            "\n",
            "\t\t<div class=\"dropdown\" >\t\t\t\n",
            "\t\t\t<div class=\"btn-toolbar pull-right\" aria-label=\"...\" >\t\t\t\t\t\n",
            "\t\t\t\t<div class=\"btn btn-default btn-group\" rol=\"toolbar\"><span class=\"glyphicon glyphicon-option-horizontal\" aria-hidden=\"true\"></span></div>\n",
            "\t\t\t\t<div class=\"btn btn-default btn-group btn-twitter\" rol=\"toolbar\">Twitter</span></div>\n",
            "\t\t\t\t<div class=\"btn btn-default btn-group btn-facebook\" rol=\"toolbar\">Facebook</span></div> \n",
            "\t\t\t</div>  \n",
            "\t\t</div>\n",
            "\n",
            "\t\t<div class=\"btn-group btn-group-justified\" role=\"group\" aria-label=\"...\">\n",
            "\t\t\t<div  class=\"btn btn-default btn-group btn-lg\" rol=\"toolbar\"><span class=\"glyphicon glyphicon-star-empty\" aria-hidden=\"true\"></span></div>\t\t\t\n",
            "\t\t\t<div  class=\"btn btn-default btn-group btn-lg\" rol=\"toolbar\"><span class=\"glyphicon glyphicon-info-sign\" aria-hidden=\"true\"></span></div>\n",
            "\t\t\t<div  class=\"btn btn-default btn-group btn-lg\" rol=\"toolbar\"><span class=\"glyphicon glyphicon-share\" aria-hidden=\"true\"></span></div> \n",
            "\t\t\t<div  class=\"btn btn-default btn-group btn-lg\" rol=\"toolbar\"><span class=\"glyphicon glyphicon-facebook\" aria-hidden=\"true\">Facebook</span></div> \n",
            "\t\t</div>\n",
            "\t\t//-->\n",
            "        </div>\n",
            "       </footer>\n",
            "      </blockquote>\n",
            "      <blockquote class=\"bsquote\">\n",
            "       <p>\n",
            "        Nunca le ha servido a nadie la experiencia de otros.\n",
            "       </p>\n",
            "       <footer>\n",
            "        <a href=\"/autor/frases-de-andre-massena\" title=\"Frases de André Massena\">\n",
            "         André Massena\n",
            "        </a>\n",
            "        <em>\n",
            "         (1758-1817) Mariscal francés.\n",
            "        </em>\n",
            "        <div class=\"subfooter\">\n",
            "         <div class=\"float-left\">\n",
            "          <span aria-hidden=\"true\" class=\"glyphicon2 glyphicon-tag\">\n",
            "          </span>\n",
            "          <a href=\"/frases-de-cualidades\">\n",
            "           Cualidades\n",
            "          </a>\n",
            "          /\n",
            "          <a href=\"/frases-de-experiencia\" title=\"Frases sobre la experiencia\">\n",
            "           Experiencia\n",
            "          </a>\n",
            "         </div>\n",
            "         <div aria-label=\"...\" class=\"btn-group btn-group-lg float-right\" role=\"group\">\n",
            "          <a class=\"glyphicon2 glyphicon-twitter btn twitter-button text-black-25\" data-text=\"«Nunca le ha servido a nadie la experiencia de otros.» André Massena\" href=\"https://proverbia.net/cita/5072-nunca-le-ha-servido-a-nadie-la-experiencia-de-otro\" rel=\"nofollow\" role=\"button\">\n",
            "          </a>\n",
            "          <a class=\"glyphicon2 glyphicon-facebook btn facebook-button text-black-25\" data-text=\"«Nunca le ha servido a nadie la experiencia de otros.» André Massena\" href=\"https://proverbia.net/cita/5072-nunca-le-ha-servido-a-nadie-la-experiencia-de-otro\" rel=\"nofollow\" role=\"button\">\n",
            "          </a>\n",
            "         </div>\n",
            "         <div class=\"clearfix\">\n",
            "         </div>\n",
            "         <!--\t\t\n",
            "\t\t\n",
            "\t\t<div class=\"pull-right\">\t\t\t\t\n",
            "\t\t\t<div class=\"btn-group btn-group-justified\" role=\"group\" aria-label=\"...\">\t\t\n",
            "\t\t\t\t<div  class=\"btn btn-default btn-group\" rol=\"toolbar\"><span class=\"glyphicon glyphicon-star-empty\" aria-hidden=\"true\"></span></div>\t\t\t\n",
            "\t\t\t\t<div  class=\"btn btn-default btn-group\" rol=\"toolbar\"><span class=\"glyphicon glyphicon-info-sign\" aria-hidden=\"true\"></span></div>\n",
            "\t\t\t\t<div  class=\"btn btn-default btn-group\" rol=\"toolbar\"><span class=\"glyphicon glyphicon-share\" aria-hidden=\"true\"></span></div> \n",
            "\t\t\t\t<div  class=\"btn btn-default btn-group\" rol=\"toolbar\"><span class=\"glyphicon glyphicon-facebook\" aria-hidden=\"true\"></span></div> \n",
            "\t\t\t</div>\t\t\t\n",
            "\t\t</div>\n",
            "\n",
            "\t\t<div class=\"dropdown\" >\t\t\t\n",
            "\t\t\t<div class=\"btn-toolbar pull-right\" aria-label=\"...\" >\t\t\t\t\t\n",
            "\t\t\t\t<div class=\"btn btn-default btn-group\" rol=\"toolbar\"><span class=\"glyphicon glyphicon-option-horizontal\" aria-hidden=\"true\"></span></div>\n",
            "\t\t\t\t<div class=\"btn btn-default btn-group btn-twitter\" rol=\"toolbar\">Twitter</span></div>\n",
            "\t\t\t\t<div class=\"btn btn-default btn-group btn-facebook\" rol=\"toolbar\">Facebook</span></div> \n",
            "\t\t\t</div>  \n",
            "\t\t</div>\n",
            "\n",
            "\t\t<div class=\"btn-group btn-group-justified\" role=\"group\" aria-label=\"...\">\n",
            "\t\t\t<div  class=\"btn btn-default btn-group btn-lg\" rol=\"toolbar\"><span class=\"glyphicon glyphicon-star-empty\" aria-hidden=\"true\"></span></div>\t\t\t\n",
            "\t\t\t<div  class=\"btn btn-default btn-group btn-lg\" rol=\"toolbar\"><span class=\"glyphicon glyphicon-info-sign\" aria-hidden=\"true\"></span></div>\n",
            "\t\t\t<div  class=\"btn btn-default btn-group btn-lg\" rol=\"toolbar\"><span class=\"glyphicon glyphicon-share\" aria-hidden=\"true\"></span></div> \n",
            "\t\t\t<div  class=\"btn btn-default btn-group btn-lg\" rol=\"toolbar\"><span class=\"glyphicon glyphicon-facebook\" aria-hidden=\"true\">Facebook</span></div> \n",
            "\t\t</div>\n",
            "\t\t//-->\n",
            "        </div>\n",
            "       </footer>\n",
            "      </blockquote>\n",
            "      <blockquote class=\"bsquote\">\n",
            "       <p>\n",
            "        No escribo sobre mis experiencias, sino desde fuera de ellas.\n",
            "       </p>\n",
            "       <footer>\n",
            "        <a href=\"/autor/frases-de-john-ashbery\" title=\"Frases de John Ashbery\">\n",
            "         John Ashbery\n",
            "        </a>\n",
            "        <em>\n",
            "         (1927-?) Poeta estadounidense.\n",
            "        </em>\n",
            "        <div class=\"subfooter\">\n",
            "         <div class=\"float-left\">\n",
            "          <span aria-hidden=\"true\" class=\"glyphicon2 glyphicon-tag\">\n",
            "          </span>\n",
            "          <a href=\"/frases-de-cualidades\">\n",
            "           Cualidades\n",
            "          </a>\n",
            "          /\n",
            "          <a href=\"/frases-de-experiencia\" title=\"Frases sobre la experiencia\">\n",
            "           Experiencia\n",
            "          </a>\n",
            "         </div>\n",
            "         <div aria-label=\"...\" class=\"btn-group btn-group-lg float-right\" role=\"group\">\n",
            "          <a class=\"glyphicon2 glyphicon-twitter btn twitter-button text-black-25\" data-text=\"«No escribo sobre mis experiencias, sino desde fuera de ellas.» John Ashbery\" href=\"https://proverbia.net/cita/453058410-no-escribo-sobre-mis-experiencias-sino-desde-fuer\" rel=\"nofollow\" role=\"button\">\n",
            "          </a>\n",
            "          <a class=\"glyphicon2 glyphicon-facebook btn facebook-button text-black-25\" data-text=\"«No escribo sobre mis experiencias, sino desde fuera de ellas.» John Ashbery\" href=\"https://proverbia.net/cita/453058410-no-escribo-sobre-mis-experiencias-sino-desde-fuer\" rel=\"nofollow\" role=\"button\">\n",
            "          </a>\n",
            "         </div>\n",
            "         <div class=\"clearfix\">\n",
            "         </div>\n",
            "         <!--\t\t\n",
            "\t\t\n",
            "\t\t<div class=\"pull-right\">\t\t\t\t\n",
            "\t\t\t<div class=\"btn-group btn-group-justified\" role=\"group\" aria-label=\"...\">\t\t\n",
            "\t\t\t\t<div  class=\"btn btn-default btn-group\" rol=\"toolbar\"><span class=\"glyphicon glyphicon-star-empty\" aria-hidden=\"true\"></span></div>\t\t\t\n",
            "\t\t\t\t<div  class=\"btn btn-default btn-group\" rol=\"toolbar\"><span class=\"glyphicon glyphicon-info-sign\" aria-hidden=\"true\"></span></div>\n",
            "\t\t\t\t<div  class=\"btn btn-default btn-group\" rol=\"toolbar\"><span class=\"glyphicon glyphicon-share\" aria-hidden=\"true\"></span></div> \n",
            "\t\t\t\t<div  class=\"btn btn-default btn-group\" rol=\"toolbar\"><span class=\"glyphicon glyphicon-facebook\" aria-hidden=\"true\"></span></div> \n",
            "\t\t\t</div>\t\t\t\n",
            "\t\t</div>\n",
            "\n",
            "\t\t<div class=\"dropdown\" >\t\t\t\n",
            "\t\t\t<div class=\"btn-toolbar pull-right\" aria-label=\"...\" >\t\t\t\t\t\n",
            "\t\t\t\t<div class=\"btn btn-default btn-group\" rol=\"toolbar\"><span class=\"glyphicon glyphicon-option-horizontal\" aria-hidden=\"true\"></span></div>\n",
            "\t\t\t\t<div class=\"btn btn-default btn-group btn-twitter\" rol=\"toolbar\">Twitter</span></div>\n",
            "\t\t\t\t<div class=\"btn btn-default btn-group btn-facebook\" rol=\"toolbar\">Facebook</span></div> \n",
            "\t\t\t</div>  \n",
            "\t\t</div>\n",
            "\n",
            "\t\t<div class=\"btn-group btn-group-justified\" role=\"group\" aria-label=\"...\">\n",
            "\t\t\t<div  class=\"btn btn-default btn-group btn-lg\" rol=\"toolbar\"><span class=\"glyphicon glyphicon-star-empty\" aria-hidden=\"true\"></span></div>\t\t\t\n",
            "\t\t\t<div  class=\"btn btn-default btn-group btn-lg\" rol=\"toolbar\"><span class=\"glyphicon glyphicon-info-sign\" aria-hidden=\"true\"></span></div>\n",
            "\t\t\t<div  class=\"btn btn-default btn-group btn-lg\" rol=\"toolbar\"><span class=\"glyphicon glyphicon-share\" aria-hidden=\"true\"></span></div> \n",
            "\t\t\t<div  class=\"btn btn-default btn-group btn-lg\" rol=\"toolbar\"><span class=\"glyphicon glyphicon-facebook\" aria-hidden=\"true\">Facebook</span></div> \n",
            "\t\t</div>\n",
            "\t\t//-->\n",
            "        </div>\n",
            "       </footer>\n",
            "      </blockquote>\n",
            "      <blockquote class=\"bsquote\">\n",
            "       <p>\n",
            "        La experiencia es como un billete de lotería comprado después del sorteo. No creo en ella.\n",
            "       </p>\n",
            "       <footer>\n",
            "        <a href=\"/autor/frases-de-gabriela-mistral\" title=\"Frases de Gabriela Mistral\">\n",
            "         Gabriela Mistral\n",
            "        </a>\n",
            "        <em>\n",
            "         (1889-1957) Escritora chilena.\n",
            "        </em>\n",
            "        <div class=\"subfooter\">\n",
            "         <div class=\"float-left\">\n",
            "          <span aria-hidden=\"true\" class=\"glyphicon2 glyphicon-tag\">\n",
            "          </span>\n",
            "          <a href=\"/frases-de-cualidades\">\n",
            "           Cualidades\n",
            "          </a>\n",
            "          /\n",
            "          <a href=\"/frases-de-experiencia\" title=\"Frases sobre la experiencia\">\n",
            "           Experiencia\n",
            "          </a>\n",
            "         </div>\n",
            "         <div aria-label=\"...\" class=\"btn-group btn-group-lg float-right\" role=\"group\">\n",
            "          <a class=\"glyphicon2 glyphicon-twitter btn twitter-button text-black-25\" data-text=\"«La experiencia es como un billete de lotería comprado después del sorteo. No creo en ella.» Gabriela Mistral\" href=\"https://proverbia.net/cita/8170-la-experiencia-es-como-un-billete-de-loteria-compr\" rel=\"nofollow\" role=\"button\">\n",
            "          </a>\n",
            "          <a class=\"glyphicon2 glyphicon-facebook btn facebook-button text-black-25\" data-text=\"«La experiencia es como un billete de lotería comprado después del sorteo. No creo en ella.» Gabriela Mistral\" href=\"https://proverbia.net/cita/8170-la-experiencia-es-como-un-billete-de-loteria-compr\" rel=\"nofollow\" role=\"button\">\n",
            "          </a>\n",
            "         </div>\n",
            "         <div class=\"clearfix\">\n",
            "         </div>\n",
            "         <!--\t\t\n",
            "\t\t\n",
            "\t\t<div class=\"pull-right\">\t\t\t\t\n",
            "\t\t\t<div class=\"btn-group btn-group-justified\" role=\"group\" aria-label=\"...\">\t\t\n",
            "\t\t\t\t<div  class=\"btn btn-default btn-group\" rol=\"toolbar\"><span class=\"glyphicon glyphicon-star-empty\" aria-hidden=\"true\"></span></div>\t\t\t\n",
            "\t\t\t\t<div  class=\"btn btn-default btn-group\" rol=\"toolbar\"><span class=\"glyphicon glyphicon-info-sign\" aria-hidden=\"true\"></span></div>\n",
            "\t\t\t\t<div  class=\"btn btn-default btn-group\" rol=\"toolbar\"><span class=\"glyphicon glyphicon-share\" aria-hidden=\"true\"></span></div> \n",
            "\t\t\t\t<div  class=\"btn btn-default btn-group\" rol=\"toolbar\"><span class=\"glyphicon glyphicon-facebook\" aria-hidden=\"true\"></span></div> \n",
            "\t\t\t</div>\t\t\t\n",
            "\t\t</div>\n",
            "\n",
            "\t\t<div class=\"dropdown\" >\t\t\t\n",
            "\t\t\t<div class=\"btn-toolbar pull-right\" aria-label=\"...\" >\t\t\t\t\t\n",
            "\t\t\t\t<div class=\"btn btn-default btn-group\" rol=\"toolbar\"><span class=\"glyphicon glyphicon-option-horizontal\" aria-hidden=\"true\"></span></div>\n",
            "\t\t\t\t<div class=\"btn btn-default btn-group btn-twitter\" rol=\"toolbar\">Twitter</span></div>\n",
            "\t\t\t\t<div class=\"btn btn-default btn-group btn-facebook\" rol=\"toolbar\">Facebook</span></div> \n",
            "\t\t\t</div>  \n",
            "\t\t</div>\n",
            "\n",
            "\t\t<div class=\"btn-group btn-group-justified\" role=\"group\" aria-label=\"...\">\n",
            "\t\t\t<div  class=\"btn btn-default btn-group btn-lg\" rol=\"toolbar\"><span class=\"glyphicon glyphicon-star-empty\" aria-hidden=\"true\"></span></div>\t\t\t\n",
            "\t\t\t<div  class=\"btn btn-default btn-group btn-lg\" rol=\"toolbar\"><span class=\"glyphicon glyphicon-info-sign\" aria-hidden=\"true\"></span></div>\n",
            "\t\t\t<div  class=\"btn btn-default btn-group btn-lg\" rol=\"toolbar\"><span class=\"glyphicon glyphicon-share\" aria-hidden=\"true\"></span></div> \n",
            "\t\t\t<div  class=\"btn btn-default btn-group btn-lg\" rol=\"toolbar\"><span class=\"glyphicon glyphicon-facebook\" aria-hidden=\"true\">Facebook</span></div> \n",
            "\t\t</div>\n",
            "\t\t//-->\n",
            "        </div>\n",
            "       </footer>\n",
            "      </blockquote>\n",
            "      <blockquote class=\"bsquote\">\n",
            "       <p>\n",
            "        Un grano de buena experiencia a los 9 años, vale más que un curso de moral a los 20.\n",
            "       </p>\n",
            "       <footer>\n",
            "        <a href=\"/autor/frases-de-j-nievo\" title=\"Frases de J. Nievo\">\n",
            "         J. Nievo\n",
            "        </a>\n",
            "        <em>\n",
            "        </em>\n",
            "        <div class=\"subfooter\">\n",
            "         <div class=\"float-left\">\n",
            "          <span aria-hidden=\"true\" class=\"glyphicon2 glyphicon-tag\">\n",
            "          </span>\n",
            "          <a href=\"/frases-de-cualidades\">\n",
            "           Cualidades\n",
            "          </a>\n",
            "          /\n",
            "          <a href=\"/frases-de-experiencia\" title=\"Frases sobre la experiencia\">\n",
            "           Experiencia\n",
            "          </a>\n",
            "         </div>\n",
            "         <div aria-label=\"...\" class=\"btn-group btn-group-lg float-right\" role=\"group\">\n",
            "          <a class=\"glyphicon2 glyphicon-twitter btn twitter-button text-black-25\" data-text=\"«Un grano de buena experiencia a los 9 años, vale más que un curso de moral a los 20.» J. Nievo\" href=\"https://proverbia.net/cita/403-un-grano-de-buena-experiencia-a-los-9-anos-vale-m\" rel=\"nofollow\" role=\"button\">\n",
            "          </a>\n",
            "          <a class=\"glyphicon2 glyphicon-facebook btn facebook-button text-black-25\" data-text=\"«Un grano de buena experiencia a los 9 años, vale más que un curso de moral a los 20.» J. Nievo\" href=\"https://proverbia.net/cita/403-un-grano-de-buena-experiencia-a-los-9-anos-vale-m\" rel=\"nofollow\" role=\"button\">\n",
            "          </a>\n",
            "         </div>\n",
            "         <div class=\"clearfix\">\n",
            "         </div>\n",
            "         <!--\t\t\n",
            "\t\t\n",
            "\t\t<div class=\"pull-right\">\t\t\t\t\n",
            "\t\t\t<div class=\"btn-group btn-group-justified\" role=\"group\" aria-label=\"...\">\t\t\n",
            "\t\t\t\t<div  class=\"btn btn-default btn-group\" rol=\"toolbar\"><span class=\"glyphicon glyphicon-star-empty\" aria-hidden=\"true\"></span></div>\t\t\t\n",
            "\t\t\t\t<div  class=\"btn btn-default btn-group\" rol=\"toolbar\"><span class=\"glyphicon glyphicon-info-sign\" aria-hidden=\"true\"></span></div>\n",
            "\t\t\t\t<div  class=\"btn btn-default btn-group\" rol=\"toolbar\"><span class=\"glyphicon glyphicon-share\" aria-hidden=\"true\"></span></div> \n",
            "\t\t\t\t<div  class=\"btn btn-default btn-group\" rol=\"toolbar\"><span class=\"glyphicon glyphicon-facebook\" aria-hidden=\"true\"></span></div> \n",
            "\t\t\t</div>\t\t\t\n",
            "\t\t</div>\n",
            "\n",
            "\t\t<div class=\"dropdown\" >\t\t\t\n",
            "\t\t\t<div class=\"btn-toolbar pull-right\" aria-label=\"...\" >\t\t\t\t\t\n",
            "\t\t\t\t<div class=\"btn btn-default btn-group\" rol=\"toolbar\"><span class=\"glyphicon glyphicon-option-horizontal\" aria-hidden=\"true\"></span></div>\n",
            "\t\t\t\t<div class=\"btn btn-default btn-group btn-twitter\" rol=\"toolbar\">Twitter</span></div>\n",
            "\t\t\t\t<div class=\"btn btn-default btn-group btn-facebook\" rol=\"toolbar\">Facebook</span></div> \n",
            "\t\t\t</div>  \n",
            "\t\t</div>\n",
            "\n",
            "\t\t<div class=\"btn-group btn-group-justified\" role=\"group\" aria-label=\"...\">\n",
            "\t\t\t<div  class=\"btn btn-default btn-group btn-lg\" rol=\"toolbar\"><span class=\"glyphicon glyphicon-star-empty\" aria-hidden=\"true\"></span></div>\t\t\t\n",
            "\t\t\t<div  class=\"btn btn-default btn-group btn-lg\" rol=\"toolbar\"><span class=\"glyphicon glyphicon-info-sign\" aria-hidden=\"true\"></span></div>\n",
            "\t\t\t<div  class=\"btn btn-default btn-group btn-lg\" rol=\"toolbar\"><span class=\"glyphicon glyphicon-share\" aria-hidden=\"true\"></span></div> \n",
            "\t\t\t<div  class=\"btn btn-default btn-group btn-lg\" rol=\"toolbar\"><span class=\"glyphicon glyphicon-facebook\" aria-hidden=\"true\">Facebook</span></div> \n",
            "\t\t</div>\n",
            "\t\t//-->\n",
            "        </div>\n",
            "       </footer>\n",
            "      </blockquote>\n",
            "      <script async=\"\" src=\"//pagead2.googlesyndication.com/pagead/js/adsbygoogle.js\">\n",
            "      </script>\n",
            "      <ins class=\"adsbygoogle\" data-ad-client=\"ca-pub-3410145742764658\" data-ad-format=\"fluid\" data-ad-layout=\"in-article\" data-ad-slot=\"7836590829\" style=\"display:block; text-align:center;\">\n",
            "      </ins>\n",
            "      <script>\n",
            "       (adsbygoogle = window.adsbygoogle || []).push({});\n",
            "      </script>\n",
            "     </div>\n",
            "     <nav aria-label=\"Page navigation\" class=\"nav-justified\">\n",
            "      <ul class=\"pager\">\n",
            "       <li class=\"previous\">\n",
            "        <span class=\"disabled\">\n",
            "         «\n",
            "         <span class=\"\">\n",
            "          Anterior\n",
            "         </span>\n",
            "        </span>\n",
            "       </li>\n",
            "       <li class=\"active\">\n",
            "        <span class=\"disabled\">\n",
            "         1\n",
            "        </span>\n",
            "       </li>\n",
            "       <li class=\"d-none d-md-inline-block\">\n",
            "        <a href=\"/frases-de-experiencia/2\">\n",
            "         2\n",
            "        </a>\n",
            "       </li>\n",
            "       <li class=\"next\">\n",
            "        <a href=\"/frases-de-experiencia/2\">\n",
            "         <span class=\"\">\n",
            "          Siguiente\n",
            "         </span>\n",
            "         »\n",
            "        </a>\n",
            "       </li>\n",
            "      </ul>\n",
            "     </nav>\n",
            "    </div>\n",
            "    <div class=\"col-md-4\">\n",
            "     <h3>\n",
            "      Temáticas relacionadas\n",
            "     </h3>\n",
            "     <ul class=\"nav nav-tabs\">\n",
            "      <li class=\"nav-item \">\n",
            "       <a class=\"nav-link active \" data-toggle=\"tab\" href=\"#section1\">\n",
            "        1\n",
            "       </a>\n",
            "      </li>\n",
            "     </ul>\n",
            "     <div class=\"tab-content\">\n",
            "      <div class=\"tab-pane fade show active\" id=\"section1\" role=\"tabpanel\" style=\"border-left: 1px solid #dee2e6; border-right: 1px solid #dee2e6; border-bottom: 1px solid #dee2e6;\">\n",
            "       <ul class=\"list-group list-group-flush\">\n",
            "        <li class=\"list-group-item list-group-item-action\">\n",
            "         <a href=\"/frases-de-experto\" title=\"Frases sobre el experto\">\n",
            "          Experto\n",
            "         </a>\n",
            "         <span class=\"float-right badge badge-info\">\n",
            "          1\n",
            "         </span>\n",
            "        </li>\n",
            "       </ul>\n",
            "      </div>\n",
            "     </div>\n",
            "     <!-- end div.tab-content //-->\n",
            "     <div class=\"card mt-2 text-align d-none d-md-block\">\n",
            "      <div class=\"card-body\">\n",
            "       <h6 class=\"card-title\">\n",
            "        Publicidad\n",
            "       </h6>\n",
            "       <style>\n",
            "        .adslot { display: none; }\n",
            "@media (min-width:768px) { .adslot { display: block; } }\n",
            "       </style>\n",
            "       <script async=\"\" src=\"//pagead2.googlesyndication.com/pagead/js/adsbygoogle.js\">\n",
            "       </script>\n",
            "       <!-- sidebar desktop -->\n",
            "       <ins class=\"adsbygoogle adslot\" data-ad-client=\"ca-pub-3410145742764658\" data-ad-format=\"auto\" data-ad-slot=\"9118148617\" data-full-width-responsive=\"true\">\n",
            "       </ins>\n",
            "       <script>\n",
            "        (adsbygoogle = window.adsbygoogle || []).push({});\n",
            "       </script>\n",
            "      </div>\n",
            "     </div>\n",
            "    </div>\n",
            "   </div>\n",
            "   <!--/row -->\n",
            "  </div>\n",
            "  <!-- /container -->\n",
            "  <div class=\"footer2\">\n",
            "   <div class=\"container\">\n",
            "   </div>\n",
            "  </div>\n",
            "  <footer class=\"footer\">\n",
            "   <div class=\"container\">\n",
            "    <div class=\"row\">\n",
            "     <div class=\"col-12 text-left\">\n",
            "      <h3>\n",
            "       Navegación\n",
            "      </h3>\n",
            "     </div>\n",
            "     <div class=\"col-sm-2 col-6 text-left\">\n",
            "      <ul class=\"list-unstyled\">\n",
            "       <li class=\"list-unestiled-item\">\n",
            "        <a href=\"/\">\n",
            "         Inicio\n",
            "        </a>\n",
            "       </li>\n",
            "       <li>\n",
            "        <a href=\"/tematica/index\">\n",
            "         Temáticas\n",
            "        </a>\n",
            "       </li>\n",
            "       <li>\n",
            "        <a href=\"/autor/index\">\n",
            "         Autores\n",
            "        </a>\n",
            "       </li>\n",
            "       <li>\n",
            "        <a href=\"/frase-del-dia\">\n",
            "         Frase del día\n",
            "        </a>\n",
            "       </li>\n",
            "      </ul>\n",
            "     </div>\n",
            "     <div class=\"col-sm-2 col-6 text-left\">\n",
            "      <ul class=\"list-unstyled\">\n",
            "       <li>\n",
            "        <a href=\"/refranes\">\n",
            "         Refranes\n",
            "        </a>\n",
            "       </li>\n",
            "       <li>\n",
            "        <a href=\"/proverbios\">\n",
            "         Proverbios\n",
            "        </a>\n",
            "       </li>\n",
            "       <li>\n",
            "        <a href=\"/frases-cortas\">\n",
            "         Frases cortas\n",
            "        </a>\n",
            "       </li>\n",
            "      </ul>\n",
            "     </div>\n",
            "     <div class=\"col-sm-4 col-12\">\n",
            "      <form action=\"/buscar\" class=\"form-inline\" method=\"GET\">\n",
            "       <div class=\"input-group\">\n",
            "        <input class=\"form-control\" name=\"t\" placeholder=\"Buscar\" type=\"search\"/>\n",
            "        <div class=\"input-group-append\">\n",
            "         <button class=\"btn btn-outline-secondary\" type=\"submit\">\n",
            "          <span aria-hidden=\"true\" class=\"glyphicon glyphicon-search\">\n",
            "          </span>\n",
            "         </button>\n",
            "        </div>\n",
            "       </div>\n",
            "      </form>\n",
            "     </div>\n",
            "     <div class=\"col-sm-4 col-12 align-text-top text-left\">\n",
            "      <ul class=\"list-unstyled mt-4 mt-sm-0\">\n",
            "       <li class=\"list-inline\">\n",
            "        <a href=\"https://fb.me/Proverbia\">\n",
            "         <span class=\"glyphicon2 glyphicon-facebook\">\n",
            "         </span>\n",
            "         Facebook\n",
            "        </a>\n",
            "       </li>\n",
            "       <li class=\"list-inline\">\n",
            "        <a href=\"https://twitter.com/proverbia_net\">\n",
            "         <span class=\"glyphicon2 glyphicon-twitter\">\n",
            "         </span>\n",
            "         Twitter\n",
            "        </a>\n",
            "       </li>\n",
            "       <li class=\"list-inline\">\n",
            "        <a href=\"https://instagram.com/proverbia_net\">\n",
            "         <span class=\"glyphicon2 glyphicon-instagram\">\n",
            "         </span>\n",
            "         Instagram\n",
            "        </a>\n",
            "       </li>\n",
            "      </ul>\n",
            "     </div>\n",
            "    </div>\n",
            "    <ul class=\"list-inline text-left\" style=\"font-size: 0.8em\">\n",
            "     <li class=\"list-inline-item\">\n",
            "      ©  2019 Novixar ·\n",
            "     </li>\n",
            "     <li class=\"list-inline-item\">\n",
            "      <a href=\"/aviso-legal\">\n",
            "       Aviso legal\n",
            "      </a>\n",
            "     </li>\n",
            "    </ul>\n",
            "   </div>\n",
            "  </footer>\n",
            " </body>\n",
            "</html>\n",
            "\n"
          ],
          "name": "stdout"
        }
      ]
    },
    {
      "cell_type": "markdown",
      "metadata": {
        "id": "A0rpioDq5RHe"
      },
      "source": [
        "# Filtrado de ruido de origen\n",
        "Ahora filtraremos el texto obtenido para mantener únicamente lo que es de interés. \n",
        "En este caso sólo consideraremo los que está dentro de la etiqueta \\<p\\> \\<\\/p\\>"
      ]
    },
    {
      "cell_type": "code",
      "metadata": {
        "id": "vaXP7wdZ5Xyb"
      },
      "source": [
        "# Leeremos todos los textos que estén dentro de la etiqueta <p> de párrafo en html\n",
        "parrafos = soup.find_all('p')"
      ],
      "execution_count": 5,
      "outputs": []
    },
    {
      "cell_type": "code",
      "metadata": {
        "id": "jqijcPNU80Bf"
      },
      "source": [
        "# Creamos un dataframe para almacenar los textos\n",
        "column_names = [\"url\", \"codigo\", \"texto\"]\n",
        "textos = pd.DataFrame(columns = column_names)\n",
        "i = 0\n",
        "# Por cada párrafo encontrado obtendremos los textos eliminando las etiquetas \n",
        "for texto in parrafos:\n",
        "    # Acá obtenemos el texto\n",
        "    t = texto.get_text()\n",
        "    # Sólo consideraremos los textos que no están vacíos\n",
        "    if(len(t) > 0):\n",
        "      i = i+1\n",
        "      # Adicionamos al data frrame\n",
        "      new_row = {'url':base_url, 'codigo':i, 'texto':t}\n",
        "      textos = textos.append(new_row, ignore_index = True)\n"
      ],
      "execution_count": 6,
      "outputs": []
    },
    {
      "cell_type": "code",
      "metadata": {
        "colab": {
          "base_uri": "https://localhost:8080/"
        },
        "id": "5zVJGwocPpW2",
        "outputId": "02956983-969f-4068-bc50-d495a185baf9"
      },
      "source": [
        "# Imprimiremos la forma del dataframe para saber si los cargó correctamente\n",
        "textos.shape"
      ],
      "execution_count": 7,
      "outputs": [
        {
          "output_type": "execute_result",
          "data": {
            "text/plain": [
              "(24, 3)"
            ]
          },
          "metadata": {
            "tags": []
          },
          "execution_count": 7
        }
      ]
    },
    {
      "cell_type": "code",
      "metadata": {
        "colab": {
          "base_uri": "https://localhost:8080/",
          "height": 206
        },
        "id": "Dw4du2yUQo8H",
        "outputId": "ede88d17-97b0-46ea-8e34-353c6dec153e"
      },
      "source": [
        "# Ahora veremos el encabezado\n",
        "textos.head()"
      ],
      "execution_count": 8,
      "outputs": [
        {
          "output_type": "execute_result",
          "data": {
            "text/html": [
              "<div>\n",
              "<style scoped>\n",
              "    .dataframe tbody tr th:only-of-type {\n",
              "        vertical-align: middle;\n",
              "    }\n",
              "\n",
              "    .dataframe tbody tr th {\n",
              "        vertical-align: top;\n",
              "    }\n",
              "\n",
              "    .dataframe thead th {\n",
              "        text-align: right;\n",
              "    }\n",
              "</style>\n",
              "<table border=\"1\" class=\"dataframe\">\n",
              "  <thead>\n",
              "    <tr style=\"text-align: right;\">\n",
              "      <th></th>\n",
              "      <th>url</th>\n",
              "      <th>codigo</th>\n",
              "      <th>texto</th>\n",
              "    </tr>\n",
              "  </thead>\n",
              "  <tbody>\n",
              "    <tr>\n",
              "      <th>0</th>\n",
              "      <td>https://proverbia.net/frases-de-experiencia</td>\n",
              "      <td>1</td>\n",
              "      <td>La experiencia no tiene valor ético alguno, es...</td>\n",
              "    </tr>\n",
              "    <tr>\n",
              "      <th>1</th>\n",
              "      <td>https://proverbia.net/frases-de-experiencia</td>\n",
              "      <td>2</td>\n",
              "      <td>Una experiencia nunca es un fracaso, pues siem...</td>\n",
              "    </tr>\n",
              "    <tr>\n",
              "      <th>2</th>\n",
              "      <td>https://proverbia.net/frases-de-experiencia</td>\n",
              "      <td>3</td>\n",
              "      <td>La experiencia no es lo que te sucede, sino lo...</td>\n",
              "    </tr>\n",
              "    <tr>\n",
              "      <th>3</th>\n",
              "      <td>https://proverbia.net/frases-de-experiencia</td>\n",
              "      <td>4</td>\n",
              "      <td>Pájaro viejo no entra en jaula.</td>\n",
              "    </tr>\n",
              "    <tr>\n",
              "      <th>4</th>\n",
              "      <td>https://proverbia.net/frases-de-experiencia</td>\n",
              "      <td>5</td>\n",
              "      <td>Un experto es un hombre que ha dejado de pensa...</td>\n",
              "    </tr>\n",
              "  </tbody>\n",
              "</table>\n",
              "</div>"
            ],
            "text/plain": [
              "                                           url  ...                                              texto\n",
              "0  https://proverbia.net/frases-de-experiencia  ...  La experiencia no tiene valor ético alguno, es...\n",
              "1  https://proverbia.net/frases-de-experiencia  ...  Una experiencia nunca es un fracaso, pues siem...\n",
              "2  https://proverbia.net/frases-de-experiencia  ...  La experiencia no es lo que te sucede, sino lo...\n",
              "3  https://proverbia.net/frases-de-experiencia  ...                    Pájaro viejo no entra en jaula.\n",
              "4  https://proverbia.net/frases-de-experiencia  ...  Un experto es un hombre que ha dejado de pensa...\n",
              "\n",
              "[5 rows x 3 columns]"
            ]
          },
          "metadata": {
            "tags": []
          },
          "execution_count": 8
        }
      ]
    },
    {
      "cell_type": "markdown",
      "metadata": {
        "id": "oUnjxea6JS_s"
      },
      "source": [
        "### Expansión de emojis\n",
        "en ciertas fuentes la existencia de Emojis puede ser voluminosa. Para expandir el significado del emoji y agregarlo al texto es posible usar la librería emoji."
      ]
    },
    {
      "cell_type": "code",
      "metadata": {
        "colab": {
          "base_uri": "https://localhost:8080/"
        },
        "id": "4n4sjy3oJSu-",
        "outputId": "f40cb34d-1ca6-4197-a122-88c42a0adf10"
      },
      "source": [
        "textoInformal = \"No me gusta el 🥑 pero me encanta comer todo lo de 🇲🇽\"\n",
        "textoNormalizado = demojize(textoInformal, language='es')\n",
        "print(textoInformal,\"--->\", textoNormalizado)\n"
      ],
      "execution_count": 17,
      "outputs": [
        {
          "output_type": "stream",
          "text": [
            "No me gusta el 🥑 pero me encanta comer todo lo de 🇲🇽 ---> No me gusta el :aguacate: pero me encanta comer todo lo de :bandera_méxico:\n"
          ],
          "name": "stdout"
        }
      ]
    },
    {
      "cell_type": "markdown",
      "metadata": {
        "id": "m7PqLiaK5YD-"
      },
      "source": [
        "# Normalización mayúscula y minúscula\n",
        "Dejaremos todo en minúscula usando la función estándar de Strings en python lower()\n"
      ]
    },
    {
      "cell_type": "code",
      "metadata": {
        "colab": {
          "base_uri": "https://localhost:8080/",
          "height": 206
        },
        "id": "GhosMfgO5a8I",
        "outputId": "94745158-fb5b-4694-e146-cc78ddd8a940"
      },
      "source": [
        "# crearemos una nueva columna para dejar todo en minúscula\n",
        "textos['textoMinuscula'] = textos['texto'].str.lower()\n",
        "textos.head()\n",
        "\n"
      ],
      "execution_count": 18,
      "outputs": [
        {
          "output_type": "execute_result",
          "data": {
            "text/html": [
              "<div>\n",
              "<style scoped>\n",
              "    .dataframe tbody tr th:only-of-type {\n",
              "        vertical-align: middle;\n",
              "    }\n",
              "\n",
              "    .dataframe tbody tr th {\n",
              "        vertical-align: top;\n",
              "    }\n",
              "\n",
              "    .dataframe thead th {\n",
              "        text-align: right;\n",
              "    }\n",
              "</style>\n",
              "<table border=\"1\" class=\"dataframe\">\n",
              "  <thead>\n",
              "    <tr style=\"text-align: right;\">\n",
              "      <th></th>\n",
              "      <th>url</th>\n",
              "      <th>codigo</th>\n",
              "      <th>texto</th>\n",
              "      <th>textoMinuscula</th>\n",
              "      <th>textoMauyuscula</th>\n",
              "      <th>textoSinAcentos</th>\n",
              "    </tr>\n",
              "  </thead>\n",
              "  <tbody>\n",
              "    <tr>\n",
              "      <th>0</th>\n",
              "      <td>https://proverbia.net/frases-de-experiencia</td>\n",
              "      <td>1</td>\n",
              "      <td>La experiencia no tiene valor ético alguno, es...</td>\n",
              "      <td>la experiencia no tiene valor ético alguno, es...</td>\n",
              "      <td>LA EXPERIENCIA NO TIENE VALOR ÉTICO ALGUNO, ES...</td>\n",
              "      <td>LA EXPERIENCIA NO TIENE VALOR ETICO ALGUNO, ES...</td>\n",
              "    </tr>\n",
              "    <tr>\n",
              "      <th>1</th>\n",
              "      <td>https://proverbia.net/frases-de-experiencia</td>\n",
              "      <td>2</td>\n",
              "      <td>Una experiencia nunca es un fracaso, pues siem...</td>\n",
              "      <td>una experiencia nunca es un fracaso, pues siem...</td>\n",
              "      <td>UNA EXPERIENCIA NUNCA ES UN FRACASO, PUES SIEM...</td>\n",
              "      <td>UNA EXPERIENCIA NUNCA ES UN FRACASO, PUES SIEM...</td>\n",
              "    </tr>\n",
              "    <tr>\n",
              "      <th>2</th>\n",
              "      <td>https://proverbia.net/frases-de-experiencia</td>\n",
              "      <td>3</td>\n",
              "      <td>La experiencia no es lo que te sucede, sino lo...</td>\n",
              "      <td>la experiencia no es lo que te sucede, sino lo...</td>\n",
              "      <td>LA EXPERIENCIA NO ES LO QUE TE SUCEDE, SINO LO...</td>\n",
              "      <td>LA EXPERIENCIA NO ES LO QUE TE SUCEDE, SINO LO...</td>\n",
              "    </tr>\n",
              "    <tr>\n",
              "      <th>3</th>\n",
              "      <td>https://proverbia.net/frases-de-experiencia</td>\n",
              "      <td>4</td>\n",
              "      <td>Pájaro viejo no entra en jaula.</td>\n",
              "      <td>pájaro viejo no entra en jaula.</td>\n",
              "      <td>PÁJARO VIEJO NO ENTRA EN JAULA.</td>\n",
              "      <td>PAJARO VIEJO NO ENTRA EN JAULA.</td>\n",
              "    </tr>\n",
              "    <tr>\n",
              "      <th>4</th>\n",
              "      <td>https://proverbia.net/frases-de-experiencia</td>\n",
              "      <td>5</td>\n",
              "      <td>Un experto es un hombre que ha dejado de pensa...</td>\n",
              "      <td>un experto es un hombre que ha dejado de pensa...</td>\n",
              "      <td>UN EXPERTO ES UN HOMBRE QUE HA DEJADO DE PENSA...</td>\n",
              "      <td>UN EXPERTO ES UN HOMBRE QUE HA DEJADO DE PENSA...</td>\n",
              "    </tr>\n",
              "  </tbody>\n",
              "</table>\n",
              "</div>"
            ],
            "text/plain": [
              "                                           url  ...                                    textoSinAcentos\n",
              "0  https://proverbia.net/frases-de-experiencia  ...  LA EXPERIENCIA NO TIENE VALOR ETICO ALGUNO, ES...\n",
              "1  https://proverbia.net/frases-de-experiencia  ...  UNA EXPERIENCIA NUNCA ES UN FRACASO, PUES SIEM...\n",
              "2  https://proverbia.net/frases-de-experiencia  ...  LA EXPERIENCIA NO ES LO QUE TE SUCEDE, SINO LO...\n",
              "3  https://proverbia.net/frases-de-experiencia  ...                    PAJARO VIEJO NO ENTRA EN JAULA.\n",
              "4  https://proverbia.net/frases-de-experiencia  ...  UN EXPERTO ES UN HOMBRE QUE HA DEJADO DE PENSA...\n",
              "\n",
              "[5 rows x 6 columns]"
            ]
          },
          "metadata": {
            "tags": []
          },
          "execution_count": 18
        }
      ]
    },
    {
      "cell_type": "markdown",
      "metadata": {
        "id": "nGdtUmbW2ynI"
      },
      "source": [
        "## Ahora tú \n",
        "Crea otra columna para dejar todo en mayúscula"
      ]
    },
    {
      "cell_type": "code",
      "metadata": {
        "id": "cHlxYw9tCVBd",
        "outputId": "afd462de-8794-431e-e040-df369bd46f4e",
        "colab": {
          "base_uri": "https://localhost:8080/",
          "height": 206
        }
      },
      "source": [
        "# Escribe tu código acá\n",
        "textos['textoMauyuscula'] = textos['texto'].str.upper()\n",
        "textos.head()"
      ],
      "execution_count": 19,
      "outputs": [
        {
          "output_type": "execute_result",
          "data": {
            "text/html": [
              "<div>\n",
              "<style scoped>\n",
              "    .dataframe tbody tr th:only-of-type {\n",
              "        vertical-align: middle;\n",
              "    }\n",
              "\n",
              "    .dataframe tbody tr th {\n",
              "        vertical-align: top;\n",
              "    }\n",
              "\n",
              "    .dataframe thead th {\n",
              "        text-align: right;\n",
              "    }\n",
              "</style>\n",
              "<table border=\"1\" class=\"dataframe\">\n",
              "  <thead>\n",
              "    <tr style=\"text-align: right;\">\n",
              "      <th></th>\n",
              "      <th>url</th>\n",
              "      <th>codigo</th>\n",
              "      <th>texto</th>\n",
              "      <th>textoMinuscula</th>\n",
              "      <th>textoMauyuscula</th>\n",
              "      <th>textoSinAcentos</th>\n",
              "    </tr>\n",
              "  </thead>\n",
              "  <tbody>\n",
              "    <tr>\n",
              "      <th>0</th>\n",
              "      <td>https://proverbia.net/frases-de-experiencia</td>\n",
              "      <td>1</td>\n",
              "      <td>La experiencia no tiene valor ético alguno, es...</td>\n",
              "      <td>la experiencia no tiene valor ético alguno, es...</td>\n",
              "      <td>LA EXPERIENCIA NO TIENE VALOR ÉTICO ALGUNO, ES...</td>\n",
              "      <td>LA EXPERIENCIA NO TIENE VALOR ETICO ALGUNO, ES...</td>\n",
              "    </tr>\n",
              "    <tr>\n",
              "      <th>1</th>\n",
              "      <td>https://proverbia.net/frases-de-experiencia</td>\n",
              "      <td>2</td>\n",
              "      <td>Una experiencia nunca es un fracaso, pues siem...</td>\n",
              "      <td>una experiencia nunca es un fracaso, pues siem...</td>\n",
              "      <td>UNA EXPERIENCIA NUNCA ES UN FRACASO, PUES SIEM...</td>\n",
              "      <td>UNA EXPERIENCIA NUNCA ES UN FRACASO, PUES SIEM...</td>\n",
              "    </tr>\n",
              "    <tr>\n",
              "      <th>2</th>\n",
              "      <td>https://proverbia.net/frases-de-experiencia</td>\n",
              "      <td>3</td>\n",
              "      <td>La experiencia no es lo que te sucede, sino lo...</td>\n",
              "      <td>la experiencia no es lo que te sucede, sino lo...</td>\n",
              "      <td>LA EXPERIENCIA NO ES LO QUE TE SUCEDE, SINO LO...</td>\n",
              "      <td>LA EXPERIENCIA NO ES LO QUE TE SUCEDE, SINO LO...</td>\n",
              "    </tr>\n",
              "    <tr>\n",
              "      <th>3</th>\n",
              "      <td>https://proverbia.net/frases-de-experiencia</td>\n",
              "      <td>4</td>\n",
              "      <td>Pájaro viejo no entra en jaula.</td>\n",
              "      <td>pájaro viejo no entra en jaula.</td>\n",
              "      <td>PÁJARO VIEJO NO ENTRA EN JAULA.</td>\n",
              "      <td>PAJARO VIEJO NO ENTRA EN JAULA.</td>\n",
              "    </tr>\n",
              "    <tr>\n",
              "      <th>4</th>\n",
              "      <td>https://proverbia.net/frases-de-experiencia</td>\n",
              "      <td>5</td>\n",
              "      <td>Un experto es un hombre que ha dejado de pensa...</td>\n",
              "      <td>un experto es un hombre que ha dejado de pensa...</td>\n",
              "      <td>UN EXPERTO ES UN HOMBRE QUE HA DEJADO DE PENSA...</td>\n",
              "      <td>UN EXPERTO ES UN HOMBRE QUE HA DEJADO DE PENSA...</td>\n",
              "    </tr>\n",
              "  </tbody>\n",
              "</table>\n",
              "</div>"
            ],
            "text/plain": [
              "                                           url  ...                                    textoSinAcentos\n",
              "0  https://proverbia.net/frases-de-experiencia  ...  LA EXPERIENCIA NO TIENE VALOR ETICO ALGUNO, ES...\n",
              "1  https://proverbia.net/frases-de-experiencia  ...  UNA EXPERIENCIA NUNCA ES UN FRACASO, PUES SIEM...\n",
              "2  https://proverbia.net/frases-de-experiencia  ...  LA EXPERIENCIA NO ES LO QUE TE SUCEDE, SINO LO...\n",
              "3  https://proverbia.net/frases-de-experiencia  ...                    PAJARO VIEJO NO ENTRA EN JAULA.\n",
              "4  https://proverbia.net/frases-de-experiencia  ...  UN EXPERTO ES UN HOMBRE QUE HA DEJADO DE PENSA...\n",
              "\n",
              "[5 rows x 6 columns]"
            ]
          },
          "metadata": {
            "tags": []
          },
          "execution_count": 19
        }
      ]
    },
    {
      "cell_type": "markdown",
      "metadata": {
        "id": "O4itcQSyxIrr"
      },
      "source": [
        "# Eliminación de acentos\n",
        "Para eliminar acentos nos valdemos de la librería unicodedata. Unicode es un consorcio que mantiene el estándar de caracteres incluyendo su representación y codificación https://home.unicode.org/"
      ]
    },
    {
      "cell_type": "code",
      "metadata": {
        "id": "kfXEku09xHUM"
      },
      "source": [
        "import unicodedata\n",
        "def strip_accents(s):\n",
        "   # Retorna el string normalizado si la categoría es Mn es decir https://www.compart.com/en/unicode/category/Mn\n",
        "   return ''.join(c for c in unicodedata.normalize('NFD', s)\n",
        "                  if unicodedata.category(c) != 'Mn')"
      ],
      "execution_count": 20,
      "outputs": []
    },
    {
      "cell_type": "code",
      "metadata": {
        "id": "6fRm8as-xPTg"
      },
      "source": [
        "# Ahora crearemos un texto sin acentos en una nueva columna\n",
        "textos['textoSinAcentos'] = textos['textoMinuscula'].apply(strip_accents)\n"
      ],
      "execution_count": 21,
      "outputs": []
    },
    {
      "cell_type": "code",
      "metadata": {
        "colab": {
          "base_uri": "https://localhost:8080/",
          "height": 801
        },
        "id": "yKMjjC_VxW0p",
        "outputId": "1c9f737b-cf9d-4334-fb25-e3458fd2f46f"
      },
      "source": [
        "# Observemos la columna final y comparémosla con el texto original\n",
        "textos"
      ],
      "execution_count": 22,
      "outputs": [
        {
          "output_type": "execute_result",
          "data": {
            "text/html": [
              "<div>\n",
              "<style scoped>\n",
              "    .dataframe tbody tr th:only-of-type {\n",
              "        vertical-align: middle;\n",
              "    }\n",
              "\n",
              "    .dataframe tbody tr th {\n",
              "        vertical-align: top;\n",
              "    }\n",
              "\n",
              "    .dataframe thead th {\n",
              "        text-align: right;\n",
              "    }\n",
              "</style>\n",
              "<table border=\"1\" class=\"dataframe\">\n",
              "  <thead>\n",
              "    <tr style=\"text-align: right;\">\n",
              "      <th></th>\n",
              "      <th>url</th>\n",
              "      <th>codigo</th>\n",
              "      <th>texto</th>\n",
              "      <th>textoMinuscula</th>\n",
              "      <th>textoMauyuscula</th>\n",
              "      <th>textoSinAcentos</th>\n",
              "    </tr>\n",
              "  </thead>\n",
              "  <tbody>\n",
              "    <tr>\n",
              "      <th>0</th>\n",
              "      <td>https://proverbia.net/frases-de-experiencia</td>\n",
              "      <td>1</td>\n",
              "      <td>La experiencia no tiene valor ético alguno, es...</td>\n",
              "      <td>la experiencia no tiene valor ético alguno, es...</td>\n",
              "      <td>LA EXPERIENCIA NO TIENE VALOR ÉTICO ALGUNO, ES...</td>\n",
              "      <td>la experiencia no tiene valor etico alguno, es...</td>\n",
              "    </tr>\n",
              "    <tr>\n",
              "      <th>1</th>\n",
              "      <td>https://proverbia.net/frases-de-experiencia</td>\n",
              "      <td>2</td>\n",
              "      <td>Una experiencia nunca es un fracaso, pues siem...</td>\n",
              "      <td>una experiencia nunca es un fracaso, pues siem...</td>\n",
              "      <td>UNA EXPERIENCIA NUNCA ES UN FRACASO, PUES SIEM...</td>\n",
              "      <td>una experiencia nunca es un fracaso, pues siem...</td>\n",
              "    </tr>\n",
              "    <tr>\n",
              "      <th>2</th>\n",
              "      <td>https://proverbia.net/frases-de-experiencia</td>\n",
              "      <td>3</td>\n",
              "      <td>La experiencia no es lo que te sucede, sino lo...</td>\n",
              "      <td>la experiencia no es lo que te sucede, sino lo...</td>\n",
              "      <td>LA EXPERIENCIA NO ES LO QUE TE SUCEDE, SINO LO...</td>\n",
              "      <td>la experiencia no es lo que te sucede, sino lo...</td>\n",
              "    </tr>\n",
              "    <tr>\n",
              "      <th>3</th>\n",
              "      <td>https://proverbia.net/frases-de-experiencia</td>\n",
              "      <td>4</td>\n",
              "      <td>Pájaro viejo no entra en jaula.</td>\n",
              "      <td>pájaro viejo no entra en jaula.</td>\n",
              "      <td>PÁJARO VIEJO NO ENTRA EN JAULA.</td>\n",
              "      <td>pajaro viejo no entra en jaula.</td>\n",
              "    </tr>\n",
              "    <tr>\n",
              "      <th>4</th>\n",
              "      <td>https://proverbia.net/frases-de-experiencia</td>\n",
              "      <td>5</td>\n",
              "      <td>Un experto es un hombre que ha dejado de pensa...</td>\n",
              "      <td>un experto es un hombre que ha dejado de pensa...</td>\n",
              "      <td>UN EXPERTO ES UN HOMBRE QUE HA DEJADO DE PENSA...</td>\n",
              "      <td>un experto es un hombre que ha dejado de pensa...</td>\n",
              "    </tr>\n",
              "    <tr>\n",
              "      <th>5</th>\n",
              "      <td>https://proverbia.net/frases-de-experiencia</td>\n",
              "      <td>6</td>\n",
              "      <td>La experiencia del mundo no consiste en el núm...</td>\n",
              "      <td>la experiencia del mundo no consiste en el núm...</td>\n",
              "      <td>LA EXPERIENCIA DEL MUNDO NO CONSISTE EN EL NÚM...</td>\n",
              "      <td>la experiencia del mundo no consiste en el num...</td>\n",
              "    </tr>\n",
              "    <tr>\n",
              "      <th>6</th>\n",
              "      <td>https://proverbia.net/frases-de-experiencia</td>\n",
              "      <td>7</td>\n",
              "      <td>La experiencia es algo maravilloso, nos permit...</td>\n",
              "      <td>la experiencia es algo maravilloso, nos permit...</td>\n",
              "      <td>LA EXPERIENCIA ES ALGO MARAVILLOSO, NOS PERMIT...</td>\n",
              "      <td>la experiencia es algo maravilloso, nos permit...</td>\n",
              "    </tr>\n",
              "    <tr>\n",
              "      <th>7</th>\n",
              "      <td>https://proverbia.net/frases-de-experiencia</td>\n",
              "      <td>8</td>\n",
              "      <td>Experiencia es el nombre que damos a nuestras ...</td>\n",
              "      <td>experiencia es el nombre que damos a nuestras ...</td>\n",
              "      <td>EXPERIENCIA ES EL NOMBRE QUE DAMOS A NUESTRAS ...</td>\n",
              "      <td>experiencia es el nombre que damos a nuestras ...</td>\n",
              "    </tr>\n",
              "    <tr>\n",
              "      <th>8</th>\n",
              "      <td>https://proverbia.net/frases-de-experiencia</td>\n",
              "      <td>9</td>\n",
              "      <td>Sólo una cosa es más dolorosa que aprender de ...</td>\n",
              "      <td>sólo una cosa es más dolorosa que aprender de ...</td>\n",
              "      <td>SÓLO UNA COSA ES MÁS DOLOROSA QUE APRENDER DE ...</td>\n",
              "      <td>solo una cosa es mas dolorosa que aprender de ...</td>\n",
              "    </tr>\n",
              "    <tr>\n",
              "      <th>9</th>\n",
              "      <td>https://proverbia.net/frases-de-experiencia</td>\n",
              "      <td>10</td>\n",
              "      <td>Paréceme, Sancho, que no hay refrán que no sea...</td>\n",
              "      <td>paréceme, sancho, que no hay refrán que no sea...</td>\n",
              "      <td>PARÉCEME, SANCHO, QUE NO HAY REFRÁN QUE NO SEA...</td>\n",
              "      <td>pareceme, sancho, que no hay refran que no sea...</td>\n",
              "    </tr>\n",
              "    <tr>\n",
              "      <th>10</th>\n",
              "      <td>https://proverbia.net/frases-de-experiencia</td>\n",
              "      <td>11</td>\n",
              "      <td>Nada se sabe bien sino por medio de la experie...</td>\n",
              "      <td>nada se sabe bien sino por medio de la experie...</td>\n",
              "      <td>NADA SE SABE BIEN SINO POR MEDIO DE LA EXPERIE...</td>\n",
              "      <td>nada se sabe bien sino por medio de la experie...</td>\n",
              "    </tr>\n",
              "    <tr>\n",
              "      <th>11</th>\n",
              "      <td>https://proverbia.net/frases-de-experiencia</td>\n",
              "      <td>12</td>\n",
              "      <td>La experiencia es el bastón de los ciegos.</td>\n",
              "      <td>la experiencia es el bastón de los ciegos.</td>\n",
              "      <td>LA EXPERIENCIA ES EL BASTÓN DE LOS CIEGOS.</td>\n",
              "      <td>la experiencia es el baston de los ciegos.</td>\n",
              "    </tr>\n",
              "    <tr>\n",
              "      <th>12</th>\n",
              "      <td>https://proverbia.net/frases-de-experiencia</td>\n",
              "      <td>13</td>\n",
              "      <td>Para la mayoría de los hombres, la experiencia...</td>\n",
              "      <td>para la mayoría de los hombres, la experiencia...</td>\n",
              "      <td>PARA LA MAYORÍA DE LOS HOMBRES, LA EXPERIENCIA...</td>\n",
              "      <td>para la mayoria de los hombres, la experiencia...</td>\n",
              "    </tr>\n",
              "    <tr>\n",
              "      <th>13</th>\n",
              "      <td>https://proverbia.net/frases-de-experiencia</td>\n",
              "      <td>14</td>\n",
              "      <td>Entre hombre y hombre no hay gran diferencia. ...</td>\n",
              "      <td>entre hombre y hombre no hay gran diferencia. ...</td>\n",
              "      <td>ENTRE HOMBRE Y HOMBRE NO HAY GRAN DIFERENCIA. ...</td>\n",
              "      <td>entre hombre y hombre no hay gran diferencia. ...</td>\n",
              "    </tr>\n",
              "    <tr>\n",
              "      <th>14</th>\n",
              "      <td>https://proverbia.net/frases-de-experiencia</td>\n",
              "      <td>15</td>\n",
              "      <td>Una espina de experiencia vale más que un bosq...</td>\n",
              "      <td>una espina de experiencia vale más que un bosq...</td>\n",
              "      <td>UNA ESPINA DE EXPERIENCIA VALE MÁS QUE UN BOSQ...</td>\n",
              "      <td>una espina de experiencia vale mas que un bosq...</td>\n",
              "    </tr>\n",
              "    <tr>\n",
              "      <th>15</th>\n",
              "      <td>https://proverbia.net/frases-de-experiencia</td>\n",
              "      <td>16</td>\n",
              "      <td>Generalmente la experiencia se atribuye a las ...</td>\n",
              "      <td>generalmente la experiencia se atribuye a las ...</td>\n",
              "      <td>GENERALMENTE LA EXPERIENCIA SE ATRIBUYE A LAS ...</td>\n",
              "      <td>generalmente la experiencia se atribuye a las ...</td>\n",
              "    </tr>\n",
              "    <tr>\n",
              "      <th>16</th>\n",
              "      <td>https://proverbia.net/frases-de-experiencia</td>\n",
              "      <td>17</td>\n",
              "      <td>Un gran marinero puede navegar aunque sus vela...</td>\n",
              "      <td>un gran marinero puede navegar aunque sus vela...</td>\n",
              "      <td>UN GRAN MARINERO PUEDE NAVEGAR AUNQUE SUS VELA...</td>\n",
              "      <td>un gran marinero puede navegar aunque sus vela...</td>\n",
              "    </tr>\n",
              "    <tr>\n",
              "      <th>17</th>\n",
              "      <td>https://proverbia.net/frases-de-experiencia</td>\n",
              "      <td>18</td>\n",
              "      <td>La experiencia es algo que no consigues hasta ...</td>\n",
              "      <td>la experiencia es algo que no consigues hasta ...</td>\n",
              "      <td>LA EXPERIENCIA ES ALGO QUE NO CONSIGUES HASTA ...</td>\n",
              "      <td>la experiencia es algo que no consigues hasta ...</td>\n",
              "    </tr>\n",
              "    <tr>\n",
              "      <th>18</th>\n",
              "      <td>https://proverbia.net/frases-de-experiencia</td>\n",
              "      <td>19</td>\n",
              "      <td>La experiencia tiene la misma utilidad que un ...</td>\n",
              "      <td>la experiencia tiene la misma utilidad que un ...</td>\n",
              "      <td>LA EXPERIENCIA TIENE LA MISMA UTILIDAD QUE UN ...</td>\n",
              "      <td>la experiencia tiene la misma utilidad que un ...</td>\n",
              "    </tr>\n",
              "    <tr>\n",
              "      <th>19</th>\n",
              "      <td>https://proverbia.net/frases-de-experiencia</td>\n",
              "      <td>20</td>\n",
              "      <td>Lo experimentado como externo no pertenece a l...</td>\n",
              "      <td>lo experimentado como externo no pertenece a l...</td>\n",
              "      <td>LO EXPERIMENTADO COMO EXTERNO NO PERTENECE A L...</td>\n",
              "      <td>lo experimentado como externo no pertenece a l...</td>\n",
              "    </tr>\n",
              "    <tr>\n",
              "      <th>20</th>\n",
              "      <td>https://proverbia.net/frases-de-experiencia</td>\n",
              "      <td>21</td>\n",
              "      <td>Nunca le ha servido a nadie la experiencia de ...</td>\n",
              "      <td>nunca le ha servido a nadie la experiencia de ...</td>\n",
              "      <td>NUNCA LE HA SERVIDO A NADIE LA EXPERIENCIA DE ...</td>\n",
              "      <td>nunca le ha servido a nadie la experiencia de ...</td>\n",
              "    </tr>\n",
              "    <tr>\n",
              "      <th>21</th>\n",
              "      <td>https://proverbia.net/frases-de-experiencia</td>\n",
              "      <td>22</td>\n",
              "      <td>No escribo sobre mis experiencias, sino desde ...</td>\n",
              "      <td>no escribo sobre mis experiencias, sino desde ...</td>\n",
              "      <td>NO ESCRIBO SOBRE MIS EXPERIENCIAS, SINO DESDE ...</td>\n",
              "      <td>no escribo sobre mis experiencias, sino desde ...</td>\n",
              "    </tr>\n",
              "    <tr>\n",
              "      <th>22</th>\n",
              "      <td>https://proverbia.net/frases-de-experiencia</td>\n",
              "      <td>23</td>\n",
              "      <td>La experiencia es como un billete de lotería c...</td>\n",
              "      <td>la experiencia es como un billete de lotería c...</td>\n",
              "      <td>LA EXPERIENCIA ES COMO UN BILLETE DE LOTERÍA C...</td>\n",
              "      <td>la experiencia es como un billete de loteria c...</td>\n",
              "    </tr>\n",
              "    <tr>\n",
              "      <th>23</th>\n",
              "      <td>https://proverbia.net/frases-de-experiencia</td>\n",
              "      <td>24</td>\n",
              "      <td>Un grano de buena experiencia a los 9 años, va...</td>\n",
              "      <td>un grano de buena experiencia a los 9 años, va...</td>\n",
              "      <td>UN GRANO DE BUENA EXPERIENCIA A LOS 9 AÑOS, VA...</td>\n",
              "      <td>un grano de buena experiencia a los 9 anos, va...</td>\n",
              "    </tr>\n",
              "  </tbody>\n",
              "</table>\n",
              "</div>"
            ],
            "text/plain": [
              "                                            url  ...                                    textoSinAcentos\n",
              "0   https://proverbia.net/frases-de-experiencia  ...  la experiencia no tiene valor etico alguno, es...\n",
              "1   https://proverbia.net/frases-de-experiencia  ...  una experiencia nunca es un fracaso, pues siem...\n",
              "2   https://proverbia.net/frases-de-experiencia  ...  la experiencia no es lo que te sucede, sino lo...\n",
              "3   https://proverbia.net/frases-de-experiencia  ...                    pajaro viejo no entra en jaula.\n",
              "4   https://proverbia.net/frases-de-experiencia  ...  un experto es un hombre que ha dejado de pensa...\n",
              "5   https://proverbia.net/frases-de-experiencia  ...  la experiencia del mundo no consiste en el num...\n",
              "6   https://proverbia.net/frases-de-experiencia  ...  la experiencia es algo maravilloso, nos permit...\n",
              "7   https://proverbia.net/frases-de-experiencia  ...  experiencia es el nombre que damos a nuestras ...\n",
              "8   https://proverbia.net/frases-de-experiencia  ...  solo una cosa es mas dolorosa que aprender de ...\n",
              "9   https://proverbia.net/frases-de-experiencia  ...  pareceme, sancho, que no hay refran que no sea...\n",
              "10  https://proverbia.net/frases-de-experiencia  ...  nada se sabe bien sino por medio de la experie...\n",
              "11  https://proverbia.net/frases-de-experiencia  ...         la experiencia es el baston de los ciegos.\n",
              "12  https://proverbia.net/frases-de-experiencia  ...  para la mayoria de los hombres, la experiencia...\n",
              "13  https://proverbia.net/frases-de-experiencia  ...  entre hombre y hombre no hay gran diferencia. ...\n",
              "14  https://proverbia.net/frases-de-experiencia  ...  una espina de experiencia vale mas que un bosq...\n",
              "15  https://proverbia.net/frases-de-experiencia  ...  generalmente la experiencia se atribuye a las ...\n",
              "16  https://proverbia.net/frases-de-experiencia  ...  un gran marinero puede navegar aunque sus vela...\n",
              "17  https://proverbia.net/frases-de-experiencia  ...  la experiencia es algo que no consigues hasta ...\n",
              "18  https://proverbia.net/frases-de-experiencia  ...  la experiencia tiene la misma utilidad que un ...\n",
              "19  https://proverbia.net/frases-de-experiencia  ...  lo experimentado como externo no pertenece a l...\n",
              "20  https://proverbia.net/frases-de-experiencia  ...  nunca le ha servido a nadie la experiencia de ...\n",
              "21  https://proverbia.net/frases-de-experiencia  ...  no escribo sobre mis experiencias, sino desde ...\n",
              "22  https://proverbia.net/frases-de-experiencia  ...  la experiencia es como un billete de loteria c...\n",
              "23  https://proverbia.net/frases-de-experiencia  ...  un grano de buena experiencia a los 9 anos, va...\n",
              "\n",
              "[24 rows x 6 columns]"
            ]
          },
          "metadata": {
            "tags": []
          },
          "execution_count": 22
        }
      ]
    },
    {
      "cell_type": "markdown",
      "metadata": {
        "id": "5RaIXo385KCH"
      },
      "source": [
        "# Corrección de errores de ortografía\n",
        "Para corregir errores de ortogafía usaremos la librería pyspellchecker pues tiene implementación en Español. Esta librería está basada en el cálculo de la distancia de Levensthein."
      ]
    },
    {
      "cell_type": "code",
      "metadata": {
        "id": "ajzcsLS6i7YM"
      },
      "source": [
        "# Adicionaremos una fila con texto con errores.\n",
        "new_text = 'Para el que no sabe a donee queire llegar culquier camnio es corretco'\n",
        "new_row = {'url':'http://localhost.com', 'codigo': 1, 'texto': new_text, 'textoMinuscula' : new_text.lower()}\n",
        "textos = textos.append(new_row, ignore_index = True)\n"
      ],
      "execution_count": 38,
      "outputs": []
    },
    {
      "cell_type": "code",
      "metadata": {
        "colab": {
          "base_uri": "https://localhost:8080/",
          "height": 206
        },
        "id": "z-Z22IsDlV7o",
        "outputId": "5e0fb2b5-bf2b-4cd9-8c0f-a46272c7977c"
      },
      "source": [
        "textos.tail()"
      ],
      "execution_count": 39,
      "outputs": [
        {
          "output_type": "execute_result",
          "data": {
            "text/html": [
              "<div>\n",
              "<style scoped>\n",
              "    .dataframe tbody tr th:only-of-type {\n",
              "        vertical-align: middle;\n",
              "    }\n",
              "\n",
              "    .dataframe tbody tr th {\n",
              "        vertical-align: top;\n",
              "    }\n",
              "\n",
              "    .dataframe thead th {\n",
              "        text-align: right;\n",
              "    }\n",
              "</style>\n",
              "<table border=\"1\" class=\"dataframe\">\n",
              "  <thead>\n",
              "    <tr style=\"text-align: right;\">\n",
              "      <th></th>\n",
              "      <th>url</th>\n",
              "      <th>codigo</th>\n",
              "      <th>texto</th>\n",
              "      <th>textoMinuscula</th>\n",
              "      <th>textoMauyuscula</th>\n",
              "      <th>textoSinAcentos</th>\n",
              "      <th>textoCorregido</th>\n",
              "    </tr>\n",
              "  </thead>\n",
              "  <tbody>\n",
              "    <tr>\n",
              "      <th>20</th>\n",
              "      <td>https://proverbia.net/frases-de-experiencia</td>\n",
              "      <td>21</td>\n",
              "      <td>Nunca le ha servido a nadie la experiencia de ...</td>\n",
              "      <td>nunca le ha servido a nadie la experiencia de ...</td>\n",
              "      <td>NUNCA LE HA SERVIDO A NADIE LA EXPERIENCIA DE ...</td>\n",
              "      <td>nunca le ha servido a nadie la experiencia de ...</td>\n",
              "      <td>nunca le ha servido a nadie la experiencia de ...</td>\n",
              "    </tr>\n",
              "    <tr>\n",
              "      <th>21</th>\n",
              "      <td>https://proverbia.net/frases-de-experiencia</td>\n",
              "      <td>22</td>\n",
              "      <td>No escribo sobre mis experiencias, sino desde ...</td>\n",
              "      <td>no escribo sobre mis experiencias, sino desde ...</td>\n",
              "      <td>NO ESCRIBO SOBRE MIS EXPERIENCIAS, SINO DESDE ...</td>\n",
              "      <td>no escribo sobre mis experiencias, sino desde ...</td>\n",
              "      <td>no escribo sobre mis experiencias sino desde f...</td>\n",
              "    </tr>\n",
              "    <tr>\n",
              "      <th>22</th>\n",
              "      <td>https://proverbia.net/frases-de-experiencia</td>\n",
              "      <td>23</td>\n",
              "      <td>La experiencia es como un billete de lotería c...</td>\n",
              "      <td>la experiencia es como un billete de lotería c...</td>\n",
              "      <td>LA EXPERIENCIA ES COMO UN BILLETE DE LOTERÍA C...</td>\n",
              "      <td>la experiencia es como un billete de loteria c...</td>\n",
              "      <td>la experiencia es como un billete de lotería c...</td>\n",
              "    </tr>\n",
              "    <tr>\n",
              "      <th>23</th>\n",
              "      <td>https://proverbia.net/frases-de-experiencia</td>\n",
              "      <td>24</td>\n",
              "      <td>Un grano de buena experiencia a los 9 años, va...</td>\n",
              "      <td>un grano de buena experiencia a los 9 años, va...</td>\n",
              "      <td>UN GRANO DE BUENA EXPERIENCIA A LOS 9 AÑOS, VA...</td>\n",
              "      <td>un grano de buena experiencia a los 9 anos, va...</td>\n",
              "      <td>un grano de buena experiencia a los 9 años val...</td>\n",
              "    </tr>\n",
              "    <tr>\n",
              "      <th>24</th>\n",
              "      <td>http://localhost.com</td>\n",
              "      <td>1</td>\n",
              "      <td>Para el que no sabe a donee queire llegar culq...</td>\n",
              "      <td>para el que no sabe a donee queire llegar culq...</td>\n",
              "      <td>NaN</td>\n",
              "      <td>NaN</td>\n",
              "      <td>NaN</td>\n",
              "    </tr>\n",
              "  </tbody>\n",
              "</table>\n",
              "</div>"
            ],
            "text/plain": [
              "                                            url  ...                                     textoCorregido\n",
              "20  https://proverbia.net/frases-de-experiencia  ...  nunca le ha servido a nadie la experiencia de ...\n",
              "21  https://proverbia.net/frases-de-experiencia  ...  no escribo sobre mis experiencias sino desde f...\n",
              "22  https://proverbia.net/frases-de-experiencia  ...  la experiencia es como un billete de lotería c...\n",
              "23  https://proverbia.net/frases-de-experiencia  ...  un grano de buena experiencia a los 9 años val...\n",
              "24                         http://localhost.com  ...                                                NaN\n",
              "\n",
              "[5 rows x 7 columns]"
            ]
          },
          "metadata": {
            "tags": []
          },
          "execution_count": 39
        }
      ]
    },
    {
      "cell_type": "code",
      "metadata": {
        "id": "sAmInnbZhM6A"
      },
      "source": [
        "# crearemos la función para corregir los errores de un texto. Es importante tener en cuenta que si la palabra no está\n",
        "# en el diccionario buscará la más parecida, pero si no encuentra ninguna parecida no la corrige.\n",
        "\n",
        "def corregirTexto(text):  \n",
        "  spell = SpellChecker(language='es')\n",
        "  textoCorregido = ''\n",
        "  for word in text.split():\n",
        "    if not(word in spell):\n",
        "      textoCorregido = textoCorregido + spell.correction(word)+' '\n",
        "    else:\n",
        "      textoCorregido = textoCorregido + word + ' '\n",
        "  return textoCorregido  \n",
        "\n"
      ],
      "execution_count": 40,
      "outputs": []
    },
    {
      "cell_type": "code",
      "metadata": {
        "id": "yf7pTrWhkfpn"
      },
      "source": [
        "textos['textoCorregido'] = textos['textoMinuscula'].apply(corregirTexto)\n"
      ],
      "execution_count": 41,
      "outputs": []
    },
    {
      "cell_type": "code",
      "metadata": {
        "colab": {
          "base_uri": "https://localhost:8080/",
          "height": 206
        },
        "id": "pBdM5_hEOrqK",
        "outputId": "acf93857-c3d7-453d-f095-4dfa905290c0"
      },
      "source": [
        "textos.tail()"
      ],
      "execution_count": 42,
      "outputs": [
        {
          "output_type": "execute_result",
          "data": {
            "text/html": [
              "<div>\n",
              "<style scoped>\n",
              "    .dataframe tbody tr th:only-of-type {\n",
              "        vertical-align: middle;\n",
              "    }\n",
              "\n",
              "    .dataframe tbody tr th {\n",
              "        vertical-align: top;\n",
              "    }\n",
              "\n",
              "    .dataframe thead th {\n",
              "        text-align: right;\n",
              "    }\n",
              "</style>\n",
              "<table border=\"1\" class=\"dataframe\">\n",
              "  <thead>\n",
              "    <tr style=\"text-align: right;\">\n",
              "      <th></th>\n",
              "      <th>url</th>\n",
              "      <th>codigo</th>\n",
              "      <th>texto</th>\n",
              "      <th>textoMinuscula</th>\n",
              "      <th>textoMauyuscula</th>\n",
              "      <th>textoSinAcentos</th>\n",
              "      <th>textoCorregido</th>\n",
              "    </tr>\n",
              "  </thead>\n",
              "  <tbody>\n",
              "    <tr>\n",
              "      <th>20</th>\n",
              "      <td>https://proverbia.net/frases-de-experiencia</td>\n",
              "      <td>21</td>\n",
              "      <td>Nunca le ha servido a nadie la experiencia de ...</td>\n",
              "      <td>nunca le ha servido a nadie la experiencia de ...</td>\n",
              "      <td>NUNCA LE HA SERVIDO A NADIE LA EXPERIENCIA DE ...</td>\n",
              "      <td>nunca le ha servido a nadie la experiencia de ...</td>\n",
              "      <td>nunca le ha servido a nadie la experiencia de ...</td>\n",
              "    </tr>\n",
              "    <tr>\n",
              "      <th>21</th>\n",
              "      <td>https://proverbia.net/frases-de-experiencia</td>\n",
              "      <td>22</td>\n",
              "      <td>No escribo sobre mis experiencias, sino desde ...</td>\n",
              "      <td>no escribo sobre mis experiencias, sino desde ...</td>\n",
              "      <td>NO ESCRIBO SOBRE MIS EXPERIENCIAS, SINO DESDE ...</td>\n",
              "      <td>no escribo sobre mis experiencias, sino desde ...</td>\n",
              "      <td>no escribo sobre mis experiencias sino desde f...</td>\n",
              "    </tr>\n",
              "    <tr>\n",
              "      <th>22</th>\n",
              "      <td>https://proverbia.net/frases-de-experiencia</td>\n",
              "      <td>23</td>\n",
              "      <td>La experiencia es como un billete de lotería c...</td>\n",
              "      <td>la experiencia es como un billete de lotería c...</td>\n",
              "      <td>LA EXPERIENCIA ES COMO UN BILLETE DE LOTERÍA C...</td>\n",
              "      <td>la experiencia es como un billete de loteria c...</td>\n",
              "      <td>la experiencia es como un billete de lotería c...</td>\n",
              "    </tr>\n",
              "    <tr>\n",
              "      <th>23</th>\n",
              "      <td>https://proverbia.net/frases-de-experiencia</td>\n",
              "      <td>24</td>\n",
              "      <td>Un grano de buena experiencia a los 9 años, va...</td>\n",
              "      <td>un grano de buena experiencia a los 9 años, va...</td>\n",
              "      <td>UN GRANO DE BUENA EXPERIENCIA A LOS 9 AÑOS, VA...</td>\n",
              "      <td>un grano de buena experiencia a los 9 anos, va...</td>\n",
              "      <td>un grano de buena experiencia a los 9 años val...</td>\n",
              "    </tr>\n",
              "    <tr>\n",
              "      <th>24</th>\n",
              "      <td>http://localhost.com</td>\n",
              "      <td>1</td>\n",
              "      <td>Para el que no sabe a donee queire llegar culq...</td>\n",
              "      <td>para el que no sabe a donee queire llegar culq...</td>\n",
              "      <td>NaN</td>\n",
              "      <td>NaN</td>\n",
              "      <td>para el que no sabe a donde queire llegar culq...</td>\n",
              "    </tr>\n",
              "  </tbody>\n",
              "</table>\n",
              "</div>"
            ],
            "text/plain": [
              "                                            url  ...                                     textoCorregido\n",
              "20  https://proverbia.net/frases-de-experiencia  ...  nunca le ha servido a nadie la experiencia de ...\n",
              "21  https://proverbia.net/frases-de-experiencia  ...  no escribo sobre mis experiencias sino desde f...\n",
              "22  https://proverbia.net/frases-de-experiencia  ...  la experiencia es como un billete de lotería c...\n",
              "23  https://proverbia.net/frases-de-experiencia  ...  un grano de buena experiencia a los 9 años val...\n",
              "24                         http://localhost.com  ...  para el que no sabe a donde queire llegar culq...\n",
              "\n",
              "[5 rows x 7 columns]"
            ]
          },
          "metadata": {
            "tags": []
          },
          "execution_count": 42
        }
      ]
    },
    {
      "cell_type": "code",
      "metadata": {
        "id": "r21SwgOJOcqn"
      },
      "source": [
        "# Borraremos el texto adicionado\n",
        "textos.drop([24],inplace=True)"
      ],
      "execution_count": 43,
      "outputs": []
    },
    {
      "cell_type": "markdown",
      "metadata": {
        "id": "dsBbTWyA9ptF"
      },
      "source": [
        "# Filtrado de tokens\n",
        "Para realizar el filtrado de tokens primero debemos procesar los textos para generar los documentos con las etiquetas por cada token. Usaremos el modelo es_core_news_lg"
      ]
    },
    {
      "cell_type": "code",
      "metadata": {
        "id": "CLwn90aT9oeA"
      },
      "source": [
        "# cargaremos el modelo para poder aplicar el pipeluine\n",
        "nlpSpa = spacy.load('es_core_news_lg')"
      ],
      "execution_count": 44,
      "outputs": []
    },
    {
      "cell_type": "code",
      "metadata": {
        "colab": {
          "base_uri": "https://localhost:8080/",
          "height": 293
        },
        "id": "gMEZMlGy-bK7",
        "outputId": "1ded0d89-620c-4282-9121-90dd276e58e6"
      },
      "source": [
        "# Ahora aplicaremos todo el pipeline a los textos del data frame\n",
        "textos['doc'] = textos['textoMinuscula'].apply(nlpSpa)\n",
        "textos.head()\n",
        "\n"
      ],
      "execution_count": 45,
      "outputs": [
        {
          "output_type": "execute_result",
          "data": {
            "text/html": [
              "<div>\n",
              "<style scoped>\n",
              "    .dataframe tbody tr th:only-of-type {\n",
              "        vertical-align: middle;\n",
              "    }\n",
              "\n",
              "    .dataframe tbody tr th {\n",
              "        vertical-align: top;\n",
              "    }\n",
              "\n",
              "    .dataframe thead th {\n",
              "        text-align: right;\n",
              "    }\n",
              "</style>\n",
              "<table border=\"1\" class=\"dataframe\">\n",
              "  <thead>\n",
              "    <tr style=\"text-align: right;\">\n",
              "      <th></th>\n",
              "      <th>url</th>\n",
              "      <th>codigo</th>\n",
              "      <th>texto</th>\n",
              "      <th>textoMinuscula</th>\n",
              "      <th>textoMauyuscula</th>\n",
              "      <th>textoSinAcentos</th>\n",
              "      <th>textoCorregido</th>\n",
              "      <th>doc</th>\n",
              "    </tr>\n",
              "  </thead>\n",
              "  <tbody>\n",
              "    <tr>\n",
              "      <th>0</th>\n",
              "      <td>https://proverbia.net/frases-de-experiencia</td>\n",
              "      <td>1</td>\n",
              "      <td>La experiencia no tiene valor ético alguno, es...</td>\n",
              "      <td>la experiencia no tiene valor ético alguno, es...</td>\n",
              "      <td>LA EXPERIENCIA NO TIENE VALOR ÉTICO ALGUNO, ES...</td>\n",
              "      <td>la experiencia no tiene valor etico alguno, es...</td>\n",
              "      <td>la experiencia no tiene valor ético algunos es...</td>\n",
              "      <td>(la, experiencia, no, tiene, valor, ético, alg...</td>\n",
              "    </tr>\n",
              "    <tr>\n",
              "      <th>1</th>\n",
              "      <td>https://proverbia.net/frases-de-experiencia</td>\n",
              "      <td>2</td>\n",
              "      <td>Una experiencia nunca es un fracaso, pues siem...</td>\n",
              "      <td>una experiencia nunca es un fracaso, pues siem...</td>\n",
              "      <td>UNA EXPERIENCIA NUNCA ES UN FRACASO, PUES SIEM...</td>\n",
              "      <td>una experiencia nunca es un fracaso, pues siem...</td>\n",
              "      <td>una experiencia nunca es un fracaso pues siemp...</td>\n",
              "      <td>(una, experiencia, nunca, es, un, fracaso, ,, ...</td>\n",
              "    </tr>\n",
              "    <tr>\n",
              "      <th>2</th>\n",
              "      <td>https://proverbia.net/frases-de-experiencia</td>\n",
              "      <td>3</td>\n",
              "      <td>La experiencia no es lo que te sucede, sino lo...</td>\n",
              "      <td>la experiencia no es lo que te sucede, sino lo...</td>\n",
              "      <td>LA EXPERIENCIA NO ES LO QUE TE SUCEDE, SINO LO...</td>\n",
              "      <td>la experiencia no es lo que te sucede, sino lo...</td>\n",
              "      <td>la experiencia no es lo que te sucede sino lo ...</td>\n",
              "      <td>(la, experiencia, no, es, lo, que, te, sucede,...</td>\n",
              "    </tr>\n",
              "    <tr>\n",
              "      <th>3</th>\n",
              "      <td>https://proverbia.net/frases-de-experiencia</td>\n",
              "      <td>4</td>\n",
              "      <td>Pájaro viejo no entra en jaula.</td>\n",
              "      <td>pájaro viejo no entra en jaula.</td>\n",
              "      <td>PÁJARO VIEJO NO ENTRA EN JAULA.</td>\n",
              "      <td>pajaro viejo no entra en jaula.</td>\n",
              "      <td>pájaro viejo no entra en jaula</td>\n",
              "      <td>(pájaro, viejo, no, entra, en, jaula, .)</td>\n",
              "    </tr>\n",
              "    <tr>\n",
              "      <th>4</th>\n",
              "      <td>https://proverbia.net/frases-de-experiencia</td>\n",
              "      <td>5</td>\n",
              "      <td>Un experto es un hombre que ha dejado de pensa...</td>\n",
              "      <td>un experto es un hombre que ha dejado de pensa...</td>\n",
              "      <td>UN EXPERTO ES UN HOMBRE QUE HA DEJADO DE PENSA...</td>\n",
              "      <td>un experto es un hombre que ha dejado de pensa...</td>\n",
              "      <td>un experto es un hombre que ha dejado de pensa...</td>\n",
              "      <td>(un, experto, es, un, hombre, que, ha, dejado,...</td>\n",
              "    </tr>\n",
              "  </tbody>\n",
              "</table>\n",
              "</div>"
            ],
            "text/plain": [
              "                                           url  ...                                                doc\n",
              "0  https://proverbia.net/frases-de-experiencia  ...  (la, experiencia, no, tiene, valor, ético, alg...\n",
              "1  https://proverbia.net/frases-de-experiencia  ...  (una, experiencia, nunca, es, un, fracaso, ,, ...\n",
              "2  https://proverbia.net/frases-de-experiencia  ...  (la, experiencia, no, es, lo, que, te, sucede,...\n",
              "3  https://proverbia.net/frases-de-experiencia  ...           (pájaro, viejo, no, entra, en, jaula, .)\n",
              "4  https://proverbia.net/frases-de-experiencia  ...  (un, experto, es, un, hombre, que, ha, dejado,...\n",
              "\n",
              "[5 rows x 8 columns]"
            ]
          },
          "metadata": {
            "tags": []
          },
          "execution_count": 45
        }
      ]
    },
    {
      "cell_type": "markdown",
      "metadata": {
        "id": "UQRJf6q9A-8K"
      },
      "source": [
        "## Revisaremos los tokens generados para el documento 1 (0)"
      ]
    },
    {
      "cell_type": "code",
      "metadata": {
        "colab": {
          "base_uri": "https://localhost:8080/"
        },
        "id": "KqlkU6dVBCvd",
        "outputId": "5f87867e-ffd9-4d19-bcb0-bd5bccbe881f"
      },
      "source": [
        "for token in textos['doc'][0]:\n",
        "  print(token.text)"
      ],
      "execution_count": 46,
      "outputs": [
        {
          "output_type": "stream",
          "text": [
            "la\n",
            "experiencia\n",
            "no\n",
            "tiene\n",
            "valor\n",
            "ético\n",
            "alguno\n",
            ",\n",
            "es\n",
            "simplemente\n",
            "el\n",
            "nombre\n",
            "que\n",
            "damos\n",
            "a\n",
            "nuestros\n",
            "errores\n",
            ".\n"
          ],
          "name": "stdout"
        }
      ]
    },
    {
      "cell_type": "markdown",
      "metadata": {
        "id": "7LwTwwU3Lj-R"
      },
      "source": [
        "## Filtrado de signos de puntuación y espacios extra"
      ]
    },
    {
      "cell_type": "code",
      "metadata": {
        "id": "TteUNbnU_XID"
      },
      "source": [
        "# Crearemos un nuevo documento en el que filtraremos algunos tokens. \n",
        "# Para hacerlo definiremos un nuevo componente para agregar al pipeline que nos permita filtrar los tokens no deseados\n",
        "# Específicamente eliminaremos los signos de puntuación y los espacios dobles, si existen\n",
        "def filter_punct_Space(doc):\n",
        "  # Filtraremos los signos de puntuación y los espacios extra\n",
        "  doc = [token for token in doc if not token.is_punct and not token.is_space]\n",
        "  return doc\n"
      ],
      "execution_count": 47,
      "outputs": []
    },
    {
      "cell_type": "code",
      "metadata": {
        "colab": {
          "base_uri": "https://localhost:8080/",
          "height": 293
        },
        "id": "mDUIEvbGATpJ",
        "outputId": "342767fc-6145-4da0-d480-02709d8b4e2d"
      },
      "source": [
        "# Ahora aplicaremos la función creada\n",
        "textos['doc2'] = textos['doc'].apply(filter_punct_Space)\n",
        "textos.head()"
      ],
      "execution_count": 48,
      "outputs": [
        {
          "output_type": "execute_result",
          "data": {
            "text/html": [
              "<div>\n",
              "<style scoped>\n",
              "    .dataframe tbody tr th:only-of-type {\n",
              "        vertical-align: middle;\n",
              "    }\n",
              "\n",
              "    .dataframe tbody tr th {\n",
              "        vertical-align: top;\n",
              "    }\n",
              "\n",
              "    .dataframe thead th {\n",
              "        text-align: right;\n",
              "    }\n",
              "</style>\n",
              "<table border=\"1\" class=\"dataframe\">\n",
              "  <thead>\n",
              "    <tr style=\"text-align: right;\">\n",
              "      <th></th>\n",
              "      <th>url</th>\n",
              "      <th>codigo</th>\n",
              "      <th>texto</th>\n",
              "      <th>textoMinuscula</th>\n",
              "      <th>textoMauyuscula</th>\n",
              "      <th>textoSinAcentos</th>\n",
              "      <th>textoCorregido</th>\n",
              "      <th>doc</th>\n",
              "      <th>doc2</th>\n",
              "    </tr>\n",
              "  </thead>\n",
              "  <tbody>\n",
              "    <tr>\n",
              "      <th>0</th>\n",
              "      <td>https://proverbia.net/frases-de-experiencia</td>\n",
              "      <td>1</td>\n",
              "      <td>La experiencia no tiene valor ético alguno, es...</td>\n",
              "      <td>la experiencia no tiene valor ético alguno, es...</td>\n",
              "      <td>LA EXPERIENCIA NO TIENE VALOR ÉTICO ALGUNO, ES...</td>\n",
              "      <td>la experiencia no tiene valor etico alguno, es...</td>\n",
              "      <td>la experiencia no tiene valor ético algunos es...</td>\n",
              "      <td>(la, experiencia, no, tiene, valor, ético, alg...</td>\n",
              "      <td>[la, experiencia, no, tiene, valor, ético, alg...</td>\n",
              "    </tr>\n",
              "    <tr>\n",
              "      <th>1</th>\n",
              "      <td>https://proverbia.net/frases-de-experiencia</td>\n",
              "      <td>2</td>\n",
              "      <td>Una experiencia nunca es un fracaso, pues siem...</td>\n",
              "      <td>una experiencia nunca es un fracaso, pues siem...</td>\n",
              "      <td>UNA EXPERIENCIA NUNCA ES UN FRACASO, PUES SIEM...</td>\n",
              "      <td>una experiencia nunca es un fracaso, pues siem...</td>\n",
              "      <td>una experiencia nunca es un fracaso pues siemp...</td>\n",
              "      <td>(una, experiencia, nunca, es, un, fracaso, ,, ...</td>\n",
              "      <td>[una, experiencia, nunca, es, un, fracaso, pue...</td>\n",
              "    </tr>\n",
              "    <tr>\n",
              "      <th>2</th>\n",
              "      <td>https://proverbia.net/frases-de-experiencia</td>\n",
              "      <td>3</td>\n",
              "      <td>La experiencia no es lo que te sucede, sino lo...</td>\n",
              "      <td>la experiencia no es lo que te sucede, sino lo...</td>\n",
              "      <td>LA EXPERIENCIA NO ES LO QUE TE SUCEDE, SINO LO...</td>\n",
              "      <td>la experiencia no es lo que te sucede, sino lo...</td>\n",
              "      <td>la experiencia no es lo que te sucede sino lo ...</td>\n",
              "      <td>(la, experiencia, no, es, lo, que, te, sucede,...</td>\n",
              "      <td>[la, experiencia, no, es, lo, que, te, sucede,...</td>\n",
              "    </tr>\n",
              "    <tr>\n",
              "      <th>3</th>\n",
              "      <td>https://proverbia.net/frases-de-experiencia</td>\n",
              "      <td>4</td>\n",
              "      <td>Pájaro viejo no entra en jaula.</td>\n",
              "      <td>pájaro viejo no entra en jaula.</td>\n",
              "      <td>PÁJARO VIEJO NO ENTRA EN JAULA.</td>\n",
              "      <td>pajaro viejo no entra en jaula.</td>\n",
              "      <td>pájaro viejo no entra en jaula</td>\n",
              "      <td>(pájaro, viejo, no, entra, en, jaula, .)</td>\n",
              "      <td>[pájaro, viejo, no, entra, en, jaula]</td>\n",
              "    </tr>\n",
              "    <tr>\n",
              "      <th>4</th>\n",
              "      <td>https://proverbia.net/frases-de-experiencia</td>\n",
              "      <td>5</td>\n",
              "      <td>Un experto es un hombre que ha dejado de pensa...</td>\n",
              "      <td>un experto es un hombre que ha dejado de pensa...</td>\n",
              "      <td>UN EXPERTO ES UN HOMBRE QUE HA DEJADO DE PENSA...</td>\n",
              "      <td>un experto es un hombre que ha dejado de pensa...</td>\n",
              "      <td>un experto es un hombre que ha dejado de pensa...</td>\n",
              "      <td>(un, experto, es, un, hombre, que, ha, dejado,...</td>\n",
              "      <td>[un, experto, es, un, hombre, que, ha, dejado,...</td>\n",
              "    </tr>\n",
              "  </tbody>\n",
              "</table>\n",
              "</div>"
            ],
            "text/plain": [
              "                                           url  ...                                               doc2\n",
              "0  https://proverbia.net/frases-de-experiencia  ...  [la, experiencia, no, tiene, valor, ético, alg...\n",
              "1  https://proverbia.net/frases-de-experiencia  ...  [una, experiencia, nunca, es, un, fracaso, pue...\n",
              "2  https://proverbia.net/frases-de-experiencia  ...  [la, experiencia, no, es, lo, que, te, sucede,...\n",
              "3  https://proverbia.net/frases-de-experiencia  ...              [pájaro, viejo, no, entra, en, jaula]\n",
              "4  https://proverbia.net/frases-de-experiencia  ...  [un, experto, es, un, hombre, que, ha, dejado,...\n",
              "\n",
              "[5 rows x 9 columns]"
            ]
          },
          "metadata": {
            "tags": []
          },
          "execution_count": 48
        }
      ]
    },
    {
      "cell_type": "markdown",
      "metadata": {
        "id": "mhafLxSMBthg"
      },
      "source": [
        "## Revisaremos los tokens después del filtrado"
      ]
    },
    {
      "cell_type": "code",
      "metadata": {
        "colab": {
          "base_uri": "https://localhost:8080/"
        },
        "id": "L080jXIFBrqy",
        "outputId": "a5063a80-741f-42a4-cf9e-e92804a21664"
      },
      "source": [
        "print(\"Tokens originales\")\n",
        "for token in textos['doc'][0]:\n",
        "  print(token.text)\n",
        "print(\"Tokens después del filtro\")\n",
        "for token in textos['doc2'][0]:\n",
        "  print(token.text)"
      ],
      "execution_count": null,
      "outputs": [
        {
          "output_type": "stream",
          "text": [
            "Tokens originales\n",
            "la\n",
            "experiencia\n",
            "no\n",
            "tiene\n",
            "valor\n",
            "ético\n",
            "alguno\n",
            ",\n",
            "es\n",
            "simplemente\n",
            "el\n",
            "nombre\n",
            "que\n",
            "damos\n",
            "a\n",
            "nuestros\n",
            "errores\n",
            ".\n",
            "Tokens después del filtro\n",
            "la\n",
            "experiencia\n",
            "no\n",
            "tiene\n",
            "valor\n",
            "ético\n",
            "alguno\n",
            "es\n",
            "simplemente\n",
            "el\n",
            "nombre\n",
            "que\n",
            "damos\n",
            "a\n",
            "nuestros\n",
            "errores\n"
          ],
          "name": "stdout"
        }
      ]
    },
    {
      "cell_type": "markdown",
      "metadata": {
        "id": "ORx4PIUDAX10"
      },
      "source": [
        "## Ahora tú: 1\n",
        "Crea una función que elimine los números y adiciona una columna que se llame docSinNumeros"
      ]
    },
    {
      "cell_type": "code",
      "metadata": {
        "id": "lhF1Dst9AWNm"
      },
      "source": [
        "# Escribe tu código acá"
      ],
      "execution_count": null,
      "outputs": []
    },
    {
      "cell_type": "markdown",
      "metadata": {
        "id": "26Q1GTi-MJXZ"
      },
      "source": [
        "## Filtrado de tokens usando sus características morfo-léxicas\n",
        "Filtraremos para dejar únicamente los sustantivos, verbos y adjetivos. Recuerda los metadatos [acá](https://universaldependencies.org/docs/u/pos/). "
      ]
    },
    {
      "cell_type": "code",
      "metadata": {
        "id": "E5yaMr4RMfRv"
      },
      "source": [
        "# Crearemos un nuevo documento en el que filtraremos algunos tokens. \n",
        "# Para hacerlo definiremos un nuevo componente para agregar al pipeline que nos permita filtrar los tokens no deseados\n",
        "# Específicamente eliminaremos los signos de puntuación y los espacios dobles, si existen\n",
        "def filter_NVJ(doc):\n",
        "  # Filtraremos los signos de puntuación y los espacios extra\n",
        "  doc = [token for token in doc if token.pos_ in ('VERB', 'ADJ','NOUN','PROPN')]\n",
        "  return doc\n"
      ],
      "execution_count": 49,
      "outputs": []
    },
    {
      "cell_type": "code",
      "metadata": {
        "colab": {
          "base_uri": "https://localhost:8080/",
          "height": 293
        },
        "id": "O1gcQQJQNRQv",
        "outputId": "42093f6a-f81b-4ad2-b0ea-f0b5b2f09d67"
      },
      "source": [
        "# Ahora aplicaremos la función creada\n",
        "textos['doc3'] = textos['doc'].apply(filter_NVJ)\n",
        "textos.head()"
      ],
      "execution_count": 50,
      "outputs": [
        {
          "output_type": "execute_result",
          "data": {
            "text/html": [
              "<div>\n",
              "<style scoped>\n",
              "    .dataframe tbody tr th:only-of-type {\n",
              "        vertical-align: middle;\n",
              "    }\n",
              "\n",
              "    .dataframe tbody tr th {\n",
              "        vertical-align: top;\n",
              "    }\n",
              "\n",
              "    .dataframe thead th {\n",
              "        text-align: right;\n",
              "    }\n",
              "</style>\n",
              "<table border=\"1\" class=\"dataframe\">\n",
              "  <thead>\n",
              "    <tr style=\"text-align: right;\">\n",
              "      <th></th>\n",
              "      <th>url</th>\n",
              "      <th>codigo</th>\n",
              "      <th>texto</th>\n",
              "      <th>textoMinuscula</th>\n",
              "      <th>textoMauyuscula</th>\n",
              "      <th>textoSinAcentos</th>\n",
              "      <th>textoCorregido</th>\n",
              "      <th>doc</th>\n",
              "      <th>doc2</th>\n",
              "      <th>doc3</th>\n",
              "    </tr>\n",
              "  </thead>\n",
              "  <tbody>\n",
              "    <tr>\n",
              "      <th>0</th>\n",
              "      <td>https://proverbia.net/frases-de-experiencia</td>\n",
              "      <td>1</td>\n",
              "      <td>La experiencia no tiene valor ético alguno, es...</td>\n",
              "      <td>la experiencia no tiene valor ético alguno, es...</td>\n",
              "      <td>LA EXPERIENCIA NO TIENE VALOR ÉTICO ALGUNO, ES...</td>\n",
              "      <td>la experiencia no tiene valor etico alguno, es...</td>\n",
              "      <td>la experiencia no tiene valor ético algunos es...</td>\n",
              "      <td>(la, experiencia, no, tiene, valor, ético, alg...</td>\n",
              "      <td>[la, experiencia, no, tiene, valor, ético, alg...</td>\n",
              "      <td>[experiencia, tiene, valor, ético, nombre, dam...</td>\n",
              "    </tr>\n",
              "    <tr>\n",
              "      <th>1</th>\n",
              "      <td>https://proverbia.net/frases-de-experiencia</td>\n",
              "      <td>2</td>\n",
              "      <td>Una experiencia nunca es un fracaso, pues siem...</td>\n",
              "      <td>una experiencia nunca es un fracaso, pues siem...</td>\n",
              "      <td>UNA EXPERIENCIA NUNCA ES UN FRACASO, PUES SIEM...</td>\n",
              "      <td>una experiencia nunca es un fracaso, pues siem...</td>\n",
              "      <td>una experiencia nunca es un fracaso pues siemp...</td>\n",
              "      <td>(una, experiencia, nunca, es, un, fracaso, ,, ...</td>\n",
              "      <td>[una, experiencia, nunca, es, un, fracaso, pue...</td>\n",
              "      <td>[experiencia, fracaso, viene, demostrar]</td>\n",
              "    </tr>\n",
              "    <tr>\n",
              "      <th>2</th>\n",
              "      <td>https://proverbia.net/frases-de-experiencia</td>\n",
              "      <td>3</td>\n",
              "      <td>La experiencia no es lo que te sucede, sino lo...</td>\n",
              "      <td>la experiencia no es lo que te sucede, sino lo...</td>\n",
              "      <td>LA EXPERIENCIA NO ES LO QUE TE SUCEDE, SINO LO...</td>\n",
              "      <td>la experiencia no es lo que te sucede, sino lo...</td>\n",
              "      <td>la experiencia no es lo que te sucede sino lo ...</td>\n",
              "      <td>(la, experiencia, no, es, lo, que, te, sucede,...</td>\n",
              "      <td>[la, experiencia, no, es, lo, que, te, sucede,...</td>\n",
              "      <td>[experiencia, sucede, haces, sucede]</td>\n",
              "    </tr>\n",
              "    <tr>\n",
              "      <th>3</th>\n",
              "      <td>https://proverbia.net/frases-de-experiencia</td>\n",
              "      <td>4</td>\n",
              "      <td>Pájaro viejo no entra en jaula.</td>\n",
              "      <td>pájaro viejo no entra en jaula.</td>\n",
              "      <td>PÁJARO VIEJO NO ENTRA EN JAULA.</td>\n",
              "      <td>pajaro viejo no entra en jaula.</td>\n",
              "      <td>pájaro viejo no entra en jaula</td>\n",
              "      <td>(pájaro, viejo, no, entra, en, jaula, .)</td>\n",
              "      <td>[pájaro, viejo, no, entra, en, jaula]</td>\n",
              "      <td>[pájaro, viejo, entra, jaula]</td>\n",
              "    </tr>\n",
              "    <tr>\n",
              "      <th>4</th>\n",
              "      <td>https://proverbia.net/frases-de-experiencia</td>\n",
              "      <td>5</td>\n",
              "      <td>Un experto es un hombre que ha dejado de pensa...</td>\n",
              "      <td>un experto es un hombre que ha dejado de pensa...</td>\n",
              "      <td>UN EXPERTO ES UN HOMBRE QUE HA DEJADO DE PENSA...</td>\n",
              "      <td>un experto es un hombre que ha dejado de pensa...</td>\n",
              "      <td>un experto es un hombre que ha dejado de pensa...</td>\n",
              "      <td>(un, experto, es, un, hombre, que, ha, dejado,...</td>\n",
              "      <td>[un, experto, es, un, hombre, que, ha, dejado,...</td>\n",
              "      <td>[experto, hombre, dejado, pensar, sabe]</td>\n",
              "    </tr>\n",
              "  </tbody>\n",
              "</table>\n",
              "</div>"
            ],
            "text/plain": [
              "                                           url  ...                                               doc3\n",
              "0  https://proverbia.net/frases-de-experiencia  ...  [experiencia, tiene, valor, ético, nombre, dam...\n",
              "1  https://proverbia.net/frases-de-experiencia  ...           [experiencia, fracaso, viene, demostrar]\n",
              "2  https://proverbia.net/frases-de-experiencia  ...               [experiencia, sucede, haces, sucede]\n",
              "3  https://proverbia.net/frases-de-experiencia  ...                      [pájaro, viejo, entra, jaula]\n",
              "4  https://proverbia.net/frases-de-experiencia  ...            [experto, hombre, dejado, pensar, sabe]\n",
              "\n",
              "[5 rows x 10 columns]"
            ]
          },
          "metadata": {
            "tags": []
          },
          "execution_count": 50
        }
      ]
    },
    {
      "cell_type": "markdown",
      "metadata": {
        "id": "ffU365nUNhF-"
      },
      "source": [
        "## Nube de palabras filtradas\n",
        "Ahora graficaremos una nube de palabras con los tokens. Usaremos la librería wordcloud y matplotlib para hacer el gráfico.\n"
      ]
    },
    {
      "cell_type": "code",
      "metadata": {
        "colab": {
          "base_uri": "https://localhost:8080/",
          "height": 86
        },
        "id": "qyW1z_z3Nxdk",
        "outputId": "b62e48f0-87a9-4330-82e6-f6600abdd39f"
      },
      "source": [
        "palabrasNube=\"\"\n",
        "for doc in textos['doc3']:\n",
        "  for token in doc:\n",
        "    palabrasNube = palabrasNube + token.lemma_ +  \" \"\n",
        "palabrasNube\n",
        " "
      ],
      "execution_count": 52,
      "outputs": [
        {
          "output_type": "execute_result",
          "data": {
            "application/vnd.google.colaboratory.intrinsic+json": {
              "type": "string"
            },
            "text/plain": [
              "'experiencia tener valor ético nombre dar error experiencia fracaso venir demostrar experiencia suceder hacer suceder pájaro viejo entrar jaula experto hombre dejar pensar saber experiencia mundo consistir número cosa ver número cosa reflexionar fruto experiencia maravilloso permitir reconocer error vez volver cometer experiencia nombre dar equivocación cosa doloroso aprender experiencia aprender experiencia paréceme sancho refrán verdadero sentencia sacada mesma experiencia madre ciencia saber medio experiencia experiencia bastón ciego mayoría hombre experiencia luz popa barco iluminar camino quedar espalda hombre hombre gran diferencia superioridad consistir aprovechar lección experiencia espina experiencia valer bosque advertencia experiencia atribuir persona edad peor atribuir gran marinero navegar vela alquiler experiencia conseguir necesitar él experiencia tener utilidad billete lotería sorteo experimentado externo pertenecer interno intencional experiencia residir experiencia externo servir experiencia escribir experiencia experiencia billete lotería comprado sorteo creer grano buen experiencia año valer curso moral '"
            ]
          },
          "metadata": {
            "tags": []
          },
          "execution_count": 52
        }
      ]
    },
    {
      "cell_type": "code",
      "metadata": {
        "colab": {
          "base_uri": "https://localhost:8080/",
          "height": 198
        },
        "id": "9sqarQi-OC1u",
        "outputId": "5befca8a-36ae-4265-f288-666bf4e29fb1"
      },
      "source": [
        "nube = WordCloud(max_words = 50, contour_color = \"green\", background_color = \"white\")\n",
        "nube.generate(palabrasNube)\n",
        "plt.figure()\n",
        "plt.imshow(nube, interpolation = \"bilinear\")\n",
        "plt.axis(\"off\")\n",
        "figura = plt.show()"
      ],
      "execution_count": 53,
      "outputs": [
        {
          "output_type": "display_data",
          "data": {
            "image/png": "[encoded data removed]",
            "text/plain": [
              "<Figure size 432x288 with 1 Axes>"
            ]
          },
          "metadata": {
            "tags": [],
            "needs_background": "light"
          }
        }
      ]
    },
    {
      "cell_type": "code",
      "metadata": {
        "colab": {
          "base_uri": "https://localhost:8080/",
          "height": 248
        },
        "id": "GDJIiKfKUKoZ",
        "outputId": "6e770fcd-32b4-4d44-e72b-e8592057efad"
      },
      "source": [
        "# Se pueden usar diferentes formas, consulta https://amueller.github.io/word_cloud/references.html\n",
        "x, y = np.ogrid[:300, :300]\n",
        "\n",
        "mask = (x - 150) ** 2 + (y - 150) ** 2 > 130 ** 2\n",
        "mask = 255 * mask.astype(int)\n",
        "\n",
        "\n",
        "wc = WordCloud(background_color=\"white\", repeat=True, mask=mask)\n",
        "wc.generate(palabrasNube)\n",
        "\n",
        "plt.axis(\"off\")\n",
        "plt.imshow(wc, interpolation=\"bilinear\")\n",
        "plt.show()"
      ],
      "execution_count": 54,
      "outputs": [
        {
          "output_type": "display_data",
          "data": {
            "image/png": "[encoded data removed]",
            "text/plain": [
              "<Figure size 432x288 with 1 Axes>"
            ]
          },
          "metadata": {
            "tags": [],
            "needs_background": "light"
          }
        }
      ]
    },
    {
      "cell_type": "markdown",
      "metadata": {
        "id": "bBF_nEeGWJLm"
      },
      "source": [
        "## Ahora tú: 2\n",
        "Crea una nube de palabras que incluya también adjetivos y use una imagen de forma. Puedes elegir la imagen que más te guste. Tipo: https://amueller.github.io/word_cloud/references.html"
      ]
    },
    {
      "cell_type": "code",
      "metadata": {
        "id": "9CjcUXhQo7lK",
        "outputId": "cd1609f2-f56c-4c54-cf6e-2821dca1ffb2",
        "colab": {
          "base_uri": "https://localhost:8080/",
          "height": 248
        }
      },
      "source": [
        "\n",
        "# read the mask image\n",
        "# taken from\n",
        "# http://www.stencilry.org/stencils/movies/alice%20in%20wonderland/255fk.jpg\n",
        "from PIL import Image\n",
        "from os import path\n",
        "\n",
        "alice_mask = np.array(Image.open(\"/content/lobo.png\"))\n",
        "\n",
        "wc = WordCloud(background_color=\"white\", repeat=True, mask=alice_mask)\n",
        "wc.generate(palabrasNube)\n",
        "\n",
        "plt.axis(\"off\")\n",
        "plt.imshow(wc, interpolation=\"bilinear\")\n",
        "plt.show()"
      ],
      "execution_count": 66,
      "outputs": [
        {
          "output_type": "display_data",
          "data": {
            "image/png": "[encoded data removed]",
            "text/plain": [
              "<Figure size 432x288 with 1 Axes>"
            ]
          },
          "metadata": {
            "tags": [],
            "needs_background": "light"
          }
        }
      ]
    },
    {
      "cell_type": "markdown",
      "metadata": {
        "id": "vfKsenIVDXHo"
      },
      "source": [
        "# Filtrado de tokens basado en reglas\n",
        "A continuación extraeremos de los textos porciones completas (no un solo token) que cumplan con un patrón, teniendo en cuenta no sólo el texto, sino las etiquetas de los tokens. \n",
        "\n",
        "Casi toda la información de las etiquetas, incluidos el PoS la podemos usar para aplicar reglas sobre los textos y así reconocer patrones. Por ejemplo, si queremos obtener todos los verbos que vienen seguidos de un número y luego una expresión de dosificación como mililitros o miligramos podemos crear un patrón y agregarlos a la clase Matcher. Puedes practicar construyendo reglas acá: https://explosion.ai/demos/matcher\n",
        "El matcher se puede ver como un componente para expresar expresiones regulares usando las etiquetas generadas por Spacy.\n",
        "\n",
        "Para ver la documentación del Matcher, puede remitirse a https://spacy.io/api/matcher"
      ]
    },
    {
      "cell_type": "markdown",
      "metadata": {
        "id": "PASjDzksMVpp"
      },
      "source": [
        "## Revisión de etiquetas"
      ]
    },
    {
      "cell_type": "code",
      "metadata": {
        "colab": {
          "base_uri": "https://localhost:8080/"
        },
        "id": "MhNY4YmcEZWM",
        "outputId": "63c660e4-f34d-4cc3-e32e-fb1c172d0350"
      },
      "source": [
        "# Antes de generar los patrones imprimiremos un subconjunto de las etiquetas de un documento\n",
        "# Encabezados\n",
        "print('{:15} | {:5} | {:3} | {:11} | {:60} | {:8} | {:15} | '.format(\n",
        "    'TOKEN','TAG','POS', 'DEP','MORPHO','IS_ALPHA','HEAD'))\n",
        "\n",
        "# Etiquetas generadas por el pipeline por defecto (algunas de ellas)\n",
        "for token in textos['doc'][17]:\n",
        "    print('{:15} | {:5} | {:3} | {:11} | {:60} | {:8} | {:15} |'.format(\n",
        "          token.text, token.tag_, token.idx, token.dep_,\n",
        "          str(token.morph), token.is_alpha, token.head.text))\n",
        "    "
      ],
      "execution_count": null,
      "outputs": [
        {
          "output_type": "stream",
          "text": [
            "TOKEN           | TAG   | POS | DEP         | MORPHO                                                       | IS_ALPHA | HEAD            | \n",
            "nunca           | ADV   |   0 | advmod      |                                                              |        1 | servido         |\n",
            "le              | PRON  |   6 | obj         | Case=Dat|Number=Sing|Person=3|PronType=Prs                   |        1 | servido         |\n",
            "ha              | AUX   |   9 | aux         | Mood=Ind|Number=Sing|Person=3|Tense=Pres|VerbForm=Fin        |        1 | servido         |\n",
            "servido         | VERB  |  12 | ROOT        | Gender=Masc|Number=Sing|Tense=Past|VerbForm=Part             |        1 | servido         |\n",
            "a               | ADP   |  20 | case        | AdpType=Prep                                                 |        1 | nadie           |\n",
            "nadie           | PRON  |  22 | obj         | Number=Sing|PronType=Neg                                     |        1 | servido         |\n",
            "la              | DET   |  28 | det         | Definite=Def|Gender=Fem|Number=Sing|PronType=Art             |        1 | experiencia     |\n",
            "experiencia     | NOUN  |  31 | obj         | Gender=Fem|Number=Sing                                       |        1 | servido         |\n",
            "de              | ADP   |  43 | case        | AdpType=Prep                                                 |        1 | otros           |\n",
            "otros           | PRON  |  46 | nmod        | Gender=Masc|Number=Plur|PronType=Ind                         |        1 | experiencia     |\n",
            ".               | PUNCT |  51 | punct       | PunctType=Peri                                               |        0 | servido         |\n"
          ],
          "name": "stdout"
        }
      ]
    },
    {
      "cell_type": "markdown",
      "metadata": {
        "id": "ejy9vIr9Mbjj"
      },
      "source": [
        "## Generación de los patrones"
      ]
    },
    {
      "cell_type": "code",
      "metadata": {
        "id": "Gi8sycMyEbSy"
      },
      "source": [
        "from spacy.matcher import Matcher\n",
        "matcher = Matcher(nlpSpa.vocab)\n",
        "patron = [{'POS': {\"IN\": [\"NOUN\", \"PROPN\"]}, 'OP': '+'}, # uno o más Sustantivo o nombre propio\n",
        "          {'IS_ALPHA': True, 'OP': '*'}, # cero o más palabras\n",
        "          {'POS': {\"IN\": [\"AUX\", \"VERB\"]}, 'OP': '+'}, # uno o más verbos\n",
        "          {'IS_ALPHA': True, 'OP': '*'}, # cero o más palabras\n",
        "          {'POS': {\"IN\": [\"ADJ\", \"ADV\",\"NOUN\", \"PROPN\", \"VERB\"]}, 'OP': '+'}]# uno o más Adjetivo, Adverbio o Sustantivo o nombre propio\n",
        "\n",
        "matcher.add(\"Expresivo\", [patron], greedy = 'LONGEST')\n"
      ],
      "execution_count": null,
      "outputs": []
    },
    {
      "cell_type": "code",
      "metadata": {
        "id": "AApGl0Ygbl8c"
      },
      "source": [
        "patron2 = [{ 'POS': {\"IN\": [\"VERB\", \"AUX\"]}, 'OP': '+', \"IS_SENT_START\": True}] # uno o más Verbo o Auxiliar\n",
        "matcher.add(\"SV\", [patron2], greedy = 'LONGEST')"
      ],
      "execution_count": null,
      "outputs": []
    },
    {
      "cell_type": "code",
      "metadata": {
        "colab": {
          "base_uri": "https://localhost:8080/"
        },
        "id": "0Ylo09rnYNXN",
        "outputId": "9bdff0a4-0777-4028-af06-dd01f92467e4"
      },
      "source": [
        "print(spacy.explain('PROPN'))"
      ],
      "execution_count": null,
      "outputs": [
        {
          "output_type": "stream",
          "text": [
            "proper noun\n"
          ],
          "name": "stdout"
        }
      ]
    },
    {
      "cell_type": "markdown",
      "metadata": {
        "id": "0IXWZiwYMfA4"
      },
      "source": [
        "## Búsqueda del patrón en el texto"
      ]
    },
    {
      "cell_type": "code",
      "metadata": {
        "id": "b9y4W6wXZNxb"
      },
      "source": [
        "def matcherSelector(doc):\n",
        "  # Aplicaremos el matcher sobre los documentos para ver en cuáles encuentra coincidencia\n",
        "  matches = matcher(doc)\n",
        "  # Ahora revisaremos si encontró el patrón en el texto.\n",
        "  results = []\n",
        "  for match_id, start, end in matches:\n",
        "    string_id = nlpSpa.vocab.strings[match_id]  # Toma la representación del String\n",
        "    span = doc[start:end]  # El span del documento que cumple con la regla, star y end es el token inicial y final del span\n",
        "    #print(match_id, string_id, start, end, span.text)\n",
        "    results.append([token for token in span])\n",
        "  #print(doc)\n",
        "  #print(results)\n",
        "  return results"
      ],
      "execution_count": null,
      "outputs": []
    },
    {
      "cell_type": "code",
      "metadata": {
        "id": "yWquOuAfWi_k"
      },
      "source": [
        "textos['matchDoc'] = textos['doc'].apply(matcherSelector)"
      ],
      "execution_count": null,
      "outputs": []
    },
    {
      "cell_type": "code",
      "metadata": {
        "colab": {
          "base_uri": "https://localhost:8080/",
          "height": 1000
        },
        "id": "PImbzEstEbP6",
        "outputId": "7e795402-cb70-48d7-d8b5-c60efbf18684"
      },
      "source": [
        "textos"
      ],
      "execution_count": null,
      "outputs": [
        {
          "output_type": "execute_result",
          "data": {
            "text/html": [
              "<div>\n",
              "<style scoped>\n",
              "    .dataframe tbody tr th:only-of-type {\n",
              "        vertical-align: middle;\n",
              "    }\n",
              "\n",
              "    .dataframe tbody tr th {\n",
              "        vertical-align: top;\n",
              "    }\n",
              "\n",
              "    .dataframe thead th {\n",
              "        text-align: right;\n",
              "    }\n",
              "</style>\n",
              "<table border=\"1\" class=\"dataframe\">\n",
              "  <thead>\n",
              "    <tr style=\"text-align: right;\">\n",
              "      <th></th>\n",
              "      <th>url</th>\n",
              "      <th>codigo</th>\n",
              "      <th>texto</th>\n",
              "      <th>textoMinuscula</th>\n",
              "      <th>textoSinAcentos</th>\n",
              "      <th>textoCorregido</th>\n",
              "      <th>doc</th>\n",
              "      <th>doc2</th>\n",
              "      <th>doc3</th>\n",
              "      <th>matchDoc</th>\n",
              "    </tr>\n",
              "  </thead>\n",
              "  <tbody>\n",
              "    <tr>\n",
              "      <th>0</th>\n",
              "      <td>https://proverbia.net/frases-de-experiencia</td>\n",
              "      <td>1</td>\n",
              "      <td>La experiencia no tiene valor ético alguno, es...</td>\n",
              "      <td>la experiencia no tiene valor ético alguno, es...</td>\n",
              "      <td>la experiencia no tiene valor etico alguno, es...</td>\n",
              "      <td>la experiencia no tiene valor ético algunos es...</td>\n",
              "      <td>(la, experiencia, no, tiene, valor, ético, alg...</td>\n",
              "      <td>[la, experiencia, no, tiene, valor, ético, alg...</td>\n",
              "      <td>[experiencia, tiene, valor, ético, nombre, dam...</td>\n",
              "      <td>[[nombre, que, damos, a, nuestros, errores], [...</td>\n",
              "    </tr>\n",
              "    <tr>\n",
              "      <th>1</th>\n",
              "      <td>https://proverbia.net/frases-de-experiencia</td>\n",
              "      <td>2</td>\n",
              "      <td>Una experiencia nunca es un fracaso, pues siem...</td>\n",
              "      <td>una experiencia nunca es un fracaso, pues siem...</td>\n",
              "      <td>una experiencia nunca es un fracaso, pues siem...</td>\n",
              "      <td>una experiencia nunca es un fracaso pues siemp...</td>\n",
              "      <td>(una, experiencia, nunca, es, un, fracaso, ,, ...</td>\n",
              "      <td>[una, experiencia, nunca, es, un, fracaso, pue...</td>\n",
              "      <td>[experiencia, fracaso, viene, demostrar]</td>\n",
              "      <td>[[experiencia, nunca, es, un, fracaso]]</td>\n",
              "    </tr>\n",
              "    <tr>\n",
              "      <th>2</th>\n",
              "      <td>https://proverbia.net/frases-de-experiencia</td>\n",
              "      <td>3</td>\n",
              "      <td>La experiencia no es lo que te sucede, sino lo...</td>\n",
              "      <td>la experiencia no es lo que te sucede, sino lo...</td>\n",
              "      <td>la experiencia no es lo que te sucede, sino lo...</td>\n",
              "      <td>la experiencia no es lo que te sucede sino lo ...</td>\n",
              "      <td>(la, experiencia, no, es, lo, que, te, sucede,...</td>\n",
              "      <td>[la, experiencia, no, es, lo, que, te, sucede,...</td>\n",
              "      <td>[experiencia, sucede, haces, sucede]</td>\n",
              "      <td>[[experiencia, no, es, lo, que, te, sucede]]</td>\n",
              "    </tr>\n",
              "    <tr>\n",
              "      <th>3</th>\n",
              "      <td>https://proverbia.net/frases-de-experiencia</td>\n",
              "      <td>4</td>\n",
              "      <td>Pájaro viejo no entra en jaula.</td>\n",
              "      <td>pájaro viejo no entra en jaula.</td>\n",
              "      <td>pajaro viejo no entra en jaula.</td>\n",
              "      <td>pájaro viejo no entra en jaula</td>\n",
              "      <td>(pájaro, viejo, no, entra, en, jaula, .)</td>\n",
              "      <td>[pájaro, viejo, no, entra, en, jaula]</td>\n",
              "      <td>[pájaro, viejo, entra, jaula]</td>\n",
              "      <td>[[pájaro, viejo, no, entra, en, jaula]]</td>\n",
              "    </tr>\n",
              "    <tr>\n",
              "      <th>4</th>\n",
              "      <td>https://proverbia.net/frases-de-experiencia</td>\n",
              "      <td>5</td>\n",
              "      <td>Un experto es un hombre que ha dejado de pensa...</td>\n",
              "      <td>un experto es un hombre que ha dejado de pensa...</td>\n",
              "      <td>un experto es un hombre que ha dejado de pensa...</td>\n",
              "      <td>un experto es un hombre que ha dejado de pensa...</td>\n",
              "      <td>(un, experto, es, un, hombre, que, ha, dejado,...</td>\n",
              "      <td>[un, experto, es, un, hombre, que, ha, dejado,...</td>\n",
              "      <td>[experto, hombre, dejado, pensar, sabe]</td>\n",
              "      <td>[[experto, es, un, hombre, que, ha, dejado, de...</td>\n",
              "    </tr>\n",
              "    <tr>\n",
              "      <th>5</th>\n",
              "      <td>https://proverbia.net/frases-de-experiencia</td>\n",
              "      <td>6</td>\n",
              "      <td>La experiencia del mundo no consiste en el núm...</td>\n",
              "      <td>la experiencia del mundo no consiste en el núm...</td>\n",
              "      <td>la experiencia del mundo no consiste en el num...</td>\n",
              "      <td>la experiencia del mundo no consiste en el núm...</td>\n",
              "      <td>(la, experiencia, del, mundo, no, consiste, en...</td>\n",
              "      <td>[la, experiencia, del, mundo, no, consiste, en...</td>\n",
              "      <td>[experiencia, mundo, consiste, número, cosas, ...</td>\n",
              "      <td>[[experiencia, del, mundo, no, consiste, en, e...</td>\n",
              "    </tr>\n",
              "    <tr>\n",
              "      <th>6</th>\n",
              "      <td>https://proverbia.net/frases-de-experiencia</td>\n",
              "      <td>7</td>\n",
              "      <td>Experiencia es el nombre que damos a nuestras ...</td>\n",
              "      <td>experiencia es el nombre que damos a nuestras ...</td>\n",
              "      <td>experiencia es el nombre que damos a nuestras ...</td>\n",
              "      <td>experiencia es el nombre que damos a nuestras ...</td>\n",
              "      <td>(experiencia, es, el, nombre, que, damos, a, n...</td>\n",
              "      <td>[experiencia, es, el, nombre, que, damos, a, n...</td>\n",
              "      <td>[experiencia, nombre, damos, equivocaciones]</td>\n",
              "      <td>[[experiencia, es, el, nombre, que, damos, a, ...</td>\n",
              "    </tr>\n",
              "    <tr>\n",
              "      <th>7</th>\n",
              "      <td>https://proverbia.net/frases-de-experiencia</td>\n",
              "      <td>8</td>\n",
              "      <td>La experiencia es algo maravilloso, nos permit...</td>\n",
              "      <td>la experiencia es algo maravilloso, nos permit...</td>\n",
              "      <td>la experiencia es algo maravilloso, nos permit...</td>\n",
              "      <td>la experiencia es algo maravilloso nos permite...</td>\n",
              "      <td>(la, experiencia, es, algo, maravilloso, ,, no...</td>\n",
              "      <td>[la, experiencia, es, algo, maravilloso, nos, ...</td>\n",
              "      <td>[experiencia, maravilloso, permite, reconocer,...</td>\n",
              "      <td>[[error, cada, vez, que, lo, volvemos, a, come...</td>\n",
              "    </tr>\n",
              "    <tr>\n",
              "      <th>8</th>\n",
              "      <td>https://proverbia.net/frases-de-experiencia</td>\n",
              "      <td>9</td>\n",
              "      <td>Sólo una cosa es más dolorosa que aprender de ...</td>\n",
              "      <td>sólo una cosa es más dolorosa que aprender de ...</td>\n",
              "      <td>solo una cosa es mas dolorosa que aprender de ...</td>\n",
              "      <td>sólo una cosa es más dolorosa que aprender de ...</td>\n",
              "      <td>(sólo, una, cosa, es, más, dolorosa, que, apre...</td>\n",
              "      <td>[sólo, una, cosa, es, más, dolorosa, que, apre...</td>\n",
              "      <td>[cosa, dolorosa, aprender, experiencia, aprend...</td>\n",
              "      <td>[[cosa, es, más, dolorosa, que, aprender, de, ...</td>\n",
              "    </tr>\n",
              "    <tr>\n",
              "      <th>9</th>\n",
              "      <td>https://proverbia.net/frases-de-experiencia</td>\n",
              "      <td>10</td>\n",
              "      <td>Paréceme, Sancho, que no hay refrán que no sea...</td>\n",
              "      <td>paréceme, sancho, que no hay refrán que no sea...</td>\n",
              "      <td>pareceme, sancho, que no hay refran que no sea...</td>\n",
              "      <td>paréceme, sancho que no hay refrán que no sea ...</td>\n",
              "      <td>(paréceme, ,, sancho, ,, que, no, hay, refrán,...</td>\n",
              "      <td>[paréceme, sancho, que, no, hay, refrán, que, ...</td>\n",
              "      <td>[paréceme, sancho, refrán, verdadero, sentenci...</td>\n",
              "      <td>[[refrán, que, no, sea, verdadero]]</td>\n",
              "    </tr>\n",
              "    <tr>\n",
              "      <th>10</th>\n",
              "      <td>https://proverbia.net/frases-de-experiencia</td>\n",
              "      <td>11</td>\n",
              "      <td>Una espina de experiencia vale más que un bosq...</td>\n",
              "      <td>una espina de experiencia vale más que un bosq...</td>\n",
              "      <td>una espina de experiencia vale mas que un bosq...</td>\n",
              "      <td>una espina de experiencia vale más que un bosq...</td>\n",
              "      <td>(una, espina, de, experiencia, vale, más, que,...</td>\n",
              "      <td>[una, espina, de, experiencia, vale, más, que,...</td>\n",
              "      <td>[espina, experiencia, vale, bosque, advertencias]</td>\n",
              "      <td>[[espina, de, experiencia, vale, más, que, un,...</td>\n",
              "    </tr>\n",
              "    <tr>\n",
              "      <th>11</th>\n",
              "      <td>https://proverbia.net/frases-de-experiencia</td>\n",
              "      <td>12</td>\n",
              "      <td>Entre hombre y hombre no hay gran diferencia. ...</td>\n",
              "      <td>entre hombre y hombre no hay gran diferencia. ...</td>\n",
              "      <td>entre hombre y hombre no hay gran diferencia. ...</td>\n",
              "      <td>entre hombre y hombre no hay gran diferencia l...</td>\n",
              "      <td>(entre, hombre, y, hombre, no, hay, gran, dife...</td>\n",
              "      <td>[entre, hombre, y, hombre, no, hay, gran, dife...</td>\n",
              "      <td>[hombre, hombre, gran, diferencia, superiorida...</td>\n",
              "      <td>[[superioridad, consiste, en, aprovechar, las,...</td>\n",
              "    </tr>\n",
              "    <tr>\n",
              "      <th>12</th>\n",
              "      <td>https://proverbia.net/frases-de-experiencia</td>\n",
              "      <td>13</td>\n",
              "      <td>Para la mayoría de los hombres, la experiencia...</td>\n",
              "      <td>para la mayoría de los hombres, la experiencia...</td>\n",
              "      <td>para la mayoria de los hombres, la experiencia...</td>\n",
              "      <td>para la mayoría de los hombres la experiencia ...</td>\n",
              "      <td>(para, la, mayoría, de, los, hombres, ,, la, e...</td>\n",
              "      <td>[para, la, mayoría, de, los, hombres, la, expe...</td>\n",
              "      <td>[mayoría, hombres, experiencia, luces, popa, b...</td>\n",
              "      <td>[[experiencia, es, como, las, luces, de, popa,...</td>\n",
              "    </tr>\n",
              "    <tr>\n",
              "      <th>13</th>\n",
              "      <td>https://proverbia.net/frases-de-experiencia</td>\n",
              "      <td>14</td>\n",
              "      <td>Nada se sabe bien sino por medio de la experie...</td>\n",
              "      <td>nada se sabe bien sino por medio de la experie...</td>\n",
              "      <td>nada se sabe bien sino por medio de la experie...</td>\n",
              "      <td>nada se sabe bien sino por medio de la experie...</td>\n",
              "      <td>(nada, se, sabe, bien, sino, por, medio, de, l...</td>\n",
              "      <td>[nada, se, sabe, bien, sino, por, medio, de, l...</td>\n",
              "      <td>[sabe, medio, experiencia]</td>\n",
              "      <td>[]</td>\n",
              "    </tr>\n",
              "    <tr>\n",
              "      <th>14</th>\n",
              "      <td>https://proverbia.net/frases-de-experiencia</td>\n",
              "      <td>15</td>\n",
              "      <td>La experiencia es el bastón de los ciegos.</td>\n",
              "      <td>la experiencia es el bastón de los ciegos.</td>\n",
              "      <td>la experiencia es el baston de los ciegos.</td>\n",
              "      <td>la experiencia es el bastón de los ciegos</td>\n",
              "      <td>(la, experiencia, es, el, bastón, de, los, cie...</td>\n",
              "      <td>[la, experiencia, es, el, bastón, de, los, cie...</td>\n",
              "      <td>[experiencia, bastón, ciegos]</td>\n",
              "      <td>[[experiencia, es, el, bastón, de, los, ciegos]]</td>\n",
              "    </tr>\n",
              "    <tr>\n",
              "      <th>15</th>\n",
              "      <td>https://proverbia.net/frases-de-experiencia</td>\n",
              "      <td>16</td>\n",
              "      <td>Generalmente la experiencia se atribuye a las ...</td>\n",
              "      <td>generalmente la experiencia se atribuye a las ...</td>\n",
              "      <td>generalmente la experiencia se atribuye a las ...</td>\n",
              "      <td>generalmente la experiencia se atribuye a las ...</td>\n",
              "      <td>(generalmente, la, experiencia, se, atribuye, ...</td>\n",
              "      <td>[generalmente, la, experiencia, se, atribuye, ...</td>\n",
              "      <td>[experiencia, atribuye, personas, edad, peor, ...</td>\n",
              "      <td>[[experiencia, se, atribuye, a, las, personas,...</td>\n",
              "    </tr>\n",
              "    <tr>\n",
              "      <th>16</th>\n",
              "      <td>https://proverbia.net/frases-de-experiencia</td>\n",
              "      <td>17</td>\n",
              "      <td>El juicio, la valoración, la pretensión, no so...</td>\n",
              "      <td>el juicio, la valoración, la pretensión, no so...</td>\n",
              "      <td>el juicio, la valoracion, la pretension, no so...</td>\n",
              "      <td>el juicio la valoración la pretensión no son e...</td>\n",
              "      <td>(el, juicio, ,, la, valoración, ,, la, pretens...</td>\n",
              "      <td>[el, juicio, la, valoración, la, pretensión, n...</td>\n",
              "      <td>[juicio, valoración, pretensión, experiencias,...</td>\n",
              "      <td>[]</td>\n",
              "    </tr>\n",
              "    <tr>\n",
              "      <th>17</th>\n",
              "      <td>https://proverbia.net/frases-de-experiencia</td>\n",
              "      <td>18</td>\n",
              "      <td>Nunca le ha servido a nadie la experiencia de ...</td>\n",
              "      <td>nunca le ha servido a nadie la experiencia de ...</td>\n",
              "      <td>nunca le ha servido a nadie la experiencia de ...</td>\n",
              "      <td>nunca le ha servido a nadie la experiencia de ...</td>\n",
              "      <td>(nunca, le, ha, servido, a, nadie, la, experie...</td>\n",
              "      <td>[nunca, le, ha, servido, a, nadie, la, experie...</td>\n",
              "      <td>[servido, experiencia]</td>\n",
              "      <td>[]</td>\n",
              "    </tr>\n",
              "    <tr>\n",
              "      <th>18</th>\n",
              "      <td>https://proverbia.net/frases-de-experiencia</td>\n",
              "      <td>19</td>\n",
              "      <td>La experiencia tiene la misma utilidad que un ...</td>\n",
              "      <td>la experiencia tiene la misma utilidad que un ...</td>\n",
              "      <td>la experiencia tiene la misma utilidad que un ...</td>\n",
              "      <td>la experiencia tiene la misma utilidad que un ...</td>\n",
              "      <td>(la, experiencia, tiene, la, misma, utilidad, ...</td>\n",
              "      <td>[la, experiencia, tiene, la, misma, utilidad, ...</td>\n",
              "      <td>[experiencia, tiene, utilidad, billete, loterí...</td>\n",
              "      <td>[[experiencia, tiene, la, misma, utilidad, que...</td>\n",
              "    </tr>\n",
              "    <tr>\n",
              "      <th>19</th>\n",
              "      <td>https://proverbia.net/frases-de-experiencia</td>\n",
              "      <td>20</td>\n",
              "      <td>Un grano de buena experiencia a los 9 años, va...</td>\n",
              "      <td>un grano de buena experiencia a los 9 años, va...</td>\n",
              "      <td>un grano de buena experiencia a los 9 anos, va...</td>\n",
              "      <td>un grano de buena experiencia a los 9 años val...</td>\n",
              "      <td>(un, grano, de, buena, experiencia, a, los, 9,...</td>\n",
              "      <td>[un, grano, de, buena, experiencia, a, los, 9,...</td>\n",
              "      <td>[grano, buena, experiencia, años, vale, curso,...</td>\n",
              "      <td>[]</td>\n",
              "    </tr>\n",
              "    <tr>\n",
              "      <th>20</th>\n",
              "      <td>https://proverbia.net/frases-de-experiencia</td>\n",
              "      <td>21</td>\n",
              "      <td>Aprendemos de la experiencia que los hombres n...</td>\n",
              "      <td>aprendemos de la experiencia que los hombres n...</td>\n",
              "      <td>aprendemos de la experiencia que los hombres n...</td>\n",
              "      <td>aprendemos de la experiencia que los hombres n...</td>\n",
              "      <td>(aprendemos, de, la, experiencia, que, los, ho...</td>\n",
              "      <td>[aprendemos, de, la, experiencia, que, los, ho...</td>\n",
              "      <td>[aprendemos, experiencia, hombres, aprenden, e...</td>\n",
              "      <td>[[aprendemos], [experiencia, que, los, hombres...</td>\n",
              "    </tr>\n",
              "    <tr>\n",
              "      <th>21</th>\n",
              "      <td>https://proverbia.net/frases-de-experiencia</td>\n",
              "      <td>22</td>\n",
              "      <td>Lo experimentado como externo no pertenece a l...</td>\n",
              "      <td>lo experimentado como externo no pertenece a l...</td>\n",
              "      <td>lo experimentado como externo no pertenece a l...</td>\n",
              "      <td>lo experimentado como externo no pertenece a l...</td>\n",
              "      <td>(lo, experimentado, como, externo, no, pertene...</td>\n",
              "      <td>[lo, experimentado, como, externo, no, pertene...</td>\n",
              "      <td>[experimentado, externo, pertenece, interno, i...</td>\n",
              "      <td>[[experiencia, de, ello, resida, allí]]</td>\n",
              "    </tr>\n",
              "    <tr>\n",
              "      <th>22</th>\n",
              "      <td>https://proverbia.net/frases-de-experiencia</td>\n",
              "      <td>23</td>\n",
              "      <td>La experiencia no consiste en lo que se ha viv...</td>\n",
              "      <td>la experiencia no consiste en lo que se ha viv...</td>\n",
              "      <td>la experiencia no consiste en lo que se ha viv...</td>\n",
              "      <td>la experiencia no consiste en lo que se ha viv...</td>\n",
              "      <td>(la, experiencia, no, consiste, en, lo, que, s...</td>\n",
              "      <td>[la, experiencia, no, consiste, en, lo, que, s...</td>\n",
              "      <td>[experiencia, consiste, vivido, reflexionado]</td>\n",
              "      <td>[[experiencia, no, consiste, en, lo, que, se, ...</td>\n",
              "    </tr>\n",
              "    <tr>\n",
              "      <th>23</th>\n",
              "      <td>https://proverbia.net/frases-de-experiencia</td>\n",
              "      <td>24</td>\n",
              "      <td>La experiencia es como un billete de lotería c...</td>\n",
              "      <td>la experiencia es como un billete de lotería c...</td>\n",
              "      <td>la experiencia es como un billete de loteria c...</td>\n",
              "      <td>la experiencia es como un billete de lotería c...</td>\n",
              "      <td>(la, experiencia, es, como, un, billete, de, l...</td>\n",
              "      <td>[la, experiencia, es, como, un, billete, de, l...</td>\n",
              "      <td>[experiencia, billete, lotería, comprado, sort...</td>\n",
              "      <td>[[experiencia, es, como, un, billete, de, lote...</td>\n",
              "    </tr>\n",
              "  </tbody>\n",
              "</table>\n",
              "</div>"
            ],
            "text/plain": [
              "                                            url  ...                                           matchDoc\n",
              "0   https://proverbia.net/frases-de-experiencia  ...  [[nombre, que, damos, a, nuestros, errores], [...\n",
              "1   https://proverbia.net/frases-de-experiencia  ...            [[experiencia, nunca, es, un, fracaso]]\n",
              "2   https://proverbia.net/frases-de-experiencia  ...       [[experiencia, no, es, lo, que, te, sucede]]\n",
              "3   https://proverbia.net/frases-de-experiencia  ...            [[pájaro, viejo, no, entra, en, jaula]]\n",
              "4   https://proverbia.net/frases-de-experiencia  ...  [[experto, es, un, hombre, que, ha, dejado, de...\n",
              "5   https://proverbia.net/frases-de-experiencia  ...  [[experiencia, del, mundo, no, consiste, en, e...\n",
              "6   https://proverbia.net/frases-de-experiencia  ...  [[experiencia, es, el, nombre, que, damos, a, ...\n",
              "7   https://proverbia.net/frases-de-experiencia  ...  [[error, cada, vez, que, lo, volvemos, a, come...\n",
              "8   https://proverbia.net/frases-de-experiencia  ...  [[cosa, es, más, dolorosa, que, aprender, de, ...\n",
              "9   https://proverbia.net/frases-de-experiencia  ...                [[refrán, que, no, sea, verdadero]]\n",
              "10  https://proverbia.net/frases-de-experiencia  ...  [[espina, de, experiencia, vale, más, que, un,...\n",
              "11  https://proverbia.net/frases-de-experiencia  ...  [[superioridad, consiste, en, aprovechar, las,...\n",
              "12  https://proverbia.net/frases-de-experiencia  ...  [[experiencia, es, como, las, luces, de, popa,...\n",
              "13  https://proverbia.net/frases-de-experiencia  ...                                                 []\n",
              "14  https://proverbia.net/frases-de-experiencia  ...   [[experiencia, es, el, bastón, de, los, ciegos]]\n",
              "15  https://proverbia.net/frases-de-experiencia  ...  [[experiencia, se, atribuye, a, las, personas,...\n",
              "16  https://proverbia.net/frases-de-experiencia  ...                                                 []\n",
              "17  https://proverbia.net/frases-de-experiencia  ...                                                 []\n",
              "18  https://proverbia.net/frases-de-experiencia  ...  [[experiencia, tiene, la, misma, utilidad, que...\n",
              "19  https://proverbia.net/frases-de-experiencia  ...                                                 []\n",
              "20  https://proverbia.net/frases-de-experiencia  ...  [[aprendemos], [experiencia, que, los, hombres...\n",
              "21  https://proverbia.net/frases-de-experiencia  ...            [[experiencia, de, ello, resida, allí]]\n",
              "22  https://proverbia.net/frases-de-experiencia  ...  [[experiencia, no, consiste, en, lo, que, se, ...\n",
              "23  https://proverbia.net/frases-de-experiencia  ...  [[experiencia, es, como, un, billete, de, lote...\n",
              "\n",
              "[24 rows x 10 columns]"
            ]
          },
          "metadata": {
            "tags": []
          },
          "execution_count": 172
        }
      ]
    },
    {
      "cell_type": "markdown",
      "metadata": {
        "id": "zgWI0idcatRb"
      },
      "source": [
        "## Ahora tú: 3\n",
        "Escribe un patrón que permita reconocer las frases que inician con un Adverbio y contienen almenos una palabra de género femenino."
      ]
    },
    {
      "cell_type": "code",
      "metadata": {
        "id": "8-fne7J9EbIN"
      },
      "source": [
        "# Ecribe el código aquí"
      ],
      "execution_count": null,
      "outputs": []
    },
    {
      "cell_type": "markdown",
      "metadata": {
        "id": "5kxeDBJcbQ-S"
      },
      "source": [
        "# Reconocimiento de entidades\n",
        "Ahora revisaremos las entidades nombradas reconocidas en un pipeline. "
      ]
    },
    {
      "cell_type": "markdown",
      "metadata": {
        "id": "TgUTZRL4eU8j"
      },
      "source": [
        "## Cargaremos un archivo de noticias para reconocer entidades nombradas\n",
        "Usaremos una fuente que por su naturaleza tiene varias entidades nombradas, un periódico."
      ]
    },
    {
      "cell_type": "code",
      "metadata": {
        "colab": {
          "base_uri": "https://localhost:8080/"
        },
        "id": "h3nBZ3XQcoU9",
        "outputId": "f5c606bc-0e2d-477c-8882-fd916875a015"
      },
      "source": [
        "\n",
        "# A continuación seleccionamos una URL\n",
        "base_url = \"https://www.elespectador.com/mundo/america/quien-detiene-a-daniel-ortega/\"\n",
        "try:\n",
        "    page = requests.get(base_url)\n",
        "except requests.exceptions.ConnectionError as r:\n",
        "  r.status_code = \"Conexion rechazada\"\n",
        "  print(\"Conexion rechazada\")\n",
        "  print(\"Esperar 5 segundos\")\n",
        "  time.sleep(5)\n",
        "except URLError as r:\n",
        "  r.status_code = \"URL error\"\n",
        "  print(\"URL error\")\n",
        "except LocationParseError as r:\n",
        "  r.status_code = \"LocationParseError\"\n",
        "  print(\"LocationParseError\")\n",
        "except:\n",
        "    print (\"Unexpected error:\", sys.exc_info()[0])\n",
        "\n",
        "# Si la respuesta no es 200 o dentro de 200 significa que no se pudo cargar correctamente\n",
        "page"
      ],
      "execution_count": null,
      "outputs": [
        {
          "output_type": "execute_result",
          "data": {
            "text/plain": [
              "<Response [200]>"
            ]
          },
          "metadata": {
            "tags": []
          },
          "execution_count": 174
        }
      ]
    },
    {
      "cell_type": "code",
      "metadata": {
        "id": "Jp2VaocJcyfp"
      },
      "source": [
        "# A continuación se examinará la página con BeautifulSoup\n",
        "soup = BeautifulSoup(page.content, 'html.parser')\n",
        "#print(soup.prettify())"
      ],
      "execution_count": null,
      "outputs": []
    },
    {
      "cell_type": "code",
      "metadata": {
        "id": "80gak7e9dHAO"
      },
      "source": [
        "# Leeremos todos los textos que estén dentro de la etiqueta <p> de párrafo en html\n",
        "parrafos = soup.find_all('p')"
      ],
      "execution_count": null,
      "outputs": []
    },
    {
      "cell_type": "code",
      "metadata": {
        "id": "05cK9JcRc8Q0"
      },
      "source": [
        "# Creamos un dataframe para almacenar las noticias\n",
        "column_names = [\"url\", \"codigo\", \"texto\"]\n",
        "noticias = pd.DataFrame(columns = column_names)\n",
        "i = 0\n",
        "# Por cada párrafo encontrado obtendremos los textos eliminando las etiquetas \n",
        "for texto in parrafos:\n",
        "    # Acá obtenemos el texto\n",
        "    t = texto.get_text()\n",
        "    # Sólo consideraremos los textos que no están vacíos\n",
        "    if(len(t) > 0):\n",
        "      i = i+1\n",
        "      # Adicionamos al data frrame\n",
        "      new_row = {'url':base_url, 'codigo':i, 'texto':t}\n",
        "      noticias = noticias.append(new_row, ignore_index = True)"
      ],
      "execution_count": null,
      "outputs": []
    },
    {
      "cell_type": "code",
      "metadata": {
        "colab": {
          "base_uri": "https://localhost:8080/"
        },
        "id": "6whc1aYpdRiW",
        "outputId": "a6269dac-1a37-4b97-c18a-d4a48b6e2769"
      },
      "source": [
        "noticias.shape"
      ],
      "execution_count": null,
      "outputs": [
        {
          "output_type": "execute_result",
          "data": {
            "text/plain": [
              "(15, 3)"
            ]
          },
          "metadata": {
            "tags": []
          },
          "execution_count": 178
        }
      ]
    },
    {
      "cell_type": "code",
      "metadata": {
        "colab": {
          "base_uri": "https://localhost:8080/",
          "height": 204
        },
        "id": "nZ4h5IY2dZYR",
        "outputId": "5f1c0d2a-0c53-4239-bcac-5299f27df201"
      },
      "source": [
        "noticias.head()"
      ],
      "execution_count": null,
      "outputs": [
        {
          "output_type": "execute_result",
          "data": {
            "text/html": [
              "<div>\n",
              "<style scoped>\n",
              "    .dataframe tbody tr th:only-of-type {\n",
              "        vertical-align: middle;\n",
              "    }\n",
              "\n",
              "    .dataframe tbody tr th {\n",
              "        vertical-align: top;\n",
              "    }\n",
              "\n",
              "    .dataframe thead th {\n",
              "        text-align: right;\n",
              "    }\n",
              "</style>\n",
              "<table border=\"1\" class=\"dataframe\">\n",
              "  <thead>\n",
              "    <tr style=\"text-align: right;\">\n",
              "      <th></th>\n",
              "      <th>url</th>\n",
              "      <th>codigo</th>\n",
              "      <th>texto</th>\n",
              "    </tr>\n",
              "  </thead>\n",
              "  <tbody>\n",
              "    <tr>\n",
              "      <th>0</th>\n",
              "      <td>https://www.elespectador.com/mundo/america/qui...</td>\n",
              "      <td>1</td>\n",
              "      <td>El 28 de agosto de 2020 se desató en Nicaragua...</td>\n",
              "    </tr>\n",
              "    <tr>\n",
              "      <th>1</th>\n",
              "      <td>https://www.elespectador.com/mundo/america/qui...</td>\n",
              "      <td>2</td>\n",
              "      <td>La nueva ola represiva, que se desató hace dos...</td>\n",
              "    </tr>\n",
              "    <tr>\n",
              "      <th>2</th>\n",
              "      <td>https://www.elespectador.com/mundo/america/qui...</td>\n",
              "      <td>3</td>\n",
              "      <td>Le puede interesar: La tormenta latinoamericana</td>\n",
              "    </tr>\n",
              "    <tr>\n",
              "      <th>3</th>\n",
              "      <td>https://www.elespectador.com/mundo/america/qui...</td>\n",
              "      <td>4</td>\n",
              "      <td>¿Qué busca el clan Ortega? De acuerdo con Serg...</td>\n",
              "    </tr>\n",
              "    <tr>\n",
              "      <th>4</th>\n",
              "      <td>https://www.elespectador.com/mundo/america/qui...</td>\n",
              "      <td>5</td>\n",
              "      <td>Y nada parece detenerlo. Estados Unidos, Canad...</td>\n",
              "    </tr>\n",
              "  </tbody>\n",
              "</table>\n",
              "</div>"
            ],
            "text/plain": [
              "                                                 url  ...                                              texto\n",
              "0  https://www.elespectador.com/mundo/america/qui...  ...  El 28 de agosto de 2020 se desató en Nicaragua...\n",
              "1  https://www.elespectador.com/mundo/america/qui...  ...  La nueva ola represiva, que se desató hace dos...\n",
              "2  https://www.elespectador.com/mundo/america/qui...  ...    Le puede interesar: La tormenta latinoamericana\n",
              "3  https://www.elespectador.com/mundo/america/qui...  ...  ¿Qué busca el clan Ortega? De acuerdo con Serg...\n",
              "4  https://www.elespectador.com/mundo/america/qui...  ...  Y nada parece detenerlo. Estados Unidos, Canad...\n",
              "\n",
              "[5 rows x 3 columns]"
            ]
          },
          "metadata": {
            "tags": []
          },
          "execution_count": 179
        }
      ]
    },
    {
      "cell_type": "markdown",
      "metadata": {
        "id": "3oq0HibHeDAi"
      },
      "source": [
        "## Aplicaremos el pipeline a los párrafos cargados"
      ]
    },
    {
      "cell_type": "code",
      "metadata": {
        "colab": {
          "base_uri": "https://localhost:8080/",
          "height": 204
        },
        "id": "BvPER9tWeA7f",
        "outputId": "48c68e0c-3dc7-4524-97ec-44dfe4bc1f67"
      },
      "source": [
        "noticias['doc'] = noticias['texto'].apply(nlpSpa)\n",
        "noticias.head()"
      ],
      "execution_count": null,
      "outputs": [
        {
          "output_type": "execute_result",
          "data": {
            "text/html": [
              "<div>\n",
              "<style scoped>\n",
              "    .dataframe tbody tr th:only-of-type {\n",
              "        vertical-align: middle;\n",
              "    }\n",
              "\n",
              "    .dataframe tbody tr th {\n",
              "        vertical-align: top;\n",
              "    }\n",
              "\n",
              "    .dataframe thead th {\n",
              "        text-align: right;\n",
              "    }\n",
              "</style>\n",
              "<table border=\"1\" class=\"dataframe\">\n",
              "  <thead>\n",
              "    <tr style=\"text-align: right;\">\n",
              "      <th></th>\n",
              "      <th>url</th>\n",
              "      <th>codigo</th>\n",
              "      <th>texto</th>\n",
              "      <th>doc</th>\n",
              "    </tr>\n",
              "  </thead>\n",
              "  <tbody>\n",
              "    <tr>\n",
              "      <th>0</th>\n",
              "      <td>https://www.elespectador.com/mundo/america/qui...</td>\n",
              "      <td>1</td>\n",
              "      <td>El 28 de agosto de 2020 se desató en Nicaragua...</td>\n",
              "      <td>(El, 28, de, agosto, de, 2020, se, desató, en,...</td>\n",
              "    </tr>\n",
              "    <tr>\n",
              "      <th>1</th>\n",
              "      <td>https://www.elespectador.com/mundo/america/qui...</td>\n",
              "      <td>2</td>\n",
              "      <td>La nueva ola represiva, que se desató hace dos...</td>\n",
              "      <td>(La, nueva, ola, represiva, ,, que, se, desató...</td>\n",
              "    </tr>\n",
              "    <tr>\n",
              "      <th>2</th>\n",
              "      <td>https://www.elespectador.com/mundo/america/qui...</td>\n",
              "      <td>3</td>\n",
              "      <td>Le puede interesar: La tormenta latinoamericana</td>\n",
              "      <td>(Le, puede, interesar, :, La, tormenta, latino...</td>\n",
              "    </tr>\n",
              "    <tr>\n",
              "      <th>3</th>\n",
              "      <td>https://www.elespectador.com/mundo/america/qui...</td>\n",
              "      <td>4</td>\n",
              "      <td>¿Qué busca el clan Ortega? De acuerdo con Serg...</td>\n",
              "      <td>(¿, Qué, busca, el, clan, Ortega, ?, De, acuer...</td>\n",
              "    </tr>\n",
              "    <tr>\n",
              "      <th>4</th>\n",
              "      <td>https://www.elespectador.com/mundo/america/qui...</td>\n",
              "      <td>5</td>\n",
              "      <td>Y nada parece detenerlo. Estados Unidos, Canad...</td>\n",
              "      <td>(Y, nada, parece, detenerlo, ., Estados, Unido...</td>\n",
              "    </tr>\n",
              "  </tbody>\n",
              "</table>\n",
              "</div>"
            ],
            "text/plain": [
              "                                                 url  ...                                                doc\n",
              "0  https://www.elespectador.com/mundo/america/qui...  ...  (El, 28, de, agosto, de, 2020, se, desató, en,...\n",
              "1  https://www.elespectador.com/mundo/america/qui...  ...  (La, nueva, ola, represiva, ,, que, se, desató...\n",
              "2  https://www.elespectador.com/mundo/america/qui...  ...  (Le, puede, interesar, :, La, tormenta, latino...\n",
              "3  https://www.elespectador.com/mundo/america/qui...  ...  (¿, Qué, busca, el, clan, Ortega, ?, De, acuer...\n",
              "4  https://www.elespectador.com/mundo/america/qui...  ...  (Y, nada, parece, detenerlo, ., Estados, Unido...\n",
              "\n",
              "[5 rows x 4 columns]"
            ]
          },
          "metadata": {
            "tags": []
          },
          "execution_count": 180
        }
      ]
    },
    {
      "cell_type": "markdown",
      "metadata": {
        "id": "wehU0gq7edlN"
      },
      "source": [
        "## Revisión de entidades reconocidas"
      ]
    },
    {
      "cell_type": "code",
      "metadata": {
        "colab": {
          "base_uri": "https://localhost:8080/",
          "height": 1000
        },
        "id": "cD_UDqkMeg4u",
        "outputId": "2cceb9bd-6fd1-4517-9170-70f9b0a6cab7"
      },
      "source": [
        "from spacy import displacy\n",
        "# Entidades reconocidas\n",
        "for doc in noticias['doc']:\n",
        "  for ent in doc.ents[0:20]:\n",
        "    print('{:10} | {:50}'.format(ent.label_, ent.text))\n",
        "    # Se pueden visualizar también en el texto\n",
        "  displacy.render(doc,style='ent',jupyter=True)"
      ],
      "execution_count": null,
      "outputs": [
        {
          "output_type": "stream",
          "text": [
            "LOC        | en Nicaragua                                      \n",
            "PER        | Daniel Ortega                                     \n",
            "PER        | Rosario Murillo                                   \n",
            "ORG        | Organización de Víctimas de Abril                 \n"
          ],
          "name": "stdout"
        },
        {
          "output_type": "display_data",
          "data": {
            "text/html": [
              "<span class=\"tex2jax_ignore\"><div class=\"entities\" style=\"line-height: 2.5; direction: ltr\">El 28 de agosto de 2020 se desató \n",
              "<mark class=\"entity\" style=\"background: #ff9561; padding: 0.45em 0.6em; margin: 0 0.25em; line-height: 1; border-radius: 0.35em;\">\n",
              "    en Nicaragua\n",
              "    <span style=\"font-size: 0.8em; font-weight: bold; line-height: 1; border-radius: 0.35em; vertical-align: middle; margin-left: 0.5rem\">LOC</span>\n",
              "</mark>\n",
              " una crisis que está poniendo a prueba a la comunidad internacional: la detención de centenares de personas críticas del gobierno de \n",
              "<mark class=\"entity\" style=\"background: #ddd; padding: 0.45em 0.6em; margin: 0 0.25em; line-height: 1; border-radius: 0.35em;\">\n",
              "    Daniel Ortega\n",
              "    <span style=\"font-size: 0.8em; font-weight: bold; line-height: 1; border-radius: 0.35em; vertical-align: middle; margin-left: 0.5rem\">PER</span>\n",
              "</mark>\n",
              " y su esposa y vicepresidenta, \n",
              "<mark class=\"entity\" style=\"background: #ddd; padding: 0.45em 0.6em; margin: 0 0.25em; line-height: 1; border-radius: 0.35em;\">\n",
              "    Rosario Murillo\n",
              "    <span style=\"font-size: 0.8em; font-weight: bold; line-height: 1; border-radius: 0.35em; vertical-align: middle; margin-left: 0.5rem\">PER</span>\n",
              "</mark>\n",
              ". De acuerdo con la \n",
              "<mark class=\"entity\" style=\"background: #7aecec; padding: 0.45em 0.6em; margin: 0 0.25em; line-height: 1; border-radius: 0.35em;\">\n",
              "    Organización de Víctimas de Abril\n",
              "    <span style=\"font-size: 0.8em; font-weight: bold; line-height: 1; border-radius: 0.35em; vertical-align: middle; margin-left: 0.5rem\">ORG</span>\n",
              "</mark>\n",
              " (OVA), de los 156 “presos políticos”, como los califica la oposición, 146 fueron arrestados en el contexto de las protestas antigubernamentales de 2018. </div></span>"
            ],
            "text/plain": [
              "<IPython.core.display.HTML object>"
            ]
          },
          "metadata": {
            "tags": []
          }
        },
        {
          "output_type": "stream",
          "text": [
            "ORG        | Presidencia                                       \n"
          ],
          "name": "stdout"
        },
        {
          "output_type": "display_data",
          "data": {
            "text/html": [
              "<span class=\"tex2jax_ignore\"><div class=\"entities\" style=\"line-height: 2.5; direction: ltr\">La nueva ola represiva, que se desató hace dos meses, ha sumado 31 personas más tras las rejas: siete aspirantes a la \n",
              "<mark class=\"entity\" style=\"background: #7aecec; padding: 0.45em 0.6em; margin: 0 0.25em; line-height: 1; border-radius: 0.35em;\">\n",
              "    Presidencia\n",
              "    <span style=\"font-size: 0.8em; font-weight: bold; line-height: 1; border-radius: 0.35em; vertical-align: middle; margin-left: 0.5rem\">ORG</span>\n",
              "</mark>\n",
              ", un excanciller, dos exvicecancilleres, dos históricos exguerrilleros sandinistas disidentes, una defensora de derechos humanos, dos líderes campesinos, dos dirigentes estudiantiles, un dirigente empresarial, un banquero, una ex primera dama, un exdiputado, un periodista, un comentarista, tres trabajadores y cinco dirigentes opositores.</div></span>"
            ],
            "text/plain": [
              "<IPython.core.display.HTML object>"
            ]
          },
          "metadata": {
            "tags": []
          }
        },
        {
          "output_type": "stream",
          "text": [
            "/usr/local/lib/python3.7/dist-packages/spacy/displacy/__init__.py:191: UserWarning: [W006] No entities to visualize found in Doc object. If this is surprising to you, make sure the Doc was processed using a model that supports named entity recognition, and check the `doc.ents` property manually if necessary.\n",
            "  warnings.warn(Warnings.W006)\n"
          ],
          "name": "stderr"
        },
        {
          "output_type": "display_data",
          "data": {
            "text/html": [
              "<span class=\"tex2jax_ignore\"><div class=\"entities\" style=\"line-height: 2.5; direction: ltr\">Le puede interesar: La tormenta latinoamericana</div></span>"
            ],
            "text/plain": [
              "<IPython.core.display.HTML object>"
            ]
          },
          "metadata": {
            "tags": []
          }
        },
        {
          "output_type": "stream",
          "text": [
            "PER        | Ortega?                                           \n",
            "PER        | Sergio Ramírez                                    \n",
            "LOC        | Nicaragua                                         \n",
            "PER        | Daniel Ortega                                     \n",
            "PER        | Rosario Murillo                                   \n",
            "PER        | Somoza                                            \n",
            "ORG        | The New York Times                                \n"
          ],
          "name": "stdout"
        },
        {
          "output_type": "display_data",
          "data": {
            "text/html": [
              "<span class=\"tex2jax_ignore\"><div class=\"entities\" style=\"line-height: 2.5; direction: ltr\">¿Qué busca el clan \n",
              "<mark class=\"entity\" style=\"background: #ddd; padding: 0.45em 0.6em; margin: 0 0.25em; line-height: 1; border-radius: 0.35em;\">\n",
              "    Ortega?\n",
              "    <span style=\"font-size: 0.8em; font-weight: bold; line-height: 1; border-radius: 0.35em; vertical-align: middle; margin-left: 0.5rem\">PER</span>\n",
              "</mark>\n",
              " De acuerdo con \n",
              "<mark class=\"entity\" style=\"background: #ddd; padding: 0.45em 0.6em; margin: 0 0.25em; line-height: 1; border-radius: 0.35em;\">\n",
              "    Sergio Ramírez\n",
              "    <span style=\"font-size: 0.8em; font-weight: bold; line-height: 1; border-radius: 0.35em; vertical-align: middle; margin-left: 0.5rem\">PER</span>\n",
              "</mark>\n",
              ", exvicepresidente de \n",
              "<mark class=\"entity\" style=\"background: #ff9561; padding: 0.45em 0.6em; margin: 0 0.25em; line-height: 1; border-radius: 0.35em;\">\n",
              "    Nicaragua\n",
              "    <span style=\"font-size: 0.8em; font-weight: bold; line-height: 1; border-radius: 0.35em; vertical-align: middle; margin-left: 0.5rem\">LOC</span>\n",
              "</mark>\n",
              " y escritor, el plan maestro es impedir unas elecciones transparentes. “La decisión cerrada de \n",
              "<mark class=\"entity\" style=\"background: #ddd; padding: 0.45em 0.6em; margin: 0 0.25em; line-height: 1; border-radius: 0.35em;\">\n",
              "    Daniel Ortega\n",
              "    <span style=\"font-size: 0.8em; font-weight: bold; line-height: 1; border-radius: 0.35em; vertical-align: middle; margin-left: 0.5rem\">PER</span>\n",
              "</mark>\n",
              ", quien llegó por segunda vez a la presidencia en 2007, es reelegirse una vez más, junto con su esposa, la vicepresidenta \n",
              "<mark class=\"entity\" style=\"background: #ddd; padding: 0.45em 0.6em; margin: 0 0.25em; line-height: 1; border-radius: 0.35em;\">\n",
              "    Rosario Murillo\n",
              "    <span style=\"font-size: 0.8em; font-weight: bold; line-height: 1; border-radius: 0.35em; vertical-align: middle; margin-left: 0.5rem\">PER</span>\n",
              "</mark>\n",
              ". Así alcanzaría veinte años consecutivos de mando, sin contar los diez que gobernó en el período de la revolución en los años 80, con lo que superaría con creces a cualquier miembro de la familia \n",
              "<mark class=\"entity\" style=\"background: #ddd; padding: 0.45em 0.6em; margin: 0 0.25em; line-height: 1; border-radius: 0.35em;\">\n",
              "    Somoza\n",
              "    <span style=\"font-size: 0.8em; font-weight: bold; line-height: 1; border-radius: 0.35em; vertical-align: middle; margin-left: 0.5rem\">PER</span>\n",
              "</mark>\n",
              ", que gobernó el país directa o indirectamente entre 1937 y 1979”, escribió en una columna en el periódico \n",
              "<mark class=\"entity\" style=\"background: #7aecec; padding: 0.45em 0.6em; margin: 0 0.25em; line-height: 1; border-radius: 0.35em;\">\n",
              "    The New York Times\n",
              "    <span style=\"font-size: 0.8em; font-weight: bold; line-height: 1; border-radius: 0.35em; vertical-align: middle; margin-left: 0.5rem\">ORG</span>\n",
              "</mark>\n",
              ".</div></span>"
            ],
            "text/plain": [
              "<IPython.core.display.HTML object>"
            ]
          },
          "metadata": {
            "tags": []
          }
        },
        {
          "output_type": "stream",
          "text": [
            "LOC        | Estados Unidos                                    \n",
            "LOC        | Canadá                                            \n",
            "ORG        | Unión Europea                                     \n",
            "PER        | Ortega                                            \n",
            "LOC        | Rusia                                             \n",
            "MISC       | Sputnik V                                         \n",
            "PER        | Ortega                                            \n"
          ],
          "name": "stdout"
        },
        {
          "output_type": "display_data",
          "data": {
            "text/html": [
              "<span class=\"tex2jax_ignore\"><div class=\"entities\" style=\"line-height: 2.5; direction: ltr\">Y nada parece detenerlo. \n",
              "<mark class=\"entity\" style=\"background: #ff9561; padding: 0.45em 0.6em; margin: 0 0.25em; line-height: 1; border-radius: 0.35em;\">\n",
              "    Estados Unidos\n",
              "    <span style=\"font-size: 0.8em; font-weight: bold; line-height: 1; border-radius: 0.35em; vertical-align: middle; margin-left: 0.5rem\">LOC</span>\n",
              "</mark>\n",
              ", \n",
              "<mark class=\"entity\" style=\"background: #ff9561; padding: 0.45em 0.6em; margin: 0 0.25em; line-height: 1; border-radius: 0.35em;\">\n",
              "    Canadá\n",
              "    <span style=\"font-size: 0.8em; font-weight: bold; line-height: 1; border-radius: 0.35em; vertical-align: middle; margin-left: 0.5rem\">LOC</span>\n",
              "</mark>\n",
              " y la \n",
              "<mark class=\"entity\" style=\"background: #7aecec; padding: 0.45em 0.6em; margin: 0 0.25em; line-height: 1; border-radius: 0.35em;\">\n",
              "    Unión Europea\n",
              "    <span style=\"font-size: 0.8em; font-weight: bold; line-height: 1; border-radius: 0.35em; vertical-align: middle; margin-left: 0.5rem\">ORG</span>\n",
              "</mark>\n",
              " impusieron sanciones a varios miembros del gobierno de \n",
              "<mark class=\"entity\" style=\"background: #ddd; padding: 0.45em 0.6em; margin: 0 0.25em; line-height: 1; border-radius: 0.35em;\">\n",
              "    Ortega\n",
              "    <span style=\"font-size: 0.8em; font-weight: bold; line-height: 1; border-radius: 0.35em; vertical-align: middle; margin-left: 0.5rem\">PER</span>\n",
              "</mark>\n",
              "; no le importó y aceitó su maquinaria para establecer una alianza estratégica con \n",
              "<mark class=\"entity\" style=\"background: #ff9561; padding: 0.45em 0.6em; margin: 0 0.25em; line-height: 1; border-radius: 0.35em;\">\n",
              "    Rusia\n",
              "    <span style=\"font-size: 0.8em; font-weight: bold; line-height: 1; border-radius: 0.35em; vertical-align: middle; margin-left: 0.5rem\">LOC</span>\n",
              "</mark>\n",
              ", país con el que selló una “alianza técnico-militar”, que comprende compra de armas más modernas y entrenamiento de militares para condiciones específicas. Además, selló un acuerdo para la compra de vacunas \n",
              "<mark class=\"entity\" style=\"background: #ddd; padding: 0.45em 0.6em; margin: 0 0.25em; line-height: 1; border-radius: 0.35em;\">\n",
              "    Sputnik V\n",
              "    <span style=\"font-size: 0.8em; font-weight: bold; line-height: 1; border-radius: 0.35em; vertical-align: middle; margin-left: 0.5rem\">MISC</span>\n",
              "</mark>\n",
              " contra el coronavirus —pandemia que los \n",
              "<mark class=\"entity\" style=\"background: #ddd; padding: 0.45em 0.6em; margin: 0 0.25em; line-height: 1; border-radius: 0.35em;\">\n",
              "    Ortega\n",
              "    <span style=\"font-size: 0.8em; font-weight: bold; line-height: 1; border-radius: 0.35em; vertical-align: middle; margin-left: 0.5rem\">PER</span>\n",
              "</mark>\n",
              " negaron— y quieren producir el antídoto ruso en laboratorios del país.</div></span>"
            ],
            "text/plain": [
              "<IPython.core.display.HTML object>"
            ]
          },
          "metadata": {
            "tags": []
          }
        },
        {
          "output_type": "stream",
          "text": [
            "LOC        | Ay Nicaragua                                      \n",
            "PER        | Ortega                                            \n"
          ],
          "name": "stdout"
        },
        {
          "output_type": "display_data",
          "data": {
            "text/html": [
              "<span class=\"tex2jax_ignore\"><div class=\"entities\" style=\"line-height: 2.5; direction: ltr\">Le puede interesar: \n",
              "<mark class=\"entity\" style=\"background: #ff9561; padding: 0.45em 0.6em; margin: 0 0.25em; line-height: 1; border-radius: 0.35em;\">\n",
              "    Ay Nicaragua\n",
              "    <span style=\"font-size: 0.8em; font-weight: bold; line-height: 1; border-radius: 0.35em; vertical-align: middle; margin-left: 0.5rem\">LOC</span>\n",
              "</mark>\n",
              ", así se deshace \n",
              "<mark class=\"entity\" style=\"background: #ddd; padding: 0.45em 0.6em; margin: 0 0.25em; line-height: 1; border-radius: 0.35em;\">\n",
              "    Ortega\n",
              "    <span style=\"font-size: 0.8em; font-weight: bold; line-height: 1; border-radius: 0.35em; vertical-align: middle; margin-left: 0.5rem\">PER</span>\n",
              "</mark>\n",
              " de la oposición</div></span>"
            ],
            "text/plain": [
              "<IPython.core.display.HTML object>"
            ]
          },
          "metadata": {
            "tags": []
          }
        },
        {
          "output_type": "stream",
          "text": [
            "ORG        | Consejo de Derechos Humanos de las Naciones Unidas\n",
            "LOC        | en Nicaragua                                      \n",
            "PER        | Daniel Ortega                                     \n",
            "PER        | Rosario Murillo                                   \n",
            "PER        | Cynthia Arnson                                    \n",
            "PER        | Woodrow Wilson Center                             \n",
            "MISC       | Con ese escenario                                 \n",
            "PER        | Ortega                                            \n"
          ],
          "name": "stdout"
        },
        {
          "output_type": "display_data",
          "data": {
            "text/html": [
              "<span class=\"tex2jax_ignore\"><div class=\"entities\" style=\"line-height: 2.5; direction: ltr\">Una resolución del \n",
              "<mark class=\"entity\" style=\"background: #7aecec; padding: 0.45em 0.6em; margin: 0 0.25em; line-height: 1; border-radius: 0.35em;\">\n",
              "    Consejo de Derechos Humanos de las Naciones Unidas\n",
              "    <span style=\"font-size: 0.8em; font-weight: bold; line-height: 1; border-radius: 0.35em; vertical-align: middle; margin-left: 0.5rem\">ORG</span>\n",
              "</mark>\n",
              " en marzo le pidió dejar de “acosar y asediar a los opositores y disidentes políticos \n",
              "<mark class=\"entity\" style=\"background: #ff9561; padding: 0.45em 0.6em; margin: 0 0.25em; line-height: 1; border-radius: 0.35em;\">\n",
              "    en Nicaragua\n",
              "    <span style=\"font-size: 0.8em; font-weight: bold; line-height: 1; border-radius: 0.35em; vertical-align: middle; margin-left: 0.5rem\">LOC</span>\n",
              "</mark>\n",
              ", y que cesen las detenciones arbitrarias, las amenazas y otras formas de intimidación como método para reprimir la crítica; y pide, además, “liberar a todos aquellos arrestados ilegal o arbitrariamente. “\n",
              "<mark class=\"entity\" style=\"background: #ddd; padding: 0.45em 0.6em; margin: 0 0.25em; line-height: 1; border-radius: 0.35em;\">\n",
              "    Daniel Ortega\n",
              "    <span style=\"font-size: 0.8em; font-weight: bold; line-height: 1; border-radius: 0.35em; vertical-align: middle; margin-left: 0.5rem\">PER</span>\n",
              "</mark>\n",
              " ha demostrado, con las detenciones de candidatos presidenciales, líderes estudiantiles y del sector privado, que no va a permitir elecciones libres el próximo 7 de noviembre, porque sabe que va a perder. Y aunque la comunidad internacional ha reaccionado con una condena total, a él y a su esposa y vicepresidenta, \n",
              "<mark class=\"entity\" style=\"background: #ddd; padding: 0.45em 0.6em; margin: 0 0.25em; line-height: 1; border-radius: 0.35em;\">\n",
              "    Rosario Murillo\n",
              "    <span style=\"font-size: 0.8em; font-weight: bold; line-height: 1; border-radius: 0.35em; vertical-align: middle; margin-left: 0.5rem\">PER</span>\n",
              "</mark>\n",
              ", simplemente no les importa”, explicaba en este diario \n",
              "<mark class=\"entity\" style=\"background: #ddd; padding: 0.45em 0.6em; margin: 0 0.25em; line-height: 1; border-radius: 0.35em;\">\n",
              "    Cynthia Arnson\n",
              "    <span style=\"font-size: 0.8em; font-weight: bold; line-height: 1; border-radius: 0.35em; vertical-align: middle; margin-left: 0.5rem\">PER</span>\n",
              "</mark>\n",
              ", del \n",
              "<mark class=\"entity\" style=\"background: #ddd; padding: 0.45em 0.6em; margin: 0 0.25em; line-height: 1; border-radius: 0.35em;\">\n",
              "    Woodrow Wilson Center\n",
              "    <span style=\"font-size: 0.8em; font-weight: bold; line-height: 1; border-radius: 0.35em; vertical-align: middle; margin-left: 0.5rem\">PER</span>\n",
              "</mark>\n",
              ". \n",
              "<mark class=\"entity\" style=\"background: #ddd; padding: 0.45em 0.6em; margin: 0 0.25em; line-height: 1; border-radius: 0.35em;\">\n",
              "    Con ese escenario\n",
              "    <span style=\"font-size: 0.8em; font-weight: bold; line-height: 1; border-radius: 0.35em; vertical-align: middle; margin-left: 0.5rem\">MISC</span>\n",
              "</mark>\n",
              ", ¿quién detiene a \n",
              "<mark class=\"entity\" style=\"background: #ddd; padding: 0.45em 0.6em; margin: 0 0.25em; line-height: 1; border-radius: 0.35em;\">\n",
              "    Ortega\n",
              "    <span style=\"font-size: 0.8em; font-weight: bold; line-height: 1; border-radius: 0.35em; vertical-align: middle; margin-left: 0.5rem\">PER</span>\n",
              "</mark>\n",
              "?</div></span>"
            ],
            "text/plain": [
              "<IPython.core.display.HTML object>"
            ]
          },
          "metadata": {
            "tags": []
          }
        },
        {
          "output_type": "stream",
          "text": [
            "ORG        | Organización de Estados Americanos                \n",
            "ORG        | OEA                                               \n",
            "ORG        | Carta Democrática Interamericana                  \n",
            "ORG        | Carta Democrática Interamericana de la OEA        \n",
            "LOC        | Nicaragua                                         \n",
            "PER        | Daniel Ortega                                     \n"
          ],
          "name": "stdout"
        },
        {
          "output_type": "display_data",
          "data": {
            "text/html": [
              "<span class=\"tex2jax_ignore\"><div class=\"entities\" style=\"line-height: 2.5; direction: ltr\">Las miradas se posan sobre la \n",
              "<mark class=\"entity\" style=\"background: #7aecec; padding: 0.45em 0.6em; margin: 0 0.25em; line-height: 1; border-radius: 0.35em;\">\n",
              "    Organización de Estados Americanos\n",
              "    <span style=\"font-size: 0.8em; font-weight: bold; line-height: 1; border-radius: 0.35em; vertical-align: middle; margin-left: 0.5rem\">ORG</span>\n",
              "</mark>\n",
              " (\n",
              "<mark class=\"entity\" style=\"background: #7aecec; padding: 0.45em 0.6em; margin: 0 0.25em; line-height: 1; border-radius: 0.35em;\">\n",
              "    OEA\n",
              "    <span style=\"font-size: 0.8em; font-weight: bold; line-height: 1; border-radius: 0.35em; vertical-align: middle; margin-left: 0.5rem\">ORG</span>\n",
              "</mark>\n",
              "), que ya intentó una resolución de condena. En junio pasado, veinte expresidentes latinoamericanos le solicitaron de manera urgente la aplicación de la \n",
              "<mark class=\"entity\" style=\"background: #7aecec; padding: 0.45em 0.6em; margin: 0 0.25em; line-height: 1; border-radius: 0.35em;\">\n",
              "    Carta Democrática Interamericana\n",
              "    <span style=\"font-size: 0.8em; font-weight: bold; line-height: 1; border-radius: 0.35em; vertical-align: middle; margin-left: 0.5rem\">ORG</span>\n",
              "</mark>\n",
              ". ¿Qué pasaría entonces? Si se convoca el artículo 21 de la \n",
              "<mark class=\"entity\" style=\"background: #7aecec; padding: 0.45em 0.6em; margin: 0 0.25em; line-height: 1; border-radius: 0.35em;\">\n",
              "    Carta Democrática Interamericana de la OEA\n",
              "    <span style=\"font-size: 0.8em; font-weight: bold; line-height: 1; border-radius: 0.35em; vertical-align: middle; margin-left: 0.5rem\">ORG</span>\n",
              "</mark>\n",
              " se expulsaría a \n",
              "<mark class=\"entity\" style=\"background: #ff9561; padding: 0.45em 0.6em; margin: 0 0.25em; line-height: 1; border-radius: 0.35em;\">\n",
              "    Nicaragua\n",
              "    <span style=\"font-size: 0.8em; font-weight: bold; line-height: 1; border-radius: 0.35em; vertical-align: middle; margin-left: 0.5rem\">LOC</span>\n",
              "</mark>\n",
              " de ese órgano y se aislaría al presidente \n",
              "<mark class=\"entity\" style=\"background: #ddd; padding: 0.45em 0.6em; margin: 0 0.25em; line-height: 1; border-radius: 0.35em;\">\n",
              "    Daniel Ortega\n",
              "    <span style=\"font-size: 0.8em; font-weight: bold; line-height: 1; border-radius: 0.35em; vertical-align: middle; margin-left: 0.5rem\">PER</span>\n",
              "</mark>\n",
              " de la comunidad internacional.</div></span>"
            ],
            "text/plain": [
              "<IPython.core.display.HTML object>"
            ]
          },
          "metadata": {
            "tags": []
          }
        },
        {
          "output_type": "stream",
          "text": [
            "PER        | Daniel Ortega                                     \n"
          ],
          "name": "stdout"
        },
        {
          "output_type": "display_data",
          "data": {
            "text/html": [
              "<span class=\"tex2jax_ignore\"><div class=\"entities\" style=\"line-height: 2.5; direction: ltr\">Le puede interesar: La exreina que reta a \n",
              "<mark class=\"entity\" style=\"background: #ddd; padding: 0.45em 0.6em; margin: 0 0.25em; line-height: 1; border-radius: 0.35em;\">\n",
              "    Daniel Ortega\n",
              "    <span style=\"font-size: 0.8em; font-weight: bold; line-height: 1; border-radius: 0.35em; vertical-align: middle; margin-left: 0.5rem\">PER</span>\n",
              "</mark>\n",
              "</div></span>"
            ],
            "text/plain": [
              "<IPython.core.display.HTML object>"
            ]
          },
          "metadata": {
            "tags": []
          }
        },
        {
          "output_type": "stream",
          "text": [
            "PER        | Ortega                                            \n",
            "MISC       | A eso se                                          \n",
            "PER        | Salvador Sánchez Cerén                            \n",
            "LOC        | El Salvador                                       \n",
            "ORG        | Interpol                                          \n",
            "MISC       | Según las autoridades                             \n",
            "PER        | Sánchez Cerén                                     \n",
            "LOC        | Gobierno de Mauricio Funes                        \n",
            "PER        | Funes                                             \n",
            "LOC        | Nicaragua                                         \n"
          ],
          "name": "stdout"
        },
        {
          "output_type": "display_data",
          "data": {
            "text/html": [
              "<span class=\"tex2jax_ignore\"><div class=\"entities\" style=\"line-height: 2.5; direction: ltr\">Esta semana \n",
              "<mark class=\"entity\" style=\"background: #ddd; padding: 0.45em 0.6em; margin: 0 0.25em; line-height: 1; border-radius: 0.35em;\">\n",
              "    Ortega\n",
              "    <span style=\"font-size: 0.8em; font-weight: bold; line-height: 1; border-radius: 0.35em; vertical-align: middle; margin-left: 0.5rem\">PER</span>\n",
              "</mark>\n",
              " aumentó su desafío: ordenó el cierre de 24 organizaciones no gubernamentales que operan en su país, la mayoría médicas, acusándolas de incumplir las normas de funcionamiento, pero los afectados denuncian una represalia por criticar el manejo de la pandemia. \n",
              "<mark class=\"entity\" style=\"background: #ddd; padding: 0.45em 0.6em; margin: 0 0.25em; line-height: 1; border-radius: 0.35em;\">\n",
              "    A eso se\n",
              "    <span style=\"font-size: 0.8em; font-weight: bold; line-height: 1; border-radius: 0.35em; vertical-align: middle; margin-left: 0.5rem\">MISC</span>\n",
              "</mark>\n",
              " sumó otra polémica decisión: le otorgó la nacionalidad nicaragüense a \n",
              "<mark class=\"entity\" style=\"background: #ddd; padding: 0.45em 0.6em; margin: 0 0.25em; line-height: 1; border-radius: 0.35em;\">\n",
              "    Salvador Sánchez Cerén\n",
              "    <span style=\"font-size: 0.8em; font-weight: bold; line-height: 1; border-radius: 0.35em; vertical-align: middle; margin-left: 0.5rem\">PER</span>\n",
              "</mark>\n",
              ", expresidente de \n",
              "<mark class=\"entity\" style=\"background: #ff9561; padding: 0.45em 0.6em; margin: 0 0.25em; line-height: 1; border-radius: 0.35em;\">\n",
              "    El Salvador\n",
              "    <span style=\"font-size: 0.8em; font-weight: bold; line-height: 1; border-radius: 0.35em; vertical-align: middle; margin-left: 0.5rem\">LOC</span>\n",
              "</mark>\n",
              " de 2014 a 2019, buscado por la justicia de su país y por la \n",
              "<mark class=\"entity\" style=\"background: #7aecec; padding: 0.45em 0.6em; margin: 0 0.25em; line-height: 1; border-radius: 0.35em;\">\n",
              "    Interpol\n",
              "    <span style=\"font-size: 0.8em; font-weight: bold; line-height: 1; border-radius: 0.35em; vertical-align: middle; margin-left: 0.5rem\">ORG</span>\n",
              "</mark>\n",
              " por presunta corrupción. \n",
              "<mark class=\"entity\" style=\"background: #ddd; padding: 0.45em 0.6em; margin: 0 0.25em; line-height: 1; border-radius: 0.35em;\">\n",
              "    Según las autoridades\n",
              "    <span style=\"font-size: 0.8em; font-weight: bold; line-height: 1; border-radius: 0.35em; vertical-align: middle; margin-left: 0.5rem\">MISC</span>\n",
              "</mark>\n",
              " salvadoreñas, \n",
              "<mark class=\"entity\" style=\"background: #ddd; padding: 0.45em 0.6em; margin: 0 0.25em; line-height: 1; border-radius: 0.35em;\">\n",
              "    Sánchez Cerén\n",
              "    <span style=\"font-size: 0.8em; font-weight: bold; line-height: 1; border-radius: 0.35em; vertical-align: middle; margin-left: 0.5rem\">PER</span>\n",
              "</mark>\n",
              " recibió US$530.000 en sobresueldos irregulares cuando era vicepresidente (2009-2014), bajo el \n",
              "<mark class=\"entity\" style=\"background: #ff9561; padding: 0.45em 0.6em; margin: 0 0.25em; line-height: 1; border-radius: 0.35em;\">\n",
              "    Gobierno de Mauricio Funes\n",
              "    <span style=\"font-size: 0.8em; font-weight: bold; line-height: 1; border-radius: 0.35em; vertical-align: middle; margin-left: 0.5rem\">LOC</span>\n",
              "</mark>\n",
              ", quien a su vez es investigado por supuesta malversación de US$351 millones del presupuesto estatal. \n",
              "<mark class=\"entity\" style=\"background: #ddd; padding: 0.45em 0.6em; margin: 0 0.25em; line-height: 1; border-radius: 0.35em;\">\n",
              "    Funes\n",
              "    <span style=\"font-size: 0.8em; font-weight: bold; line-height: 1; border-radius: 0.35em; vertical-align: middle; margin-left: 0.5rem\">PER</span>\n",
              "</mark>\n",
              " también fue nacionalizado en \n",
              "<mark class=\"entity\" style=\"background: #ff9561; padding: 0.45em 0.6em; margin: 0 0.25em; line-height: 1; border-radius: 0.35em;\">\n",
              "    Nicaragua\n",
              "    <span style=\"font-size: 0.8em; font-weight: bold; line-height: 1; border-radius: 0.35em; vertical-align: middle; margin-left: 0.5rem\">LOC</span>\n",
              "</mark>\n",
              " en 2019.</div></span>"
            ],
            "text/plain": [
              "<IPython.core.display.HTML object>"
            ]
          },
          "metadata": {
            "tags": []
          }
        },
        {
          "output_type": "stream",
          "text": [
            "LOC        | España                                            \n",
            "ORG        | América Latina                                    \n",
            "ORG        | OEA                                               \n",
            "LOC        | Nicaragua                                         \n"
          ],
          "name": "stdout"
        },
        {
          "output_type": "display_data",
          "data": {
            "text/html": [
              "<span class=\"tex2jax_ignore\"><div class=\"entities\" style=\"line-height: 2.5; direction: ltr\">La semana pasada, un grupo de exgobernantes de \n",
              "<mark class=\"entity\" style=\"background: #ff9561; padding: 0.45em 0.6em; margin: 0 0.25em; line-height: 1; border-radius: 0.35em;\">\n",
              "    España\n",
              "    <span style=\"font-size: 0.8em; font-weight: bold; line-height: 1; border-radius: 0.35em; vertical-align: middle; margin-left: 0.5rem\">LOC</span>\n",
              "</mark>\n",
              " y \n",
              "<mark class=\"entity\" style=\"background: #7aecec; padding: 0.45em 0.6em; margin: 0 0.25em; line-height: 1; border-radius: 0.35em;\">\n",
              "    América Latina\n",
              "    <span style=\"font-size: 0.8em; font-weight: bold; line-height: 1; border-radius: 0.35em; vertical-align: middle; margin-left: 0.5rem\">ORG</span>\n",
              "</mark>\n",
              " instaron a la \n",
              "<mark class=\"entity\" style=\"background: #7aecec; padding: 0.45em 0.6em; margin: 0 0.25em; line-height: 1; border-radius: 0.35em;\">\n",
              "    OEA\n",
              "    <span style=\"font-size: 0.8em; font-weight: bold; line-height: 1; border-radius: 0.35em; vertical-align: middle; margin-left: 0.5rem\">ORG</span>\n",
              "</mark>\n",
              " a desplegar “acciones más efectivas” para que cesen las persecuciones y enjuiciamientos de quienes se oponen al “régimen dictatorial” de \n",
              "<mark class=\"entity\" style=\"background: #ff9561; padding: 0.45em 0.6em; margin: 0 0.25em; line-height: 1; border-radius: 0.35em;\">\n",
              "    Nicaragua\n",
              "    <span style=\"font-size: 0.8em; font-weight: bold; line-height: 1; border-radius: 0.35em; vertical-align: middle; margin-left: 0.5rem\">LOC</span>\n",
              "</mark>\n",
              ".</div></span>"
            ],
            "text/plain": [
              "<IPython.core.display.HTML object>"
            ]
          },
          "metadata": {
            "tags": []
          }
        },
        {
          "output_type": "stream",
          "text": [
            "ORG        | Iniciativa Democrática de España                  \n",
            "LOC        | Américas                                          \n",
            "ORG        | IDEA                                              \n",
            "LOC        | Nicaragua                                         \n"
          ],
          "name": "stdout"
        },
        {
          "output_type": "display_data",
          "data": {
            "text/html": [
              "<span class=\"tex2jax_ignore\"><div class=\"entities\" style=\"line-height: 2.5; direction: ltr\">Los exjefes de Estado y de gobierno participantes de la \n",
              "<mark class=\"entity\" style=\"background: #7aecec; padding: 0.45em 0.6em; margin: 0 0.25em; line-height: 1; border-radius: 0.35em;\">\n",
              "    Iniciativa Democrática de España\n",
              "    <span style=\"font-size: 0.8em; font-weight: bold; line-height: 1; border-radius: 0.35em; vertical-align: middle; margin-left: 0.5rem\">ORG</span>\n",
              "</mark>\n",
              " y las \n",
              "<mark class=\"entity\" style=\"background: #ff9561; padding: 0.45em 0.6em; margin: 0 0.25em; line-height: 1; border-radius: 0.35em;\">\n",
              "    Américas\n",
              "    <span style=\"font-size: 0.8em; font-weight: bold; line-height: 1; border-radius: 0.35em; vertical-align: middle; margin-left: 0.5rem\">LOC</span>\n",
              "</mark>\n",
              " (\n",
              "<mark class=\"entity\" style=\"background: #7aecec; padding: 0.45em 0.6em; margin: 0 0.25em; line-height: 1; border-radius: 0.35em;\">\n",
              "    IDEA\n",
              "    <span style=\"font-size: 0.8em; font-weight: bold; line-height: 1; border-radius: 0.35em; vertical-align: middle; margin-left: 0.5rem\">ORG</span>\n",
              "</mark>\n",
              ") señalaron en una declaración que “los gobiernos democráticos mal pueden permanecer indiferentes ante la muy grave situación” que atraviesa \n",
              "<mark class=\"entity\" style=\"background: #ff9561; padding: 0.45em 0.6em; margin: 0 0.25em; line-height: 1; border-radius: 0.35em;\">\n",
              "    Nicaragua\n",
              "    <span style=\"font-size: 0.8em; font-weight: bold; line-height: 1; border-radius: 0.35em; vertical-align: middle; margin-left: 0.5rem\">LOC</span>\n",
              "</mark>\n",
              ".</div></span>"
            ],
            "text/plain": [
              "<IPython.core.display.HTML object>"
            ]
          },
          "metadata": {
            "tags": []
          }
        },
        {
          "output_type": "stream",
          "text": [
            "ORG        | Carta Democrática                                 \n",
            "LOC        | Nicaragua                                         \n"
          ],
          "name": "stdout"
        },
        {
          "output_type": "display_data",
          "data": {
            "text/html": [
              "<span class=\"tex2jax_ignore\"><div class=\"entities\" style=\"line-height: 2.5; direction: ltr\">Le puede interesar: Activar la \n",
              "<mark class=\"entity\" style=\"background: #7aecec; padding: 0.45em 0.6em; margin: 0 0.25em; line-height: 1; border-radius: 0.35em;\">\n",
              "    Carta Democrática\n",
              "    <span style=\"font-size: 0.8em; font-weight: bold; line-height: 1; border-radius: 0.35em; vertical-align: middle; margin-left: 0.5rem\">ORG</span>\n",
              "</mark>\n",
              " con \n",
              "<mark class=\"entity\" style=\"background: #ff9561; padding: 0.45em 0.6em; margin: 0 0.25em; line-height: 1; border-radius: 0.35em;\">\n",
              "    Nicaragua\n",
              "    <span style=\"font-size: 0.8em; font-weight: bold; line-height: 1; border-radius: 0.35em; vertical-align: middle; margin-left: 0.5rem\">LOC</span>\n",
              "</mark>\n",
              ", piden expresidentes </div></span>"
            ],
            "text/plain": [
              "<IPython.core.display.HTML object>"
            ]
          },
          "metadata": {
            "tags": []
          }
        },
        {
          "output_type": "display_data",
          "data": {
            "text/html": [
              "<span class=\"tex2jax_ignore\"><div class=\"entities\" style=\"line-height: 2.5; direction: ltr\">Dicen que “no se deben obviar los mecanismos de defensa de la democracia que legítimamente provee el derecho internacional”. Y a los organismos multilaterales les señalan que “han de tener presentes las obligaciones de prevención que les imponen sus estatutos, ante situaciones que presagian transformarse en tragedias humanitarias”.</div></span>"
            ],
            "text/plain": [
              "<IPython.core.display.HTML object>"
            ]
          },
          "metadata": {
            "tags": []
          }
        },
        {
          "output_type": "stream",
          "text": [
            "PER        | Marco Rubio                                       \n",
            "LOC        | Florida                                           \n",
            "PER        | Joe Biden                                         \n",
            "PER        | Ortega                                            \n",
            "LOC        | en Nicaragua                                      \n"
          ],
          "name": "stdout"
        },
        {
          "output_type": "display_data",
          "data": {
            "text/html": [
              "<span class=\"tex2jax_ignore\"><div class=\"entities\" style=\"line-height: 2.5; direction: ltr\">Por su parte, \n",
              "<mark class=\"entity\" style=\"background: #ddd; padding: 0.45em 0.6em; margin: 0 0.25em; line-height: 1; border-radius: 0.35em;\">\n",
              "    Marco Rubio\n",
              "    <span style=\"font-size: 0.8em; font-weight: bold; line-height: 1; border-radius: 0.35em; vertical-align: middle; margin-left: 0.5rem\">PER</span>\n",
              "</mark>\n",
              ", senador republicano por \n",
              "<mark class=\"entity\" style=\"background: #ff9561; padding: 0.45em 0.6em; margin: 0 0.25em; line-height: 1; border-radius: 0.35em;\">\n",
              "    Florida\n",
              "    <span style=\"font-size: 0.8em; font-weight: bold; line-height: 1; border-radius: 0.35em; vertical-align: middle; margin-left: 0.5rem\">LOC</span>\n",
              "</mark>\n",
              ", le pidió a \n",
              "<mark class=\"entity\" style=\"background: #ddd; padding: 0.45em 0.6em; margin: 0 0.25em; line-height: 1; border-radius: 0.35em;\">\n",
              "    Joe Biden\n",
              "    <span style=\"font-size: 0.8em; font-weight: bold; line-height: 1; border-radius: 0.35em; vertical-align: middle; margin-left: 0.5rem\">PER</span>\n",
              "</mark>\n",
              " aumentar la presión; su gobierno ha suspendido las visas a más de cien funcionarios y en sus sanciones incluyó a hijos y nietos de \n",
              "<mark class=\"entity\" style=\"background: #ddd; padding: 0.45em 0.6em; margin: 0 0.25em; line-height: 1; border-radius: 0.35em;\">\n",
              "    Ortega\n",
              "    <span style=\"font-size: 0.8em; font-weight: bold; line-height: 1; border-radius: 0.35em; vertical-align: middle; margin-left: 0.5rem\">PER</span>\n",
              "</mark>\n",
              ". “No se puede guardar silencio mientras los derechos humanos de los nicaragüenses son golpeados por un dictador en el hemisferio occidental; el colapso de la democracia \n",
              "<mark class=\"entity\" style=\"background: #ff9561; padding: 0.45em 0.6em; margin: 0 0.25em; line-height: 1; border-radius: 0.35em;\">\n",
              "    en Nicaragua\n",
              "    <span style=\"font-size: 0.8em; font-weight: bold; line-height: 1; border-radius: 0.35em; vertical-align: middle; margin-left: 0.5rem\">LOC</span>\n",
              "</mark>\n",
              " representa una amenaza para los ciudadanos y para la estabilidad de la región”, advierte.</div></span>"
            ],
            "text/plain": [
              "<IPython.core.display.HTML object>"
            ]
          },
          "metadata": {
            "tags": []
          }
        }
      ]
    },
    {
      "cell_type": "code",
      "metadata": {
        "colab": {
          "base_uri": "https://localhost:8080/"
        },
        "id": "mZ0YsZwChOUG",
        "outputId": "983a23f2-fae7-4aa8-dc77-ac5e6e561255"
      },
      "source": [
        "# Para saber lo que significa cada etiqueta basta con usar explain\n",
        "print(spacy.explain('LOC'))"
      ],
      "execution_count": null,
      "outputs": [
        {
          "output_type": "stream",
          "text": [
            "Non-GPE locations, mountain ranges, bodies of water\n"
          ],
          "name": "stdout"
        }
      ]
    },
    {
      "cell_type": "markdown",
      "metadata": {
        "id": "fzpgYdabh9Lo"
      },
      "source": [
        "## Adicionaremos nuevas entidades\n",
        "Normalmente todos los proyectos tienen entidades especiales que deben reconocerse. Para tener estas entidades es importante contar con recursos de lenguaje que nos permitan realizar el reconocimiento de una manera más sencilla o conocer claramente las reglas para reconocerlas. A continuación crearemos una regla que permita reconocer una nueva entidad que corresponda a los cargos."
      ]
    },
    {
      "cell_type": "code",
      "metadata": {
        "id": "VJprR0pthSoy"
      },
      "source": [
        "# Usaremos el EntityRuler para poder definir nuevas reglas de reconocimiento de entidades\n",
        "from spacy.pipeline import EntityRuler"
      ],
      "execution_count": null,
      "outputs": []
    },
    {
      "cell_type": "code",
      "metadata": {
        "id": "opC79eDzftoZ"
      },
      "source": [
        "# Revisemos los proceso que ya están ejecutándose en el pipeline\n",
        "print(nlpSpa.pipe_names)"
      ],
      "execution_count": null,
      "outputs": []
    },
    {
      "cell_type": "code",
      "metadata": {
        "id": "hcbZmwK-5EXh"
      },
      "source": [
        "ruler = nlpSpa.add_pipe(\"entity_ruler\")\n",
        "cargos = [\"senador\", \"presidente\", \"mandatario\", \"expresidente\", \"exjefe\", \"canciller\", \"excanciller\", \"dirigente\", \"político\"]\n",
        "for c in cargos:\n",
        "    ruler.add_patterns([{\"label\": \"CAR\", \"pattern\": c}]) # Llamaremos CAR a los cargos reconocidos\n"
      ],
      "execution_count": null,
      "outputs": []
    },
    {
      "cell_type": "code",
      "metadata": {
        "id": "AarpkiJvgBbU"
      },
      "source": [
        "#nlpSpa.remove_pipe('entity_ruler')\n",
        "# ATENCION: Esta línea esta comentada para no borrar el proceso del pipeline, pero se puede usar para volver a configurar el proceso y volverlo a adicionar."
      ],
      "execution_count": null,
      "outputs": []
    },
    {
      "cell_type": "code",
      "metadata": {
        "colab": {
          "base_uri": "https://localhost:8080/"
        },
        "id": "xk3nbqimu-YE",
        "outputId": "a79d37d3-8e8c-496d-8a6a-58b6cd1c4ee8"
      },
      "source": [
        "doc3 = nlpSpa(\"el senador Carlos Moreno es bueno\") # Probemos la regla en un texto de prueba\n",
        "for ent in doc3.ents:\n",
        "    print(ent.text , '->', ent.label_)"
      ],
      "execution_count": null,
      "outputs": [
        {
          "output_type": "stream",
          "text": [
            "senador -> CAR\n",
            "Carlos Moreno -> PER\n"
          ],
          "name": "stdout"
        }
      ]
    },
    {
      "cell_type": "code",
      "metadata": {
        "colab": {
          "base_uri": "https://localhost:8080/"
        },
        "id": "lHQ7PVmSoxGQ",
        "outputId": "d177673f-f9bb-41ae-b3a4-ed73ef3f153d"
      },
      "source": [
        "# Observa que ahora hay un nuevo paso\n",
        "print(nlpSpa.pipe_names)"
      ],
      "execution_count": null,
      "outputs": [
        {
          "output_type": "stream",
          "text": [
            "['tok2vec', 'morphologizer', 'parser', 'attribute_ruler', 'lemmatizer', 'ner', 'entity_ruler']\n"
          ],
          "name": "stdout"
        }
      ]
    },
    {
      "cell_type": "markdown",
      "metadata": {
        "id": "_3d6ABV7kYcq"
      },
      "source": [
        "### Ahora nuevamente aplicaremos el pipeline"
      ]
    },
    {
      "cell_type": "code",
      "metadata": {
        "colab": {
          "base_uri": "https://localhost:8080/",
          "height": 204
        },
        "id": "faZndUn3kJlb",
        "outputId": "7b78ec9c-3c8d-4252-9cf9-bfe6d818a5c1"
      },
      "source": [
        "noticias['doc'] = noticias['texto'].apply(nlpSpa)\n",
        "noticias.head()"
      ],
      "execution_count": null,
      "outputs": [
        {
          "output_type": "execute_result",
          "data": {
            "text/html": [
              "<div>\n",
              "<style scoped>\n",
              "    .dataframe tbody tr th:only-of-type {\n",
              "        vertical-align: middle;\n",
              "    }\n",
              "\n",
              "    .dataframe tbody tr th {\n",
              "        vertical-align: top;\n",
              "    }\n",
              "\n",
              "    .dataframe thead th {\n",
              "        text-align: right;\n",
              "    }\n",
              "</style>\n",
              "<table border=\"1\" class=\"dataframe\">\n",
              "  <thead>\n",
              "    <tr style=\"text-align: right;\">\n",
              "      <th></th>\n",
              "      <th>url</th>\n",
              "      <th>codigo</th>\n",
              "      <th>texto</th>\n",
              "      <th>doc</th>\n",
              "    </tr>\n",
              "  </thead>\n",
              "  <tbody>\n",
              "    <tr>\n",
              "      <th>0</th>\n",
              "      <td>https://www.elespectador.com/mundo/america/qui...</td>\n",
              "      <td>1</td>\n",
              "      <td>El 28 de agosto de 2020 se desató en Nicaragua...</td>\n",
              "      <td>(El, 28, de, agosto, de, 2020, se, desató, en,...</td>\n",
              "    </tr>\n",
              "    <tr>\n",
              "      <th>1</th>\n",
              "      <td>https://www.elespectador.com/mundo/america/qui...</td>\n",
              "      <td>2</td>\n",
              "      <td>La nueva ola represiva, que se desató hace dos...</td>\n",
              "      <td>(La, nueva, ola, represiva, ,, que, se, desató...</td>\n",
              "    </tr>\n",
              "    <tr>\n",
              "      <th>2</th>\n",
              "      <td>https://www.elespectador.com/mundo/america/qui...</td>\n",
              "      <td>3</td>\n",
              "      <td>Le puede interesar: La tormenta latinoamericana</td>\n",
              "      <td>(Le, puede, interesar, :, La, tormenta, latino...</td>\n",
              "    </tr>\n",
              "    <tr>\n",
              "      <th>3</th>\n",
              "      <td>https://www.elespectador.com/mundo/america/qui...</td>\n",
              "      <td>4</td>\n",
              "      <td>¿Qué busca el clan Ortega? De acuerdo con Serg...</td>\n",
              "      <td>(¿, Qué, busca, el, clan, Ortega, ?, De, acuer...</td>\n",
              "    </tr>\n",
              "    <tr>\n",
              "      <th>4</th>\n",
              "      <td>https://www.elespectador.com/mundo/america/qui...</td>\n",
              "      <td>5</td>\n",
              "      <td>Y nada parece detenerlo. Estados Unidos, Canad...</td>\n",
              "      <td>(Y, nada, parece, detenerlo, ., Estados, Unido...</td>\n",
              "    </tr>\n",
              "  </tbody>\n",
              "</table>\n",
              "</div>"
            ],
            "text/plain": [
              "                                                 url  ...                                                doc\n",
              "0  https://www.elespectador.com/mundo/america/qui...  ...  (El, 28, de, agosto, de, 2020, se, desató, en,...\n",
              "1  https://www.elespectador.com/mundo/america/qui...  ...  (La, nueva, ola, represiva, ,, que, se, desató...\n",
              "2  https://www.elespectador.com/mundo/america/qui...  ...  (Le, puede, interesar, :, La, tormenta, latino...\n",
              "3  https://www.elespectador.com/mundo/america/qui...  ...  (¿, Qué, busca, el, clan, Ortega, ?, De, acuer...\n",
              "4  https://www.elespectador.com/mundo/america/qui...  ...  (Y, nada, parece, detenerlo, ., Estados, Unido...\n",
              "\n",
              "[5 rows x 4 columns]"
            ]
          },
          "metadata": {
            "tags": []
          },
          "execution_count": 189
        }
      ]
    },
    {
      "cell_type": "code",
      "metadata": {
        "colab": {
          "base_uri": "https://localhost:8080/",
          "height": 1000
        },
        "id": "UO6DIW8Akhyo",
        "outputId": "b683c57e-580c-4982-a386-e0442fed46fb"
      },
      "source": [
        "from spacy import displacy\n",
        "# Entidades reconocidas\n",
        "for doc in noticias['doc']:\n",
        "  for ent in doc.ents[0:20]:\n",
        "    print('{:10} | {:50}'.format(ent.label_, ent.text))\n",
        "    # Se pueden visualizar también en el texto\n",
        "  displacy.render(doc,style='ent',jupyter=True)"
      ],
      "execution_count": null,
      "outputs": [
        {
          "output_type": "stream",
          "text": [
            "LOC        | en Nicaragua                                      \n",
            "PER        | Daniel Ortega                                     \n",
            "PER        | Rosario Murillo                                   \n",
            "ORG        | Organización de Víctimas de Abril                 \n"
          ],
          "name": "stdout"
        },
        {
          "output_type": "display_data",
          "data": {
            "text/html": [
              "<span class=\"tex2jax_ignore\"><div class=\"entities\" style=\"line-height: 2.5; direction: ltr\">El 28 de agosto de 2020 se desató \n",
              "<mark class=\"entity\" style=\"background: #ff9561; padding: 0.45em 0.6em; margin: 0 0.25em; line-height: 1; border-radius: 0.35em;\">\n",
              "    en Nicaragua\n",
              "    <span style=\"font-size: 0.8em; font-weight: bold; line-height: 1; border-radius: 0.35em; vertical-align: middle; margin-left: 0.5rem\">LOC</span>\n",
              "</mark>\n",
              " una crisis que está poniendo a prueba a la comunidad internacional: la detención de centenares de personas críticas del gobierno de \n",
              "<mark class=\"entity\" style=\"background: #ddd; padding: 0.45em 0.6em; margin: 0 0.25em; line-height: 1; border-radius: 0.35em;\">\n",
              "    Daniel Ortega\n",
              "    <span style=\"font-size: 0.8em; font-weight: bold; line-height: 1; border-radius: 0.35em; vertical-align: middle; margin-left: 0.5rem\">PER</span>\n",
              "</mark>\n",
              " y su esposa y vicepresidenta, \n",
              "<mark class=\"entity\" style=\"background: #ddd; padding: 0.45em 0.6em; margin: 0 0.25em; line-height: 1; border-radius: 0.35em;\">\n",
              "    Rosario Murillo\n",
              "    <span style=\"font-size: 0.8em; font-weight: bold; line-height: 1; border-radius: 0.35em; vertical-align: middle; margin-left: 0.5rem\">PER</span>\n",
              "</mark>\n",
              ". De acuerdo con la \n",
              "<mark class=\"entity\" style=\"background: #7aecec; padding: 0.45em 0.6em; margin: 0 0.25em; line-height: 1; border-radius: 0.35em;\">\n",
              "    Organización de Víctimas de Abril\n",
              "    <span style=\"font-size: 0.8em; font-weight: bold; line-height: 1; border-radius: 0.35em; vertical-align: middle; margin-left: 0.5rem\">ORG</span>\n",
              "</mark>\n",
              " (OVA), de los 156 “presos políticos”, como los califica la oposición, 146 fueron arrestados en el contexto de las protestas antigubernamentales de 2018. </div></span>"
            ],
            "text/plain": [
              "<IPython.core.display.HTML object>"
            ]
          },
          "metadata": {
            "tags": []
          }
        },
        {
          "output_type": "stream",
          "text": [
            "ORG        | Presidencia                                       \n",
            "CAR        | excanciller                                       \n",
            "CAR        | dirigente                                         \n"
          ],
          "name": "stdout"
        },
        {
          "output_type": "display_data",
          "data": {
            "text/html": [
              "<span class=\"tex2jax_ignore\"><div class=\"entities\" style=\"line-height: 2.5; direction: ltr\">La nueva ola represiva, que se desató hace dos meses, ha sumado 31 personas más tras las rejas: siete aspirantes a la \n",
              "<mark class=\"entity\" style=\"background: #7aecec; padding: 0.45em 0.6em; margin: 0 0.25em; line-height: 1; border-radius: 0.35em;\">\n",
              "    Presidencia\n",
              "    <span style=\"font-size: 0.8em; font-weight: bold; line-height: 1; border-radius: 0.35em; vertical-align: middle; margin-left: 0.5rem\">ORG</span>\n",
              "</mark>\n",
              ", un \n",
              "<mark class=\"entity\" style=\"background: #ddd; padding: 0.45em 0.6em; margin: 0 0.25em; line-height: 1; border-radius: 0.35em;\">\n",
              "    excanciller\n",
              "    <span style=\"font-size: 0.8em; font-weight: bold; line-height: 1; border-radius: 0.35em; vertical-align: middle; margin-left: 0.5rem\">CAR</span>\n",
              "</mark>\n",
              ", dos exvicecancilleres, dos históricos exguerrilleros sandinistas disidentes, una defensora de derechos humanos, dos líderes campesinos, dos dirigentes estudiantiles, un \n",
              "<mark class=\"entity\" style=\"background: #ddd; padding: 0.45em 0.6em; margin: 0 0.25em; line-height: 1; border-radius: 0.35em;\">\n",
              "    dirigente\n",
              "    <span style=\"font-size: 0.8em; font-weight: bold; line-height: 1; border-radius: 0.35em; vertical-align: middle; margin-left: 0.5rem\">CAR</span>\n",
              "</mark>\n",
              " empresarial, un banquero, una ex primera dama, un exdiputado, un periodista, un comentarista, tres trabajadores y cinco dirigentes opositores.</div></span>"
            ],
            "text/plain": [
              "<IPython.core.display.HTML object>"
            ]
          },
          "metadata": {
            "tags": []
          }
        },
        {
          "output_type": "stream",
          "text": [
            "/usr/local/lib/python3.7/dist-packages/spacy/displacy/__init__.py:191: UserWarning: [W006] No entities to visualize found in Doc object. If this is surprising to you, make sure the Doc was processed using a model that supports named entity recognition, and check the `doc.ents` property manually if necessary.\n",
            "  warnings.warn(Warnings.W006)\n"
          ],
          "name": "stderr"
        },
        {
          "output_type": "display_data",
          "data": {
            "text/html": [
              "<span class=\"tex2jax_ignore\"><div class=\"entities\" style=\"line-height: 2.5; direction: ltr\">Le puede interesar: La tormenta latinoamericana</div></span>"
            ],
            "text/plain": [
              "<IPython.core.display.HTML object>"
            ]
          },
          "metadata": {
            "tags": []
          }
        },
        {
          "output_type": "stream",
          "text": [
            "PER        | Ortega?                                           \n",
            "PER        | Sergio Ramírez                                    \n",
            "LOC        | Nicaragua                                         \n",
            "PER        | Daniel Ortega                                     \n",
            "PER        | Rosario Murillo                                   \n",
            "PER        | Somoza                                            \n",
            "ORG        | The New York Times                                \n"
          ],
          "name": "stdout"
        },
        {
          "output_type": "display_data",
          "data": {
            "text/html": [
              "<span class=\"tex2jax_ignore\"><div class=\"entities\" style=\"line-height: 2.5; direction: ltr\">¿Qué busca el clan \n",
              "<mark class=\"entity\" style=\"background: #ddd; padding: 0.45em 0.6em; margin: 0 0.25em; line-height: 1; border-radius: 0.35em;\">\n",
              "    Ortega?\n",
              "    <span style=\"font-size: 0.8em; font-weight: bold; line-height: 1; border-radius: 0.35em; vertical-align: middle; margin-left: 0.5rem\">PER</span>\n",
              "</mark>\n",
              " De acuerdo con \n",
              "<mark class=\"entity\" style=\"background: #ddd; padding: 0.45em 0.6em; margin: 0 0.25em; line-height: 1; border-radius: 0.35em;\">\n",
              "    Sergio Ramírez\n",
              "    <span style=\"font-size: 0.8em; font-weight: bold; line-height: 1; border-radius: 0.35em; vertical-align: middle; margin-left: 0.5rem\">PER</span>\n",
              "</mark>\n",
              ", exvicepresidente de \n",
              "<mark class=\"entity\" style=\"background: #ff9561; padding: 0.45em 0.6em; margin: 0 0.25em; line-height: 1; border-radius: 0.35em;\">\n",
              "    Nicaragua\n",
              "    <span style=\"font-size: 0.8em; font-weight: bold; line-height: 1; border-radius: 0.35em; vertical-align: middle; margin-left: 0.5rem\">LOC</span>\n",
              "</mark>\n",
              " y escritor, el plan maestro es impedir unas elecciones transparentes. “La decisión cerrada de \n",
              "<mark class=\"entity\" style=\"background: #ddd; padding: 0.45em 0.6em; margin: 0 0.25em; line-height: 1; border-radius: 0.35em;\">\n",
              "    Daniel Ortega\n",
              "    <span style=\"font-size: 0.8em; font-weight: bold; line-height: 1; border-radius: 0.35em; vertical-align: middle; margin-left: 0.5rem\">PER</span>\n",
              "</mark>\n",
              ", quien llegó por segunda vez a la presidencia en 2007, es reelegirse una vez más, junto con su esposa, la vicepresidenta \n",
              "<mark class=\"entity\" style=\"background: #ddd; padding: 0.45em 0.6em; margin: 0 0.25em; line-height: 1; border-radius: 0.35em;\">\n",
              "    Rosario Murillo\n",
              "    <span style=\"font-size: 0.8em; font-weight: bold; line-height: 1; border-radius: 0.35em; vertical-align: middle; margin-left: 0.5rem\">PER</span>\n",
              "</mark>\n",
              ". Así alcanzaría veinte años consecutivos de mando, sin contar los diez que gobernó en el período de la revolución en los años 80, con lo que superaría con creces a cualquier miembro de la familia \n",
              "<mark class=\"entity\" style=\"background: #ddd; padding: 0.45em 0.6em; margin: 0 0.25em; line-height: 1; border-radius: 0.35em;\">\n",
              "    Somoza\n",
              "    <span style=\"font-size: 0.8em; font-weight: bold; line-height: 1; border-radius: 0.35em; vertical-align: middle; margin-left: 0.5rem\">PER</span>\n",
              "</mark>\n",
              ", que gobernó el país directa o indirectamente entre 1937 y 1979”, escribió en una columna en el periódico \n",
              "<mark class=\"entity\" style=\"background: #7aecec; padding: 0.45em 0.6em; margin: 0 0.25em; line-height: 1; border-radius: 0.35em;\">\n",
              "    The New York Times\n",
              "    <span style=\"font-size: 0.8em; font-weight: bold; line-height: 1; border-radius: 0.35em; vertical-align: middle; margin-left: 0.5rem\">ORG</span>\n",
              "</mark>\n",
              ".</div></span>"
            ],
            "text/plain": [
              "<IPython.core.display.HTML object>"
            ]
          },
          "metadata": {
            "tags": []
          }
        },
        {
          "output_type": "stream",
          "text": [
            "LOC        | Estados Unidos                                    \n",
            "LOC        | Canadá                                            \n",
            "ORG        | Unión Europea                                     \n",
            "PER        | Ortega                                            \n",
            "LOC        | Rusia                                             \n",
            "MISC       | Sputnik V                                         \n",
            "PER        | Ortega                                            \n"
          ],
          "name": "stdout"
        },
        {
          "output_type": "display_data",
          "data": {
            "text/html": [
              "<span class=\"tex2jax_ignore\"><div class=\"entities\" style=\"line-height: 2.5; direction: ltr\">Y nada parece detenerlo. \n",
              "<mark class=\"entity\" style=\"background: #ff9561; padding: 0.45em 0.6em; margin: 0 0.25em; line-height: 1; border-radius: 0.35em;\">\n",
              "    Estados Unidos\n",
              "    <span style=\"font-size: 0.8em; font-weight: bold; line-height: 1; border-radius: 0.35em; vertical-align: middle; margin-left: 0.5rem\">LOC</span>\n",
              "</mark>\n",
              ", \n",
              "<mark class=\"entity\" style=\"background: #ff9561; padding: 0.45em 0.6em; margin: 0 0.25em; line-height: 1; border-radius: 0.35em;\">\n",
              "    Canadá\n",
              "    <span style=\"font-size: 0.8em; font-weight: bold; line-height: 1; border-radius: 0.35em; vertical-align: middle; margin-left: 0.5rem\">LOC</span>\n",
              "</mark>\n",
              " y la \n",
              "<mark class=\"entity\" style=\"background: #7aecec; padding: 0.45em 0.6em; margin: 0 0.25em; line-height: 1; border-radius: 0.35em;\">\n",
              "    Unión Europea\n",
              "    <span style=\"font-size: 0.8em; font-weight: bold; line-height: 1; border-radius: 0.35em; vertical-align: middle; margin-left: 0.5rem\">ORG</span>\n",
              "</mark>\n",
              " impusieron sanciones a varios miembros del gobierno de \n",
              "<mark class=\"entity\" style=\"background: #ddd; padding: 0.45em 0.6em; margin: 0 0.25em; line-height: 1; border-radius: 0.35em;\">\n",
              "    Ortega\n",
              "    <span style=\"font-size: 0.8em; font-weight: bold; line-height: 1; border-radius: 0.35em; vertical-align: middle; margin-left: 0.5rem\">PER</span>\n",
              "</mark>\n",
              "; no le importó y aceitó su maquinaria para establecer una alianza estratégica con \n",
              "<mark class=\"entity\" style=\"background: #ff9561; padding: 0.45em 0.6em; margin: 0 0.25em; line-height: 1; border-radius: 0.35em;\">\n",
              "    Rusia\n",
              "    <span style=\"font-size: 0.8em; font-weight: bold; line-height: 1; border-radius: 0.35em; vertical-align: middle; margin-left: 0.5rem\">LOC</span>\n",
              "</mark>\n",
              ", país con el que selló una “alianza técnico-militar”, que comprende compra de armas más modernas y entrenamiento de militares para condiciones específicas. Además, selló un acuerdo para la compra de vacunas \n",
              "<mark class=\"entity\" style=\"background: #ddd; padding: 0.45em 0.6em; margin: 0 0.25em; line-height: 1; border-radius: 0.35em;\">\n",
              "    Sputnik V\n",
              "    <span style=\"font-size: 0.8em; font-weight: bold; line-height: 1; border-radius: 0.35em; vertical-align: middle; margin-left: 0.5rem\">MISC</span>\n",
              "</mark>\n",
              " contra el coronavirus —pandemia que los \n",
              "<mark class=\"entity\" style=\"background: #ddd; padding: 0.45em 0.6em; margin: 0 0.25em; line-height: 1; border-radius: 0.35em;\">\n",
              "    Ortega\n",
              "    <span style=\"font-size: 0.8em; font-weight: bold; line-height: 1; border-radius: 0.35em; vertical-align: middle; margin-left: 0.5rem\">PER</span>\n",
              "</mark>\n",
              " negaron— y quieren producir el antídoto ruso en laboratorios del país.</div></span>"
            ],
            "text/plain": [
              "<IPython.core.display.HTML object>"
            ]
          },
          "metadata": {
            "tags": []
          }
        },
        {
          "output_type": "stream",
          "text": [
            "LOC        | Ay Nicaragua                                      \n",
            "PER        | Ortega                                            \n"
          ],
          "name": "stdout"
        },
        {
          "output_type": "display_data",
          "data": {
            "text/html": [
              "<span class=\"tex2jax_ignore\"><div class=\"entities\" style=\"line-height: 2.5; direction: ltr\">Le puede interesar: \n",
              "<mark class=\"entity\" style=\"background: #ff9561; padding: 0.45em 0.6em; margin: 0 0.25em; line-height: 1; border-radius: 0.35em;\">\n",
              "    Ay Nicaragua\n",
              "    <span style=\"font-size: 0.8em; font-weight: bold; line-height: 1; border-radius: 0.35em; vertical-align: middle; margin-left: 0.5rem\">LOC</span>\n",
              "</mark>\n",
              ", así se deshace \n",
              "<mark class=\"entity\" style=\"background: #ddd; padding: 0.45em 0.6em; margin: 0 0.25em; line-height: 1; border-radius: 0.35em;\">\n",
              "    Ortega\n",
              "    <span style=\"font-size: 0.8em; font-weight: bold; line-height: 1; border-radius: 0.35em; vertical-align: middle; margin-left: 0.5rem\">PER</span>\n",
              "</mark>\n",
              " de la oposición</div></span>"
            ],
            "text/plain": [
              "<IPython.core.display.HTML object>"
            ]
          },
          "metadata": {
            "tags": []
          }
        },
        {
          "output_type": "stream",
          "text": [
            "ORG        | Consejo de Derechos Humanos de las Naciones Unidas\n",
            "LOC        | en Nicaragua                                      \n",
            "PER        | Daniel Ortega                                     \n",
            "PER        | Rosario Murillo                                   \n",
            "PER        | Cynthia Arnson                                    \n",
            "PER        | Woodrow Wilson Center                             \n",
            "MISC       | Con ese escenario                                 \n",
            "PER        | Ortega                                            \n"
          ],
          "name": "stdout"
        },
        {
          "output_type": "display_data",
          "data": {
            "text/html": [
              "<span class=\"tex2jax_ignore\"><div class=\"entities\" style=\"line-height: 2.5; direction: ltr\">Una resolución del \n",
              "<mark class=\"entity\" style=\"background: #7aecec; padding: 0.45em 0.6em; margin: 0 0.25em; line-height: 1; border-radius: 0.35em;\">\n",
              "    Consejo de Derechos Humanos de las Naciones Unidas\n",
              "    <span style=\"font-size: 0.8em; font-weight: bold; line-height: 1; border-radius: 0.35em; vertical-align: middle; margin-left: 0.5rem\">ORG</span>\n",
              "</mark>\n",
              " en marzo le pidió dejar de “acosar y asediar a los opositores y disidentes políticos \n",
              "<mark class=\"entity\" style=\"background: #ff9561; padding: 0.45em 0.6em; margin: 0 0.25em; line-height: 1; border-radius: 0.35em;\">\n",
              "    en Nicaragua\n",
              "    <span style=\"font-size: 0.8em; font-weight: bold; line-height: 1; border-radius: 0.35em; vertical-align: middle; margin-left: 0.5rem\">LOC</span>\n",
              "</mark>\n",
              ", y que cesen las detenciones arbitrarias, las amenazas y otras formas de intimidación como método para reprimir la crítica; y pide, además, “liberar a todos aquellos arrestados ilegal o arbitrariamente. “\n",
              "<mark class=\"entity\" style=\"background: #ddd; padding: 0.45em 0.6em; margin: 0 0.25em; line-height: 1; border-radius: 0.35em;\">\n",
              "    Daniel Ortega\n",
              "    <span style=\"font-size: 0.8em; font-weight: bold; line-height: 1; border-radius: 0.35em; vertical-align: middle; margin-left: 0.5rem\">PER</span>\n",
              "</mark>\n",
              " ha demostrado, con las detenciones de candidatos presidenciales, líderes estudiantiles y del sector privado, que no va a permitir elecciones libres el próximo 7 de noviembre, porque sabe que va a perder. Y aunque la comunidad internacional ha reaccionado con una condena total, a él y a su esposa y vicepresidenta, \n",
              "<mark class=\"entity\" style=\"background: #ddd; padding: 0.45em 0.6em; margin: 0 0.25em; line-height: 1; border-radius: 0.35em;\">\n",
              "    Rosario Murillo\n",
              "    <span style=\"font-size: 0.8em; font-weight: bold; line-height: 1; border-radius: 0.35em; vertical-align: middle; margin-left: 0.5rem\">PER</span>\n",
              "</mark>\n",
              ", simplemente no les importa”, explicaba en este diario \n",
              "<mark class=\"entity\" style=\"background: #ddd; padding: 0.45em 0.6em; margin: 0 0.25em; line-height: 1; border-radius: 0.35em;\">\n",
              "    Cynthia Arnson\n",
              "    <span style=\"font-size: 0.8em; font-weight: bold; line-height: 1; border-radius: 0.35em; vertical-align: middle; margin-left: 0.5rem\">PER</span>\n",
              "</mark>\n",
              ", del \n",
              "<mark class=\"entity\" style=\"background: #ddd; padding: 0.45em 0.6em; margin: 0 0.25em; line-height: 1; border-radius: 0.35em;\">\n",
              "    Woodrow Wilson Center\n",
              "    <span style=\"font-size: 0.8em; font-weight: bold; line-height: 1; border-radius: 0.35em; vertical-align: middle; margin-left: 0.5rem\">PER</span>\n",
              "</mark>\n",
              ". \n",
              "<mark class=\"entity\" style=\"background: #ddd; padding: 0.45em 0.6em; margin: 0 0.25em; line-height: 1; border-radius: 0.35em;\">\n",
              "    Con ese escenario\n",
              "    <span style=\"font-size: 0.8em; font-weight: bold; line-height: 1; border-radius: 0.35em; vertical-align: middle; margin-left: 0.5rem\">MISC</span>\n",
              "</mark>\n",
              ", ¿quién detiene a \n",
              "<mark class=\"entity\" style=\"background: #ddd; padding: 0.45em 0.6em; margin: 0 0.25em; line-height: 1; border-radius: 0.35em;\">\n",
              "    Ortega\n",
              "    <span style=\"font-size: 0.8em; font-weight: bold; line-height: 1; border-radius: 0.35em; vertical-align: middle; margin-left: 0.5rem\">PER</span>\n",
              "</mark>\n",
              "?</div></span>"
            ],
            "text/plain": [
              "<IPython.core.display.HTML object>"
            ]
          },
          "metadata": {
            "tags": []
          }
        },
        {
          "output_type": "stream",
          "text": [
            "ORG        | Organización de Estados Americanos                \n",
            "ORG        | OEA                                               \n",
            "ORG        | Carta Democrática Interamericana                  \n",
            "ORG        | Carta Democrática Interamericana de la OEA        \n",
            "LOC        | Nicaragua                                         \n",
            "CAR        | presidente                                        \n",
            "PER        | Daniel Ortega                                     \n"
          ],
          "name": "stdout"
        },
        {
          "output_type": "display_data",
          "data": {
            "text/html": [
              "<span class=\"tex2jax_ignore\"><div class=\"entities\" style=\"line-height: 2.5; direction: ltr\">Las miradas se posan sobre la \n",
              "<mark class=\"entity\" style=\"background: #7aecec; padding: 0.45em 0.6em; margin: 0 0.25em; line-height: 1; border-radius: 0.35em;\">\n",
              "    Organización de Estados Americanos\n",
              "    <span style=\"font-size: 0.8em; font-weight: bold; line-height: 1; border-radius: 0.35em; vertical-align: middle; margin-left: 0.5rem\">ORG</span>\n",
              "</mark>\n",
              " (\n",
              "<mark class=\"entity\" style=\"background: #7aecec; padding: 0.45em 0.6em; margin: 0 0.25em; line-height: 1; border-radius: 0.35em;\">\n",
              "    OEA\n",
              "    <span style=\"font-size: 0.8em; font-weight: bold; line-height: 1; border-radius: 0.35em; vertical-align: middle; margin-left: 0.5rem\">ORG</span>\n",
              "</mark>\n",
              "), que ya intentó una resolución de condena. En junio pasado, veinte expresidentes latinoamericanos le solicitaron de manera urgente la aplicación de la \n",
              "<mark class=\"entity\" style=\"background: #7aecec; padding: 0.45em 0.6em; margin: 0 0.25em; line-height: 1; border-radius: 0.35em;\">\n",
              "    Carta Democrática Interamericana\n",
              "    <span style=\"font-size: 0.8em; font-weight: bold; line-height: 1; border-radius: 0.35em; vertical-align: middle; margin-left: 0.5rem\">ORG</span>\n",
              "</mark>\n",
              ". ¿Qué pasaría entonces? Si se convoca el artículo 21 de la \n",
              "<mark class=\"entity\" style=\"background: #7aecec; padding: 0.45em 0.6em; margin: 0 0.25em; line-height: 1; border-radius: 0.35em;\">\n",
              "    Carta Democrática Interamericana de la OEA\n",
              "    <span style=\"font-size: 0.8em; font-weight: bold; line-height: 1; border-radius: 0.35em; vertical-align: middle; margin-left: 0.5rem\">ORG</span>\n",
              "</mark>\n",
              " se expulsaría a \n",
              "<mark class=\"entity\" style=\"background: #ff9561; padding: 0.45em 0.6em; margin: 0 0.25em; line-height: 1; border-radius: 0.35em;\">\n",
              "    Nicaragua\n",
              "    <span style=\"font-size: 0.8em; font-weight: bold; line-height: 1; border-radius: 0.35em; vertical-align: middle; margin-left: 0.5rem\">LOC</span>\n",
              "</mark>\n",
              " de ese órgano y se aislaría al \n",
              "<mark class=\"entity\" style=\"background: #ddd; padding: 0.45em 0.6em; margin: 0 0.25em; line-height: 1; border-radius: 0.35em;\">\n",
              "    presidente\n",
              "    <span style=\"font-size: 0.8em; font-weight: bold; line-height: 1; border-radius: 0.35em; vertical-align: middle; margin-left: 0.5rem\">CAR</span>\n",
              "</mark>\n",
              " \n",
              "<mark class=\"entity\" style=\"background: #ddd; padding: 0.45em 0.6em; margin: 0 0.25em; line-height: 1; border-radius: 0.35em;\">\n",
              "    Daniel Ortega\n",
              "    <span style=\"font-size: 0.8em; font-weight: bold; line-height: 1; border-radius: 0.35em; vertical-align: middle; margin-left: 0.5rem\">PER</span>\n",
              "</mark>\n",
              " de la comunidad internacional.</div></span>"
            ],
            "text/plain": [
              "<IPython.core.display.HTML object>"
            ]
          },
          "metadata": {
            "tags": []
          }
        },
        {
          "output_type": "stream",
          "text": [
            "PER        | Daniel Ortega                                     \n"
          ],
          "name": "stdout"
        },
        {
          "output_type": "display_data",
          "data": {
            "text/html": [
              "<span class=\"tex2jax_ignore\"><div class=\"entities\" style=\"line-height: 2.5; direction: ltr\">Le puede interesar: La exreina que reta a \n",
              "<mark class=\"entity\" style=\"background: #ddd; padding: 0.45em 0.6em; margin: 0 0.25em; line-height: 1; border-radius: 0.35em;\">\n",
              "    Daniel Ortega\n",
              "    <span style=\"font-size: 0.8em; font-weight: bold; line-height: 1; border-radius: 0.35em; vertical-align: middle; margin-left: 0.5rem\">PER</span>\n",
              "</mark>\n",
              "</div></span>"
            ],
            "text/plain": [
              "<IPython.core.display.HTML object>"
            ]
          },
          "metadata": {
            "tags": []
          }
        },
        {
          "output_type": "stream",
          "text": [
            "PER        | Ortega                                            \n",
            "MISC       | A eso se                                          \n",
            "PER        | Salvador Sánchez Cerén                            \n",
            "CAR        | expresidente                                      \n",
            "LOC        | El Salvador                                       \n",
            "ORG        | Interpol                                          \n",
            "MISC       | Según las autoridades                             \n",
            "PER        | Sánchez Cerén                                     \n",
            "LOC        | Gobierno de Mauricio Funes                        \n",
            "PER        | Funes                                             \n",
            "LOC        | Nicaragua                                         \n"
          ],
          "name": "stdout"
        },
        {
          "output_type": "display_data",
          "data": {
            "text/html": [
              "<span class=\"tex2jax_ignore\"><div class=\"entities\" style=\"line-height: 2.5; direction: ltr\">Esta semana \n",
              "<mark class=\"entity\" style=\"background: #ddd; padding: 0.45em 0.6em; margin: 0 0.25em; line-height: 1; border-radius: 0.35em;\">\n",
              "    Ortega\n",
              "    <span style=\"font-size: 0.8em; font-weight: bold; line-height: 1; border-radius: 0.35em; vertical-align: middle; margin-left: 0.5rem\">PER</span>\n",
              "</mark>\n",
              " aumentó su desafío: ordenó el cierre de 24 organizaciones no gubernamentales que operan en su país, la mayoría médicas, acusándolas de incumplir las normas de funcionamiento, pero los afectados denuncian una represalia por criticar el manejo de la pandemia. \n",
              "<mark class=\"entity\" style=\"background: #ddd; padding: 0.45em 0.6em; margin: 0 0.25em; line-height: 1; border-radius: 0.35em;\">\n",
              "    A eso se\n",
              "    <span style=\"font-size: 0.8em; font-weight: bold; line-height: 1; border-radius: 0.35em; vertical-align: middle; margin-left: 0.5rem\">MISC</span>\n",
              "</mark>\n",
              " sumó otra polémica decisión: le otorgó la nacionalidad nicaragüense a \n",
              "<mark class=\"entity\" style=\"background: #ddd; padding: 0.45em 0.6em; margin: 0 0.25em; line-height: 1; border-radius: 0.35em;\">\n",
              "    Salvador Sánchez Cerén\n",
              "    <span style=\"font-size: 0.8em; font-weight: bold; line-height: 1; border-radius: 0.35em; vertical-align: middle; margin-left: 0.5rem\">PER</span>\n",
              "</mark>\n",
              ", \n",
              "<mark class=\"entity\" style=\"background: #ddd; padding: 0.45em 0.6em; margin: 0 0.25em; line-height: 1; border-radius: 0.35em;\">\n",
              "    expresidente\n",
              "    <span style=\"font-size: 0.8em; font-weight: bold; line-height: 1; border-radius: 0.35em; vertical-align: middle; margin-left: 0.5rem\">CAR</span>\n",
              "</mark>\n",
              " de \n",
              "<mark class=\"entity\" style=\"background: #ff9561; padding: 0.45em 0.6em; margin: 0 0.25em; line-height: 1; border-radius: 0.35em;\">\n",
              "    El Salvador\n",
              "    <span style=\"font-size: 0.8em; font-weight: bold; line-height: 1; border-radius: 0.35em; vertical-align: middle; margin-left: 0.5rem\">LOC</span>\n",
              "</mark>\n",
              " de 2014 a 2019, buscado por la justicia de su país y por la \n",
              "<mark class=\"entity\" style=\"background: #7aecec; padding: 0.45em 0.6em; margin: 0 0.25em; line-height: 1; border-radius: 0.35em;\">\n",
              "    Interpol\n",
              "    <span style=\"font-size: 0.8em; font-weight: bold; line-height: 1; border-radius: 0.35em; vertical-align: middle; margin-left: 0.5rem\">ORG</span>\n",
              "</mark>\n",
              " por presunta corrupción. \n",
              "<mark class=\"entity\" style=\"background: #ddd; padding: 0.45em 0.6em; margin: 0 0.25em; line-height: 1; border-radius: 0.35em;\">\n",
              "    Según las autoridades\n",
              "    <span style=\"font-size: 0.8em; font-weight: bold; line-height: 1; border-radius: 0.35em; vertical-align: middle; margin-left: 0.5rem\">MISC</span>\n",
              "</mark>\n",
              " salvadoreñas, \n",
              "<mark class=\"entity\" style=\"background: #ddd; padding: 0.45em 0.6em; margin: 0 0.25em; line-height: 1; border-radius: 0.35em;\">\n",
              "    Sánchez Cerén\n",
              "    <span style=\"font-size: 0.8em; font-weight: bold; line-height: 1; border-radius: 0.35em; vertical-align: middle; margin-left: 0.5rem\">PER</span>\n",
              "</mark>\n",
              " recibió US$530.000 en sobresueldos irregulares cuando era vicepresidente (2009-2014), bajo el \n",
              "<mark class=\"entity\" style=\"background: #ff9561; padding: 0.45em 0.6em; margin: 0 0.25em; line-height: 1; border-radius: 0.35em;\">\n",
              "    Gobierno de Mauricio Funes\n",
              "    <span style=\"font-size: 0.8em; font-weight: bold; line-height: 1; border-radius: 0.35em; vertical-align: middle; margin-left: 0.5rem\">LOC</span>\n",
              "</mark>\n",
              ", quien a su vez es investigado por supuesta malversación de US$351 millones del presupuesto estatal. \n",
              "<mark class=\"entity\" style=\"background: #ddd; padding: 0.45em 0.6em; margin: 0 0.25em; line-height: 1; border-radius: 0.35em;\">\n",
              "    Funes\n",
              "    <span style=\"font-size: 0.8em; font-weight: bold; line-height: 1; border-radius: 0.35em; vertical-align: middle; margin-left: 0.5rem\">PER</span>\n",
              "</mark>\n",
              " también fue nacionalizado en \n",
              "<mark class=\"entity\" style=\"background: #ff9561; padding: 0.45em 0.6em; margin: 0 0.25em; line-height: 1; border-radius: 0.35em;\">\n",
              "    Nicaragua\n",
              "    <span style=\"font-size: 0.8em; font-weight: bold; line-height: 1; border-radius: 0.35em; vertical-align: middle; margin-left: 0.5rem\">LOC</span>\n",
              "</mark>\n",
              " en 2019.</div></span>"
            ],
            "text/plain": [
              "<IPython.core.display.HTML object>"
            ]
          },
          "metadata": {
            "tags": []
          }
        },
        {
          "output_type": "stream",
          "text": [
            "LOC        | España                                            \n",
            "ORG        | América Latina                                    \n",
            "ORG        | OEA                                               \n",
            "LOC        | Nicaragua                                         \n"
          ],
          "name": "stdout"
        },
        {
          "output_type": "display_data",
          "data": {
            "text/html": [
              "<span class=\"tex2jax_ignore\"><div class=\"entities\" style=\"line-height: 2.5; direction: ltr\">La semana pasada, un grupo de exgobernantes de \n",
              "<mark class=\"entity\" style=\"background: #ff9561; padding: 0.45em 0.6em; margin: 0 0.25em; line-height: 1; border-radius: 0.35em;\">\n",
              "    España\n",
              "    <span style=\"font-size: 0.8em; font-weight: bold; line-height: 1; border-radius: 0.35em; vertical-align: middle; margin-left: 0.5rem\">LOC</span>\n",
              "</mark>\n",
              " y \n",
              "<mark class=\"entity\" style=\"background: #7aecec; padding: 0.45em 0.6em; margin: 0 0.25em; line-height: 1; border-radius: 0.35em;\">\n",
              "    América Latina\n",
              "    <span style=\"font-size: 0.8em; font-weight: bold; line-height: 1; border-radius: 0.35em; vertical-align: middle; margin-left: 0.5rem\">ORG</span>\n",
              "</mark>\n",
              " instaron a la \n",
              "<mark class=\"entity\" style=\"background: #7aecec; padding: 0.45em 0.6em; margin: 0 0.25em; line-height: 1; border-radius: 0.35em;\">\n",
              "    OEA\n",
              "    <span style=\"font-size: 0.8em; font-weight: bold; line-height: 1; border-radius: 0.35em; vertical-align: middle; margin-left: 0.5rem\">ORG</span>\n",
              "</mark>\n",
              " a desplegar “acciones más efectivas” para que cesen las persecuciones y enjuiciamientos de quienes se oponen al “régimen dictatorial” de \n",
              "<mark class=\"entity\" style=\"background: #ff9561; padding: 0.45em 0.6em; margin: 0 0.25em; line-height: 1; border-radius: 0.35em;\">\n",
              "    Nicaragua\n",
              "    <span style=\"font-size: 0.8em; font-weight: bold; line-height: 1; border-radius: 0.35em; vertical-align: middle; margin-left: 0.5rem\">LOC</span>\n",
              "</mark>\n",
              ".</div></span>"
            ],
            "text/plain": [
              "<IPython.core.display.HTML object>"
            ]
          },
          "metadata": {
            "tags": []
          }
        },
        {
          "output_type": "stream",
          "text": [
            "ORG        | Iniciativa Democrática de España                  \n",
            "LOC        | Américas                                          \n",
            "ORG        | IDEA                                              \n",
            "LOC        | Nicaragua                                         \n"
          ],
          "name": "stdout"
        },
        {
          "output_type": "display_data",
          "data": {
            "text/html": [
              "<span class=\"tex2jax_ignore\"><div class=\"entities\" style=\"line-height: 2.5; direction: ltr\">Los exjefes de Estado y de gobierno participantes de la \n",
              "<mark class=\"entity\" style=\"background: #7aecec; padding: 0.45em 0.6em; margin: 0 0.25em; line-height: 1; border-radius: 0.35em;\">\n",
              "    Iniciativa Democrática de España\n",
              "    <span style=\"font-size: 0.8em; font-weight: bold; line-height: 1; border-radius: 0.35em; vertical-align: middle; margin-left: 0.5rem\">ORG</span>\n",
              "</mark>\n",
              " y las \n",
              "<mark class=\"entity\" style=\"background: #ff9561; padding: 0.45em 0.6em; margin: 0 0.25em; line-height: 1; border-radius: 0.35em;\">\n",
              "    Américas\n",
              "    <span style=\"font-size: 0.8em; font-weight: bold; line-height: 1; border-radius: 0.35em; vertical-align: middle; margin-left: 0.5rem\">LOC</span>\n",
              "</mark>\n",
              " (\n",
              "<mark class=\"entity\" style=\"background: #7aecec; padding: 0.45em 0.6em; margin: 0 0.25em; line-height: 1; border-radius: 0.35em;\">\n",
              "    IDEA\n",
              "    <span style=\"font-size: 0.8em; font-weight: bold; line-height: 1; border-radius: 0.35em; vertical-align: middle; margin-left: 0.5rem\">ORG</span>\n",
              "</mark>\n",
              ") señalaron en una declaración que “los gobiernos democráticos mal pueden permanecer indiferentes ante la muy grave situación” que atraviesa \n",
              "<mark class=\"entity\" style=\"background: #ff9561; padding: 0.45em 0.6em; margin: 0 0.25em; line-height: 1; border-radius: 0.35em;\">\n",
              "    Nicaragua\n",
              "    <span style=\"font-size: 0.8em; font-weight: bold; line-height: 1; border-radius: 0.35em; vertical-align: middle; margin-left: 0.5rem\">LOC</span>\n",
              "</mark>\n",
              ".</div></span>"
            ],
            "text/plain": [
              "<IPython.core.display.HTML object>"
            ]
          },
          "metadata": {
            "tags": []
          }
        },
        {
          "output_type": "stream",
          "text": [
            "ORG        | Carta Democrática                                 \n",
            "LOC        | Nicaragua                                         \n"
          ],
          "name": "stdout"
        },
        {
          "output_type": "display_data",
          "data": {
            "text/html": [
              "<span class=\"tex2jax_ignore\"><div class=\"entities\" style=\"line-height: 2.5; direction: ltr\">Le puede interesar: Activar la \n",
              "<mark class=\"entity\" style=\"background: #7aecec; padding: 0.45em 0.6em; margin: 0 0.25em; line-height: 1; border-radius: 0.35em;\">\n",
              "    Carta Democrática\n",
              "    <span style=\"font-size: 0.8em; font-weight: bold; line-height: 1; border-radius: 0.35em; vertical-align: middle; margin-left: 0.5rem\">ORG</span>\n",
              "</mark>\n",
              " con \n",
              "<mark class=\"entity\" style=\"background: #ff9561; padding: 0.45em 0.6em; margin: 0 0.25em; line-height: 1; border-radius: 0.35em;\">\n",
              "    Nicaragua\n",
              "    <span style=\"font-size: 0.8em; font-weight: bold; line-height: 1; border-radius: 0.35em; vertical-align: middle; margin-left: 0.5rem\">LOC</span>\n",
              "</mark>\n",
              ", piden expresidentes </div></span>"
            ],
            "text/plain": [
              "<IPython.core.display.HTML object>"
            ]
          },
          "metadata": {
            "tags": []
          }
        },
        {
          "output_type": "display_data",
          "data": {
            "text/html": [
              "<span class=\"tex2jax_ignore\"><div class=\"entities\" style=\"line-height: 2.5; direction: ltr\">Dicen que “no se deben obviar los mecanismos de defensa de la democracia que legítimamente provee el derecho internacional”. Y a los organismos multilaterales les señalan que “han de tener presentes las obligaciones de prevención que les imponen sus estatutos, ante situaciones que presagian transformarse en tragedias humanitarias”.</div></span>"
            ],
            "text/plain": [
              "<IPython.core.display.HTML object>"
            ]
          },
          "metadata": {
            "tags": []
          }
        },
        {
          "output_type": "stream",
          "text": [
            "PER        | Marco Rubio                                       \n",
            "CAR        | senador                                           \n",
            "LOC        | Florida                                           \n",
            "PER        | Joe Biden                                         \n",
            "PER        | Ortega                                            \n",
            "LOC        | en Nicaragua                                      \n"
          ],
          "name": "stdout"
        },
        {
          "output_type": "display_data",
          "data": {
            "text/html": [
              "<span class=\"tex2jax_ignore\"><div class=\"entities\" style=\"line-height: 2.5; direction: ltr\">Por su parte, \n",
              "<mark class=\"entity\" style=\"background: #ddd; padding: 0.45em 0.6em; margin: 0 0.25em; line-height: 1; border-radius: 0.35em;\">\n",
              "    Marco Rubio\n",
              "    <span style=\"font-size: 0.8em; font-weight: bold; line-height: 1; border-radius: 0.35em; vertical-align: middle; margin-left: 0.5rem\">PER</span>\n",
              "</mark>\n",
              ", \n",
              "<mark class=\"entity\" style=\"background: #ddd; padding: 0.45em 0.6em; margin: 0 0.25em; line-height: 1; border-radius: 0.35em;\">\n",
              "    senador\n",
              "    <span style=\"font-size: 0.8em; font-weight: bold; line-height: 1; border-radius: 0.35em; vertical-align: middle; margin-left: 0.5rem\">CAR</span>\n",
              "</mark>\n",
              " republicano por \n",
              "<mark class=\"entity\" style=\"background: #ff9561; padding: 0.45em 0.6em; margin: 0 0.25em; line-height: 1; border-radius: 0.35em;\">\n",
              "    Florida\n",
              "    <span style=\"font-size: 0.8em; font-weight: bold; line-height: 1; border-radius: 0.35em; vertical-align: middle; margin-left: 0.5rem\">LOC</span>\n",
              "</mark>\n",
              ", le pidió a \n",
              "<mark class=\"entity\" style=\"background: #ddd; padding: 0.45em 0.6em; margin: 0 0.25em; line-height: 1; border-radius: 0.35em;\">\n",
              "    Joe Biden\n",
              "    <span style=\"font-size: 0.8em; font-weight: bold; line-height: 1; border-radius: 0.35em; vertical-align: middle; margin-left: 0.5rem\">PER</span>\n",
              "</mark>\n",
              " aumentar la presión; su gobierno ha suspendido las visas a más de cien funcionarios y en sus sanciones incluyó a hijos y nietos de \n",
              "<mark class=\"entity\" style=\"background: #ddd; padding: 0.45em 0.6em; margin: 0 0.25em; line-height: 1; border-radius: 0.35em;\">\n",
              "    Ortega\n",
              "    <span style=\"font-size: 0.8em; font-weight: bold; line-height: 1; border-radius: 0.35em; vertical-align: middle; margin-left: 0.5rem\">PER</span>\n",
              "</mark>\n",
              ". “No se puede guardar silencio mientras los derechos humanos de los nicaragüenses son golpeados por un dictador en el hemisferio occidental; el colapso de la democracia \n",
              "<mark class=\"entity\" style=\"background: #ff9561; padding: 0.45em 0.6em; margin: 0 0.25em; line-height: 1; border-radius: 0.35em;\">\n",
              "    en Nicaragua\n",
              "    <span style=\"font-size: 0.8em; font-weight: bold; line-height: 1; border-radius: 0.35em; vertical-align: middle; margin-left: 0.5rem\">LOC</span>\n",
              "</mark>\n",
              " representa una amenaza para los ciudadanos y para la estabilidad de la región”, advierte.</div></span>"
            ],
            "text/plain": [
              "<IPython.core.display.HTML object>"
            ]
          },
          "metadata": {
            "tags": []
          }
        }
      ]
    },
    {
      "cell_type": "markdown",
      "metadata": {
        "id": "xClNmKykhaGh"
      },
      "source": [
        "## Ahora tú: 4\n",
        "Adiciona más entidades y agrégalas al Entity Ruler"
      ]
    },
    {
      "cell_type": "code",
      "metadata": {
        "id": "hmNsWsarhZ0s"
      },
      "source": [
        "# Escribe acá tu código"
      ],
      "execution_count": null,
      "outputs": []
    },
    {
      "cell_type": "markdown",
      "metadata": {
        "id": "VX9ER1E-hmYB"
      },
      "source": [
        "## Ahora tú: 5\n",
        "Grafica en una nube de palabra solo las entidades nombradas, las anteriores y las que acabas de generar."
      ]
    },
    {
      "cell_type": "code",
      "metadata": {
        "id": "Mjx-r5YKhu2w"
      },
      "source": [
        "# Escribe acá tu código"
      ],
      "execution_count": null,
      "outputs": []
    }
  ]
}
